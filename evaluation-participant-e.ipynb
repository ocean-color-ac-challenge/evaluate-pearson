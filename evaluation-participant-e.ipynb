{
 "cells": [
  {
   "cell_type": "markdown",
   "metadata": {},
   "source": [
    "# E-CEO Challenge #3 Evaluation"
   ]
  },
  {
   "cell_type": "markdown",
   "metadata": {},
   "source": [
    "### Weights\n",
    "\n",
    "Define the weight of each wavelength"
   ]
  },
  {
   "cell_type": "code",
   "execution_count": 1,
   "metadata": {
    "collapsed": true
   },
   "outputs": [],
   "source": [
    "w_412 = 0.56\n",
    "w_443 = 0.73\n",
    "w_490 = 0.71\n",
    "w_510 = 0.36\n",
    "w_560 = 0.01"
   ]
  },
  {
   "cell_type": "markdown",
   "metadata": {},
   "source": [
    "### Run\n",
    "\n",
    "Provide the run information:\n",
    "* run id\n",
    "* run metalink containing the 3 by 3 kernel extractions\n",
    "* participant"
   ]
  },
  {
   "cell_type": "code",
   "execution_count": 2,
   "metadata": {
    "collapsed": true
   },
   "outputs": [],
   "source": [
    "run_id = '0000006-150701000046181-oozie-oozi-W'\n",
    "run_meta = 'http://sb-10-16-10-55.dev.terradue.int:50075/streamFile/ciop/run/participant-e/0000006-150701000046181-oozie-oozi-W/results.metalink?'\n",
    "participant = 'participant-e'"
   ]
  },
  {
   "cell_type": "markdown",
   "metadata": {},
   "source": [
    "### Define all imports in a single cell"
   ]
  },
  {
   "cell_type": "code",
   "execution_count": 3,
   "metadata": {
    "collapsed": true
   },
   "outputs": [],
   "source": [
    "import glob\n",
    "import pandas as pd\n",
    "from scipy.stats.stats import pearsonr\n",
    "import numpy\n",
    "import math"
   ]
  },
  {
   "cell_type": "markdown",
   "metadata": {},
   "source": [
    "### Manage run results\n",
    "\n",
    "Download the results and aggregate them in a single Pandas dataframe"
   ]
  },
  {
   "cell_type": "code",
   "execution_count": 4,
   "metadata": {
    "collapsed": false
   },
   "outputs": [
    {
     "name": "stdout",
     "output_type": "stream",
     "text": [
      "  % Total    % Received % Xferd  Average Speed   Time    Time     Time  Current\n",
      "                                 Dload  Upload   Total   Spent    Left  Speed\n",
      "100  105k  100  105k    0     0  11.9M      0 --:--:-- --:--:-- --:--:-- 17.2M\n",
      "\n",
      "08/26 11:19:42 [\u001b[1;32mNOTICE\u001b[0m] Download complete: participant-e/MER_FRS_1PPEPA20021210_203056_000001072012_00014_04076_1811.dim.txt\n",
      "\n",
      "08/26 11:19:42 [\u001b[1;32mNOTICE\u001b[0m] Download complete: participant-e/MER_FRS_1PPEPA20021213_203634_000001072012_00057_04119_1839.dim.txt\n",
      "\n",
      "08/26 11:19:42 [\u001b[1;32mNOTICE\u001b[0m] Download complete: participant-e/MER_FRS_1PPEPA20021127_203927_000001092011_00329_03890_1715.dim.txt\n",
      "\n",
      "08/26 11:19:42 [\u001b[1;32mNOTICE\u001b[0m] Download complete: participant-e/MER_FRS_1PPEPA20020813_091828_000002332008_00308_02366_1250.dim.txt\n",
      "\n",
      "08/26 11:19:42 [\u001b[1;32mNOTICE\u001b[0m] Download complete: participant-e/MER_FRS_1PPEPA20020819_092735_000005092008_00394_02452_1273.dim.txt\n",
      "\n",
      "08/26 11:19:42 [\u001b[1;32mNOTICE\u001b[0m] Download complete: participant-e/MER_FRS_1PPEPA20021108_203637_000001072011_00057_03618_1637.dim.txt\n",
      "\n",
      "08/26 11:19:42 [\u001b[1;32mNOTICE\u001b[0m] Download complete: participant-e/MER_FRS_1PPEPA20021219_204805_000000922012_00143_04205_1894.dim.txt\n",
      "\n",
      "08/26 11:19:42 [\u001b[1;32mNOTICE\u001b[0m] Download complete: participant-e/MER_FRS_1PPEPA20030117_203635_000001072013_00057_04620_2153.dim.txt\n",
      "\n",
      "08/26 11:19:42 [\u001b[1;32mNOTICE\u001b[0m] Download complete: participant-e/MER_FRS_1PPEPA20030306_202752_000001942014_00243_05307_2670.dim.txt\n",
      "\n",
      "08/26 11:19:42 [\u001b[1;32mNOTICE\u001b[0m] Download complete: participant-e/MER_FRS_1PPEPA20030202_203345_000001212013_00286_04849_2336.dim.txt\n",
      "\n",
      "08/26 11:19:42 [\u001b[1;32mNOTICE\u001b[0m] Download complete: participant-e/MER_FRS_1PPEPA20030218_203054_000001072014_00014_05078_2497.dim.txt\n",
      "\n",
      "08/26 11:19:42 [\u001b[1;32mNOTICE\u001b[0m] Download complete: participant-e/MER_FRS_1PPEPA20030501_091752_000004782016_00036_06102_3361.dim.txt\n",
      "\n",
      "08/26 11:19:42 [\u001b[1;32mNOTICE\u001b[0m] Download complete: participant-e/MER_FRS_1PPEPA20030526_093145_000001972016_00394_06460_3564.dim.txt\n",
      "\n",
      "08/26 11:19:42 [\u001b[1;32mNOTICE\u001b[0m] Download complete: participant-e/MER_FRS_1PPEPA20030205_203925_000001092013_00329_04892_2366.dim.txt\n",
      "\n",
      "08/26 11:19:42 [\u001b[1;32mNOTICE\u001b[0m] Download complete: participant-e/MER_FRS_1PPEPA20030812_203105_000001072019_00014_07583_5397.dim.txt\n",
      "\n",
      "08/26 11:19:42 [\u001b[1;32mNOTICE\u001b[0m] Download complete: participant-e/MER_FRS_1PPEPA20030926_100439_000001942020_00151_08221_6522.dim.txt\n",
      "\n",
      "08/26 11:19:42 [\u001b[1;32mNOTICE\u001b[0m] Download complete: participant-e/MER_FRS_1PPEPA20030507_092912_000004732016_00122_06188_3417.dim.txt\n",
      "\n",
      "08/26 11:19:42 [\u001b[1;32mNOTICE\u001b[0m] Download complete: participant-e/MER_FRS_1PPEPA20030916_203107_000001072020_00014_08084_6243.dim.txt\n",
      "\n",
      "08/26 11:19:42 [\u001b[1;32mNOTICE\u001b[0m] Download complete: participant-e/MER_FRS_1PPEPA20030902_091613_000003152019_00308_07877_5948.dim.txt\n",
      "\n",
      "08/26 11:19:42 [\u001b[1;32mNOTICE\u001b[0m] Download complete: participant-e/MER_FRS_1PPEPA20031010_092150_000005122020_00351_08421_6960.dim.txt\n",
      "\n",
      "08/26 11:19:42 [\u001b[1;32mNOTICE\u001b[0m] Download complete: participant-e/MER_FRS_1PPEPA20031005_203355_000001072020_00286_08356_6821.dim.txt\n",
      "\n",
      "08/26 11:19:42 [\u001b[1;32mNOTICE\u001b[0m] Download complete: participant-e/MER_FRS_1PPEPA20030930_093340_000005092020_00208_08278_6654.dim.txt\n",
      "\n",
      "08/26 11:19:42 [\u001b[1;32mNOTICE\u001b[0m] Download complete: participant-e/MER_FRS_1PPEPA20031016_093556_000001682020_00437_08507_7084.dim.txt\n",
      "\n",
      "08/26 11:19:42 [\u001b[1;32mNOTICE\u001b[0m] Download complete: participant-e/MER_FRS_1PPEPA20031009_095106_000005092020_00337_08407_6925.dim.txt\n",
      "\n",
      "08/26 11:19:42 [\u001b[1;32mNOTICE\u001b[0m] Download complete: participant-e/MER_FRS_1PPEPA20031021_203109_000001012021_00014_08585_7296.dim.txt\n",
      "\n",
      "08/26 11:19:42 [\u001b[1;32mNOTICE\u001b[0m] Download complete: participant-e/MER_FRS_1PPEPA20031019_094140_000001912020_00480_08550_7196.dim.txt\n",
      "\n",
      "08/26 11:19:42 [\u001b[1;32mNOTICE\u001b[0m] Download complete: participant-e/MER_FRS_1PPEPA20031025_095112_000003772021_00065_08636_7413.dim.txt\n",
      "\n",
      "08/26 11:19:42 [\u001b[1;32mNOTICE\u001b[0m] Download complete: participant-e/MER_FRS_1PPEPA20031024_203642_000001092021_00057_08628_7392.dim.txt\n",
      "\n",
      "08/26 11:19:42 [\u001b[1;32mNOTICE\u001b[0m] Download complete: participant-e/MER_FRS_1PPEPA20031028_095603_000003942021_00108_08679_7497.dim.txt\n",
      "\n",
      "08/26 11:19:42 [\u001b[1;32mNOTICE\u001b[0m] Download complete: participant-e/MER_FRS_1PPEPA20031106_202807_000001292021_00243_08814_7786.dim.txt\n",
      "\n",
      "08/26 11:19:42 [\u001b[1;32mNOTICE\u001b[0m] Download complete: participant-e/MER_FRS_1PPEPA20031109_203351_000001072021_00286_08857_7879.dim.txt\n",
      "\n",
      "08/26 11:19:42 [\u001b[1;32mNOTICE\u001b[0m] Download complete: participant-e/MER_FRS_1PPEPA20031220_204513_000001072022_00372_09444_7913.dim.txt\n",
      "\n",
      "08/26 11:19:42 [\u001b[1;32mNOTICE\u001b[0m] Download complete: participant-e/MER_FRS_1PPEPA20031122_202410_000002302021_00472_09043_7149.dim.txt\n",
      "\n",
      "08/26 11:19:42 [\u001b[1;32mNOTICE\u001b[0m] Download complete: participant-e/MER_FRS_1PPEPA20040105_204224_000001072023_00100_09673_8427.dim.txt\n",
      "\n",
      "08/26 11:19:42 [\u001b[1;32mNOTICE\u001b[0m] Download complete: participant-e/MER_FRS_1PPEPA20040203_203100_000001072024_00014_10088_9292.dim.txt\n",
      "\n",
      "08/26 11:19:42 [\u001b[1;32mNOTICE\u001b[0m] Download complete: participant-e/MER_FRS_1PPEPA20040115_202822_000001152023_00243_09816_8725.dim.txt\n",
      "\n",
      "08/26 11:19:42 [\u001b[1;32mNOTICE\u001b[0m] Download complete: participant-e/MER_FRS_1PPEPA20040222_203349_000001072024_00286_10360_0001.dim.txt\n",
      "\n",
      "08/26 11:19:42 [\u001b[1;32mNOTICE\u001b[0m] Download complete: participant-e/MER_FRS_1PPEPA20040219_202819_000000872024_00243_10317_9795.dim.txt\n",
      "\n",
      "08/26 11:19:42 [\u001b[1;32mNOTICE\u001b[0m] Download complete: participant-e/MER_FRS_1PPEPA20040131_202511_000001632023_00472_10045_9198.dim.txt\n",
      "\n",
      "08/26 11:19:42 [\u001b[1;32mNOTICE\u001b[0m] Download complete: participant-e/MER_FRS_1PPEPA20040309_203102_000001072025_00014_10589_0642.dim.txt\n",
      "\n",
      "08/26 11:19:42 [\u001b[1;32mNOTICE\u001b[0m] Download complete: participant-e/MER_FRS_1PPEPA20040312_203643_000001072025_00057_10632_0726.dim.txt\n",
      "\n",
      "08/26 11:19:42 [\u001b[1;32mNOTICE\u001b[0m] Download complete: participant-e/MER_FRS_1PPEPA20040326_094658_000002562025_00251_10826_1173.dim.txt\n",
      "\n",
      "08/26 11:19:42 [\u001b[1;32mNOTICE\u001b[0m] Download complete: participant-e/MER_FRS_1PPEPA20040316_095357_000005122025_00108_10683_0826.dim.txt\n",
      "\n",
      "08/26 11:19:42 [\u001b[1;32mNOTICE\u001b[0m] Download complete: participant-e/MER_FRS_1PPEPA20040401_095023_000005122025_00337_10912_1359.dim.txt\n",
      "\n",
      "08/26 11:19:42 [\u001b[1;32mNOTICE\u001b[0m] Download complete: participant-e/MER_FRS_1PPEPA20040413_203100_000001072026_00014_11090_1759.dim.txt\n",
      "\n",
      "08/26 11:19:42 [\u001b[1;32mNOTICE\u001b[0m] Download complete: participant-e/MER_FRS_1PPEPA20040407_201731_000002952025_00429_11004_1561.dim.txt\n",
      "\n",
      "08/26 11:19:42 [\u001b[1;32mNOTICE\u001b[0m] Download complete: participant-e/MER_FRS_1PPEPA20040513_093321_000005122026_00437_11513_9619.dim.txt\n",
      "\n",
      "08/26 11:19:42 [\u001b[1;32mNOTICE\u001b[0m] Download complete: participant-e/MER_FRS_1PPEPA20040510_092459_000005122026_00394_11470_9511.dim.txt\n",
      "\n",
      "08/26 11:19:42 [\u001b[1;32mNOTICE\u001b[0m] Download complete: participant-e/MER_FRS_1PPEPA20040529_092756_000005122027_00165_11742_0329.dim.txt\n",
      "\n",
      "08/26 11:19:42 [\u001b[1;32mNOTICE\u001b[0m] Download complete: participant-e/MER_FRS_1PPEPA20040518_203112_000000982027_00014_11591_9828.dim.txt\n",
      "\n",
      "08/26 11:19:42 [\u001b[1;32mNOTICE\u001b[0m] Download complete: participant-e/MER_FRS_1PPEPA20040520_091049_000005122027_00036_11613_9887.dim.txt\n",
      "\n",
      "08/26 11:19:42 [\u001b[1;32mNOTICE\u001b[0m] Download complete: participant-e/MER_FRS_1PPEPA20040604_094657_000002502027_00251_11828_0550.dim.txt\n",
      "\n",
      "08/26 11:19:42 [\u001b[1;32mNOTICE\u001b[0m] Download complete: participant-e/MER_FRS_1PPEPA20040617_093325_000005122027_00437_12014_1047.dim.txt\n",
      "\n",
      "08/26 11:19:42 [\u001b[1;32mNOTICE\u001b[0m] Download complete: participant-e/MER_FRS_1PPEPA20040703_093157_000004582028_00165_12243_1569.dim.txt\n",
      "\n",
      "08/26 11:19:42 [\u001b[1;32mNOTICE\u001b[0m] Download complete: participant-e/MER_FRS_1PPEPA20040711_203249_000002422028_00286_12364_1811.dim.txt\n",
      "\n",
      "08/26 11:19:42 [\u001b[1;32mNOTICE\u001b[0m] Download complete: participant-e/MER_FRS_1PPEPA20040727_203043_000001632029_00014_12593_2338.dim.txt\n",
      "\n",
      "08/26 11:19:42 [\u001b[1;32mNOTICE\u001b[0m] Download complete: participant-e/MER_FRS_1PPEPA20040708_202627_000002422028_00243_12321_1725.dim.txt\n",
      "\n",
      "08/26 11:19:42 [\u001b[1;32mNOTICE\u001b[0m] Download complete: participant-e/MER_FRS_1PPEPA20040712_094749_000005122028_00294_12372_1824.dim.txt\n",
      "\n",
      "08/26 11:19:42 [\u001b[1;32mNOTICE\u001b[0m] Download complete: participant-e/MER_FRS_1PPEPA20040729_091811_000004872029_00036_12615_2385.dim.txt\n",
      "\n",
      "08/26 11:19:42 [\u001b[1;32mNOTICE\u001b[0m] Download complete: participant-e/MER_FRS_1PPEPA20040807_093033_000005122029_00165_12744_2674.dim.txt\n",
      "\n",
      "08/26 11:19:42 [\u001b[1;32mNOTICE\u001b[0m] Download complete: participant-e/MER_FRS_1PPEPA20040817_091841_000005122029_00308_12887_3012.dim.txt\n",
      "\n",
      "08/26 11:19:42 [\u001b[1;32mNOTICE\u001b[0m] Download complete: participant-e/MER_FRS_1PPEPA20040820_092402_000004392029_00351_12930_3133.dim.txt\n",
      "\n",
      "08/26 11:19:42 [\u001b[1;32mNOTICE\u001b[0m] Download complete: participant-e/MER_FRS_1PPEPA20040823_092953_000004052029_00394_12973_3252.dim.txt\n",
      "\n",
      "08/26 11:19:42 [\u001b[1;32mNOTICE\u001b[0m] Download complete: participant-e/MER_FRS_1PPEPA20040829_094236_000004922029_00480_13059_3460.dim.txt\n",
      "\n",
      "08/26 11:19:42 [\u001b[1;32mNOTICE\u001b[0m] Download complete: participant-e/MER_FRS_1PPEPA20040901_094447_000005122030_00022_13102_3574.dim.txt\n",
      "\n",
      "08/26 11:19:42 [\u001b[1;32mNOTICE\u001b[0m] Download complete: participant-e/MER_FRS_1PPEPA20040908_092440_000005122030_00122_13202_3869.dim.txt\n",
      "\n",
      "08/26 11:19:42 [\u001b[1;32mNOTICE\u001b[0m] Download complete: participant-e/MER_FRS_1PPEPA20040916_202533_000003432030_00243_13323_4153.dim.txt\n",
      "\n",
      "08/26 11:19:42 [\u001b[1;32mNOTICE\u001b[0m] Download complete: participant-e/MER_FRS_1PPEPA20040917_094404_000004612030_00251_13331_4171.dim.txt\n",
      "\n",
      "08/26 11:19:42 [\u001b[1;32mNOTICE\u001b[0m] Download complete: participant-e/MER_FRS_1PPEPA20040923_095301_000005122030_00337_13417_4382.dim.txt\n",
      "\n",
      "08/26 11:19:42 [\u001b[1;32mNOTICE\u001b[0m] Download complete: participant-e/MER_FRS_1PPEPA20040920_094906_000005122030_00294_13374_4278.dim.txt\n",
      "\n",
      "08/26 11:19:42 [\u001b[1;32mNOTICE\u001b[0m] Download complete: participant-e/MER_FRS_1PPEPA20040927_092739_000005122030_00394_13474_4517.dim.txt\n",
      "\n",
      "08/26 11:19:42 [\u001b[1;32mNOTICE\u001b[0m] Download complete: participant-e/MER_FRS_1PPEPA20040926_095854_000005122030_00380_13460_4482.dim.txt\n",
      "\n",
      "08/26 11:19:42 [\u001b[1;32mNOTICE\u001b[0m] Download complete: participant-e/MER_FRS_1PPEPA20041005_202901_000003822031_00014_13595_4819.dim.txt\n",
      "\n",
      "08/26 11:19:42 [\u001b[1;32mNOTICE\u001b[0m] Download complete: participant-e/MER_FRS_1PPEPA20040930_093322_000005122030_00437_13517_4621.dim.txt\n",
      "\n",
      "08/26 11:19:43 [\u001b[1;32mNOTICE\u001b[0m] Download complete: participant-e/MER_FRS_1PPEPA20041214_203100_000001072033_00014_14597_0279.dim.txt\n",
      "\n",
      "08/26 11:19:43 [\u001b[1;32mNOTICE\u001b[0m] Download complete: participant-e/MER_FRS_1PPEPA20041217_203640_000001072033_00057_14640_0388.dim.txt\n",
      "\n",
      "08/26 11:19:43 [\u001b[1;32mNOTICE\u001b[0m] Download complete: participant-e/MER_FRS_1PPEPA20050124_204051_000003292034_00100_15184_1621.dim.txt\n",
      "\n",
      "08/26 11:19:43 [\u001b[1;32mNOTICE\u001b[0m] Download complete: participant-e/MER_FRS_1PPEPA20050105_203927_000001072033_00329_14912_1000.dim.txt\n",
      "\n",
      "08/26 11:19:43 [\u001b[1;32mNOTICE\u001b[0m] Download complete: participant-e/MER_FRS_1PPEPA20050121_203641_000001072034_00057_15141_1518.dim.txt\n",
      "\n",
      "08/26 11:19:43 [\u001b[1;32mNOTICE\u001b[0m] Download complete: participant-e/MER_FRS_1PPEPA20050222_203005_000002052035_00014_15599_2470.dim.txt\n",
      "\n",
      "08/26 11:19:43 [\u001b[1;32mNOTICE\u001b[0m] Download complete: participant-e/MER_FRS_1PPEPA20050301_095603_000005122035_00108_15693_2701.dim.txt\n",
      "\n",
      "08/26 11:19:43 [\u001b[1;32mNOTICE\u001b[0m] Download complete: participant-e/MER_FRS_1PPEPA20050305_093415_000005122035_00165_15750_2848.dim.txt\n",
      "\n",
      "08/26 11:19:43 [\u001b[1;32mNOTICE\u001b[0m] Download complete: participant-e/MER_FRS_1PPEPA20050302_092830_000005122035_00122_15707_2742.dim.txt\n",
      "\n",
      "08/26 11:19:43 [\u001b[1;32mNOTICE\u001b[0m] Download complete: participant-e/MER_FRS_1PPEPA20050331_091540_000005122036_00036_16122_3804.dim.txt\n",
      "\n",
      "08/26 11:19:43 [\u001b[1;32mNOTICE\u001b[0m] Download complete: participant-e/MER_FRS_1PPEPA20050320_100028_000005122035_00380_15965_3408.dim.txt\n",
      "\n",
      "08/26 11:19:43 [\u001b[1;32mNOTICE\u001b[0m] Download complete: participant-e/MER_FRS_1PPEPA20050409_093032_000005122036_00165_16251_4134.dim.txt\n",
      "\n",
      "08/26 11:19:43 [\u001b[1;32mNOTICE\u001b[0m] Download complete: participant-e/MER_FRS_1PPEPA20050403_092122_000005122036_00079_16165_3907.dim.txt\n",
      "\n",
      "08/26 11:19:43 [\u001b[1;32mNOTICE\u001b[0m] Download complete: participant-e/MER_FRS_1PPEPA20050414_202329_000005122036_00243_16329_4333.dim.txt\n",
      "\n",
      "08/26 11:19:43 [\u001b[1;32mNOTICE\u001b[0m] Download complete: participant-e/MER_FRS_1PPEPA20050415_094158_000005122036_00251_16337_4358.dim.txt\n",
      "\n",
      "08/26 11:19:43 [\u001b[1;32mNOTICE\u001b[0m] Download complete: participant-e/MER_FRS_1PPEPA20050422_092151_000005122036_00351_16437_4615.dim.txt\n",
      "\n",
      "08/26 11:19:43 [\u001b[1;32mNOTICE\u001b[0m] Download complete: participant-e/MER_FRS_1PPEPA20050417_203404_000000982036_00286_16372_4443.dim.txt\n",
      "\n",
      "08/26 11:19:43 [\u001b[1;32mNOTICE\u001b[0m] Download complete: participant-e/MER_FRS_1PPEPA20050503_203025_000001882037_00014_16601_5081.dim.txt\n",
      "\n",
      "08/26 11:19:43 [\u001b[1;32mNOTICE\u001b[0m] Download complete: participant-e/MER_FRS_1PPEPA20050504_094915_000003542037_00022_16609_5110.dim.txt\n",
      "\n",
      "08/26 11:19:43 [\u001b[1;32mNOTICE\u001b[0m] Download complete: participant-e/MER_FRS_1PPEPA20050527_092151_000005122037_00351_16938_6270.dim.txt\n",
      "\n",
      "08/26 11:19:43 [\u001b[1;32mNOTICE\u001b[0m] Download complete: participant-e/MER_FRS_1PPEPA20050712_203115_000001012039_00014_17603_8550.dim.txt\n",
      "\n",
      "08/26 11:19:43 [\u001b[1;32mNOTICE\u001b[0m] Download complete: participant-e/MER_FRS_1PPEPA20050517_093618_000005122037_00208_16795_5716.dim.txt\n",
      "\n",
      "08/26 11:19:43 [\u001b[1;32mNOTICE\u001b[0m] Download complete: participant-e/MER_FRS_1PPEPA20050726_093618_000005122039_00208_17797_9137.dim.txt\n",
      "\n",
      "08/26 11:19:43 [\u001b[1;32mNOTICE\u001b[0m] Download complete: participant-e/MER_FRS_1PPEPA20050713_094704_000005122039_00022_17611_8572.dim.txt\n",
      "\n",
      "08/26 11:19:43 [\u001b[1;32mNOTICE\u001b[0m] Download complete: participant-e/MER_FRS_1PPEPA20050723_093250_000005122039_00165_17754_9008.dim.txt\n",
      "\n",
      "08/26 11:19:43 [\u001b[1;32mNOTICE\u001b[0m] Download complete: participant-e/MER_FRS_1PPEPA20050801_094739_000005122039_00294_17883_9419.dim.txt\n",
      "\n",
      "08/26 11:19:43 [\u001b[1;32mNOTICE\u001b[0m] Download complete: participant-e/MER_FRS_1PPEPA20050814_093905_000005122039_00480_18069_0123.dim.txt\n",
      "\n",
      "08/26 11:19:43 [\u001b[1;32mNOTICE\u001b[0m] Download complete: participant-e/MER_FRS_1PPEPA20050808_092742_000005122039_00394_17983_9731.dim.txt\n",
      "\n",
      "08/26 11:19:43 [\u001b[1;32mNOTICE\u001b[0m] Download complete: participant-e/MER_FRS_1PPEPA20050816_202835_000003742040_00014_18104_0272.dim.txt\n",
      "\n",
      "08/26 11:19:43 [\u001b[1;32mNOTICE\u001b[0m] Download complete: participant-e/MER_FRS_1PPEPA20050817_094659_000005122040_00022_18112_0300.dim.txt\n",
      "\n",
      "08/26 11:19:43 [\u001b[1;32mNOTICE\u001b[0m] Download complete: participant-e/MER_FRS_1PPEPA20050904_203316_000001852040_00286_18376_1201.dim.txt\n",
      "\n",
      "08/26 11:19:43 [\u001b[1;32mNOTICE\u001b[0m] Download complete: participant-e/MER_FRS_1PPEPA20050830_094049_000005122040_00208_18298_0922.dim.txt\n",
      "\n",
      "08/26 11:19:43 [\u001b[1;32mNOTICE\u001b[0m] Download complete: participant-e/MER_FRS_1PPEPA20050912_092741_000005122040_00394_18484_1546.dim.txt\n",
      "\n",
      "08/26 11:19:43 [\u001b[1;32mNOTICE\u001b[0m] Download complete: participant-e/MER_FRS_1PPEPA20050923_102052_000005122041_00051_18642_2065.dim.txt\n",
      "\n",
      "08/26 11:19:43 [\u001b[1;32mNOTICE\u001b[0m] Download complete: participant-e/MER_FRS_1PPEPA20050920_203110_000001012041_00014_18605_1933.dim.txt\n",
      "\n",
      "08/26 11:19:43 [\u001b[1;32mNOTICE\u001b[0m] Download complete: participant-e/MER_FRS_1PPEPA20050923_203423_000003742041_00057_18648_2085.dim.txt\n",
      "\n",
      "08/26 11:19:43 [\u001b[1;32mNOTICE\u001b[0m] Download complete: participant-e/MER_FRS_1PPEPA20050924_095027_000005122041_00065_18656_2160.dim.txt\n",
      "\n",
      "08/26 11:19:43 [\u001b[1;32mNOTICE\u001b[0m] Download complete: participant-e/MER_FRS_1PPEPA20051001_093033_000005122041_00165_18756_2516.dim.txt\n",
      "\n",
      "08/26 11:19:43 [\u001b[1;32mNOTICE\u001b[0m] Download complete: participant-e/MER_FRS_1PPEPA20051009_101801_000005122041_00280_18871_2916.dim.txt\n",
      "\n",
      "08/26 11:19:43 [\u001b[1;32mNOTICE\u001b[0m] Download complete: participant-e/MER_FRS_1PPEPA20050930_100211_000005122041_00151_18742_2459.dim.txt\n",
      "\n",
      "08/26 11:19:43 [\u001b[1;32mNOTICE\u001b[0m] Download complete: participant-e/MER_FRS_1PPEPA20051013_095317_000005122041_00337_18928_3110.dim.txt\n",
      "\n",
      "08/26 11:19:43 [\u001b[1;32mNOTICE\u001b[0m] Download complete: participant-e/MER_FRS_1PPEPA20051025_101511_000005122042_00008_19100_4957.dim.txt\n",
      "\n",
      "08/26 11:19:43 [\u001b[1;32mNOTICE\u001b[0m] Download complete: participant-e/MER_FRS_1PPEPA20051016_100347_000003372041_00380_18971_3257.dim.txt\n",
      "\n",
      "08/26 11:19:43 [\u001b[1;32mNOTICE\u001b[0m] Download complete: participant-e/MER_FRS_1PPEPA20051010_094737_000005122041_00294_18885_2974.dim.txt\n",
      "\n",
      "08/26 11:19:43 [\u001b[1;32mNOTICE\u001b[0m] Download complete: participant-e/MER_FRS_1PPEPA20051025_203105_000001072042_00014_19106_4296.dim.txt\n",
      "\n",
      "08/26 11:19:43 [\u001b[1;32mNOTICE\u001b[0m] Download complete: participant-e/MER_FRS_1PPEPA20051026_095008_000004082042_00022_19114_4975.dim.txt\n",
      "\n",
      "08/26 11:19:43 [\u001b[1;32mNOTICE\u001b[0m] Download complete: participant-e/MER_FRS_1PPEPA20051113_203112_000004392042_00286_19378_5298.dim.txt\n",
      "\n",
      "08/26 11:19:43 [\u001b[1;32mNOTICE\u001b[0m] Download complete: participant-e/MER_FRS_1PPEPA20051110_202625_000002672042_00243_19335_5183.dim.txt\n",
      "\n",
      "08/26 11:19:43 [\u001b[1;32mNOTICE\u001b[0m] Download complete: participant-e/MER_FRS_1PPEPA20051028_102303_000005122042_00051_19143_4419.dim.txt\n",
      "\n",
      "08/26 11:19:43 [\u001b[1;32mNOTICE\u001b[0m] Download complete: participant-e/MER_FRS_1PPEPA20051029_095046_000005122042_00065_19157_5021.dim.txt\n",
      "\n",
      "08/26 11:19:43 [\u001b[1;32mNOTICE\u001b[0m] Download complete: participant-e/MER_FRS_1PPEPA20051202_203640_000001072043_00057_19650_5996.dim.txt\n",
      "\n",
      "08/26 11:19:43 [\u001b[1;32mNOTICE\u001b[0m] Download complete: participant-e/MER_FRS_1PPEPA20060404_091924_000005122046_00308_21404_4654.dim.txt\n",
      "\n",
      "08/26 11:19:43 [\u001b[1;32mNOTICE\u001b[0m] Download complete: participant-e/MER_FRS_1PPEPA20060402_202936_000004362046_00286_21382_4581.dim.txt\n",
      "\n",
      "08/26 11:19:43 [\u001b[1;32mNOTICE\u001b[0m] Download complete: participant-e/MER_FRS_1PPEPA20060315_094754_000005122046_00022_21118_3808.dim.txt\n",
      "\n",
      "08/26 11:19:43 [\u001b[1;32mNOTICE\u001b[0m] Download complete: participant-e/MER_FRS_1PPEPA20060418_203055_000001092047_00014_21611_5157.dim.txt\n",
      "\n",
      "08/26 11:19:43 [\u001b[1;32mNOTICE\u001b[0m] Download complete: participant-e/MER_FRS_1PPEPA20060423_092057_000005122047_00079_21676_5348.dim.txt\n",
      "\n",
      "08/26 11:19:43 [\u001b[1;32mNOTICE\u001b[0m] Download complete: participant-e/MER_FRS_1PPEPA20060429_093226_000005122047_00165_21762_5636.dim.txt\n",
      "\n",
      "08/26 11:19:43 [\u001b[1;32mNOTICE\u001b[0m] Download complete: participant-e/MER_FRS_1PPEPA20060515_092934_000005122047_00394_21991_6430.dim.txt\n",
      "\n",
      "08/26 11:19:43 [\u001b[1;32mNOTICE\u001b[0m] Download complete: participant-e/MER_FRS_1PPEPA20060505_094356_000005122047_00251_21848_5913.dim.txt\n",
      "\n",
      "08/26 11:19:43 [\u001b[1;32mNOTICE\u001b[0m] Download complete: participant-e/MER_FRS_1PPEPA20060523_203059_000001072048_00014_22112_6827.dim.txt\n",
      "\n",
      "08/26 11:19:43 [\u001b[1;32mNOTICE\u001b[0m] Download complete: participant-e/MER_FRS_1PPEPA20060524_094759_000005122048_00022_22120_6854.dim.txt\n",
      "\n",
      "08/26 11:19:43 [\u001b[1;32mNOTICE\u001b[0m] Download complete: participant-e/MER_FRS_1PPEPA20060603_093344_000005122048_00165_22263_7837.dim.txt\n",
      "\n",
      "08/26 11:19:43 [\u001b[1;32mNOTICE\u001b[0m] Download complete: participant-e/MER_FRS_1PPEPA20060606_093813_000005122048_00208_22306_7998.dim.txt\n",
      "\n",
      "08/26 11:19:43 [\u001b[1;32mNOTICE\u001b[0m] Download complete: participant-e/MER_FRS_1PPEPA20060609_094358_000005122048_00251_22349_8135.dim.txt\n",
      "\n",
      "08/26 11:19:43 [\u001b[1;32mNOTICE\u001b[0m] Download complete: participant-e/MER_FRS_1PPEPA20060611_203403_000000952048_00286_22384_8242.dim.txt\n",
      "\n",
      "08/26 11:19:43 [\u001b[1;32mNOTICE\u001b[0m] Download complete: participant-e/MER_FRS_1PPEPA20060708_093536_000004422049_00165_22764_9421.dim.txt\n",
      "\n",
      "08/26 11:19:43 [\u001b[1;32mNOTICE\u001b[0m] Download complete: participant-e/MER_FRS_1PPEPA20060714_094403_000005122049_00251_22850_9709.dim.txt\n",
      "\n",
      "08/26 11:19:43 [\u001b[1;32mNOTICE\u001b[0m] Download complete: participant-e/MER_FRS_1PPEPA20060716_203313_000001942049_00286_22885_9820.dim.txt\n",
      "\n",
      "08/26 11:19:43 [\u001b[1;32mNOTICE\u001b[0m] Download complete: participant-e/MER_FRS_1PPEPA20060727_093526_000005122049_00437_23036_0444.dim.txt\n",
      "\n",
      "08/26 11:19:43 [\u001b[1;32mNOTICE\u001b[0m] Download complete: participant-e/MER_FRS_1PPEPA20060730_094111_000005122049_00480_23079_0599.dim.txt\n",
      "\n",
      "08/26 11:19:43 [\u001b[1;32mNOTICE\u001b[0m] Download complete: participant-e/MER_FRS_1PPEPA20060801_203112_000001012050_00014_23114_0720.dim.txt\n",
      "\n",
      "08/26 11:19:43 [\u001b[1;32mNOTICE\u001b[0m] Download complete: participant-e/MER_FRS_1PPEPA20060831_093522_000005122050_00437_23537_2074.dim.txt\n",
      "\n",
      "08/26 11:19:43 [\u001b[1;32mNOTICE\u001b[0m] Download complete: participant-e/MER_FRS_1PPEPA20060818_094514_000005122050_00251_23351_1472.dim.txt\n",
      "\n",
      "08/26 11:19:43 [\u001b[1;32mNOTICE\u001b[0m] Download complete: participant-e/MER_FRS_1PPEPA20060821_094946_000005122050_00294_23394_1608.dim.txt\n",
      "\n",
      "08/26 11:19:43 [\u001b[1;32mNOTICE\u001b[0m] Download complete: participant-e/MER_FRS_1PPEPA20060805_095240_000005122050_00065_23165_0894.dim.txt\n",
      "\n",
      "08/26 11:19:43 [\u001b[1;32mNOTICE\u001b[0m] Download complete: participant-e/MER_FRS_1PPEPA20060905_203015_000001992051_00014_23615_2327.dim.txt\n",
      "\n",
      "08/26 11:19:43 [\u001b[1;32mNOTICE\u001b[0m] Download complete: participant-e/MER_FRS_1PPEPA20060913_092641_000005122051_00122_23723_2520.dim.txt\n",
      "\n",
      "08/26 11:19:43 [\u001b[1;32mNOTICE\u001b[0m] Download complete: participant-e/MER_FRS_1PPEPA20060906_094801_000005122051_00022_23623_2354.dim.txt\n",
      "\n",
      "08/26 11:19:43 [\u001b[1;32mNOTICE\u001b[0m] Download complete: participant-e/MER_FRS_1PPEPA20060922_094152_000005122051_00251_23852_2937.dim.txt\n",
      "\n",
      "08/26 11:19:43 [\u001b[1;32mNOTICE\u001b[0m] Download complete: participant-e/MER_FRS_1PPEPA20060924_203404_000000922051_00286_23887_3037.dim.txt\n",
      "\n",
      "08/26 11:19:43 [\u001b[1;32mNOTICE\u001b[0m] Download complete: participant-e/MER_FRS_1PPEPA20061010_203102_000001072052_00014_24116_3427.dim.txt\n",
      "\n",
      "08/26 11:19:43 [\u001b[1;32mNOTICE\u001b[0m] Download complete: participant-e/MER_FRS_1PPEPA20061008_093905_000005122051_00480_24081_3357.dim.txt\n",
      "\n",
      "08/26 11:19:43 [\u001b[1;32mNOTICE\u001b[0m] Download complete: participant-e/MER_FRS_1PPEPA20061010_101834_000005062052_00008_24110_3417.dim.txt\n",
      "\n",
      "08/26 11:19:43 [\u001b[1;32mNOTICE\u001b[0m] Download complete: participant-e/MER_FRS_1PPEPA20061011_094804_000005122052_00022_24124_3437.dim.txt\n",
      "\n",
      "08/26 11:19:43 [\u001b[1;32mNOTICE\u001b[0m] Download complete: participant-e/MER_FRS_1PPEPA20061013_102417_000004892052_00051_24153_3505.dim.txt\n",
      "\n",
      "08/26 11:19:43 [\u001b[1;32mNOTICE\u001b[0m] Download complete: participant-e/MER_FRS_1PPEPA20061013_203643_000001072052_00057_24159_3517.dim.txt\n",
      "\n",
      "08/26 11:19:43 [\u001b[1;32mNOTICE\u001b[0m] Download complete: participant-e/MER_FRS_1PPEPA20061017_095606_000005122052_00108_24210_3613.dim.txt\n",
      "\n",
      "08/26 11:19:43 [\u001b[1;32mNOTICE\u001b[0m] Download complete: participant-e/MER_FRS_1PPEPA20061117_203642_000001072053_00057_24660_4975.dim.txt\n",
      "\n",
      "08/26 11:19:43 [\u001b[1;32mNOTICE\u001b[0m] Download complete: participant-e/MER_FRS_1PPEPA20061130_202641_000002752053_00243_24846_5486.dim.txt\n",
      "\n",
      "08/26 11:19:43 [\u001b[1;32mNOTICE\u001b[0m] Download complete: participant-e/MER_FRS_1PPEPA20061219_203101_000001072054_00014_25118_6179.dim.txt\n",
      "\n",
      "08/26 11:19:43 [\u001b[1;32mNOTICE\u001b[0m] Download complete: participant-e/MER_FRS_1PPEPA20061225_204222_000001072054_00100_25204_6466.dim.txt\n",
      "\n",
      "08/26 11:19:43 [\u001b[1;32mNOTICE\u001b[0m] Download complete: participant-e/MER_FRS_1PPEPA20070227_101502_000005092056_00008_26114_2448.dim.txt\n",
      "\n",
      "08/26 11:19:43 [\u001b[1;32mNOTICE\u001b[0m] Download complete: participant-e/MER_FRS_1PPEPA20070218_100151_000005092055_00380_25985_2024.dim.txt\n",
      "\n",
      "08/26 11:19:43 [\u001b[1;32mNOTICE\u001b[0m] Download complete: participant-e/MER_FRS_1PPEPA20070303_095314_000005092056_00065_26171_2656.dim.txt\n",
      "\n",
      "08/26 11:19:43 [\u001b[1;32mNOTICE\u001b[0m] Download complete: participant-e/MER_FRS_1PPEPA20070309_100525_000005092056_00151_26257_2947.dim.txt\n",
      "\n",
      "08/26 11:19:43 [\u001b[1;32mNOTICE\u001b[0m] Download complete: participant-e/MER_FRS_1PPEPA20070312_101110_000005122056_00194_26300_3098.dim.txt\n",
      "\n",
      "08/26 11:19:43 [\u001b[1;32mNOTICE\u001b[0m] Download complete: participant-e/MER_FRS_1PPEPA20070313_093932_000005092056_00208_26314_3149.dim.txt\n",
      "\n",
      "08/26 11:19:43 [\u001b[1;32mNOTICE\u001b[0m] Download complete: participant-e/MER_FRS_1PPEPA20070322_095647_000005122056_00337_26443_3628.dim.txt\n",
      "\n",
      "08/26 11:19:43 [\u001b[1;32mNOTICE\u001b[0m] Download complete: participant-e/MER_FRS_1PPEPA20070323_092142_000005122056_00351_26457_3671.dim.txt\n",
      "\n",
      "08/26 11:19:43 [\u001b[1;32mNOTICE\u001b[0m] Download complete: participant-e/MER_FRS_1PPEPA20070326_093039_000005122056_00394_26500_3805.dim.txt\n",
      "\n",
      "08/26 11:19:43 [\u001b[1;32mNOTICE\u001b[0m] Download complete: participant-e/MER_FRS_1PPEPA20070404_094657_000004872057_00022_26629_5268.dim.txt\n",
      "\n",
      "08/26 11:19:43 [\u001b[1;32mNOTICE\u001b[0m] Download complete: participant-e/MER_FRS_1PPEPA20070329_093633_000005122056_00437_26543_3960.dim.txt\n",
      "\n",
      "08/26 11:19:43 [\u001b[1;32mNOTICE\u001b[0m] Download complete: participant-e/MER_FRS_1PPEPA20070403_202959_000001882057_00014_26621_5241.dim.txt\n",
      "\n",
      "08/26 11:19:43 [\u001b[1;32mNOTICE\u001b[0m] Download complete: participant-e/MER_FRS_1PPEPA20070407_095344_000005092057_00065_26672_5403.dim.txt\n",
      "\n",
      "08/26 11:19:43 [\u001b[1;32mNOTICE\u001b[0m] Download complete: participant-e/MER_FRS_1PPEPA20070406_203553_000001882057_00057_26664_5373.dim.txt\n",
      "\n",
      "08/26 11:19:43 [\u001b[1;32mNOTICE\u001b[0m] Download complete: participant-e/MER_FRS_1PPEPA20070414_093014_000005122057_00165_26772_4325.dim.txt\n",
      "\n",
      "08/26 11:19:43 [\u001b[1;32mNOTICE\u001b[0m] Download complete: participant-e/MER_FRS_1PPEPA20070417_093924_000005122057_00208_26815_4467.dim.txt\n",
      "\n",
      "08/26 11:19:43 [\u001b[1;32mNOTICE\u001b[0m] Download complete: participant-e/MER_FRS_1PPEPA20070420_094509_000005092057_00251_26858_4597.dim.txt\n",
      "\n",
      "08/26 11:19:43 [\u001b[1;32mNOTICE\u001b[0m] Download complete: participant-e/MER_FRS_1PPEPA20070509_094523_000005092058_00022_27130_5490.dim.txt\n",
      "\n",
      "08/26 11:19:43 [\u001b[1;32mNOTICE\u001b[0m] Download complete: participant-e/MER_FRS_1PPEPA20070506_093849_000005122057_00480_27087_5347.dim.txt\n",
      "\n",
      "08/26 11:19:43 [\u001b[1;32mNOTICE\u001b[0m] Download complete: participant-e/MER_FRS_1PPEPA20070513_092136_000005092058_00079_27187_5694.dim.txt\n",
      "\n",
      "08/26 11:19:43 [\u001b[1;32mNOTICE\u001b[0m] Download complete: participant-e/MER_FRS_1PPEPA20070519_093101_000005092058_00165_27273_5971.dim.txt\n",
      "\n",
      "08/26 11:19:43 [\u001b[1;32mNOTICE\u001b[0m] Download complete: participant-e/MER_FRS_1PPEPA20070613_094525_000005092059_00022_27631_7173.dim.txt\n",
      "\n",
      "08/26 11:19:43 [\u001b[1;32mNOTICE\u001b[0m] Download complete: participant-e/MER_FRS_1PPEPA20070516_092515_000005092058_00122_27230_5826.dim.txt\n",
      "\n",
      "08/26 11:19:43 [\u001b[1;32mNOTICE\u001b[0m] Download complete: participant-e/MER_FRS_1PPEPA20070612_203056_000001122059_00014_27623_7142.dim.txt\n",
      "\n",
      "08/26 11:19:43 [\u001b[1;32mNOTICE\u001b[0m] Download complete: participant-e/MER_FRS_1PPEPA20070701_203347_000001122059_00286_27895_8046.dim.txt\n",
      "\n",
      "08/26 11:19:43 [\u001b[1;32mNOTICE\u001b[0m] Download complete: participant-e/MER_FRS_1PPEPA20070629_094233_000005092059_00251_27860_7936.dim.txt\n",
      "\n",
      "08/26 11:19:43 [\u001b[1;32mNOTICE\u001b[0m] Download complete: participant-e/MER_FRS_1PPEPA20070623_093019_000005122059_00165_27774_7652.dim.txt\n",
      "\n",
      "08/26 11:19:43 [\u001b[1;32mNOTICE\u001b[0m] Download complete: participant-e/MER_FRS_1PPEPA20070715_094121_000005092059_00480_28089_8694.dim.txt\n",
      "\n",
      "08/26 11:19:43 [\u001b[1;32mNOTICE\u001b[0m] Download complete: participant-e/MER_FRS_1PPEPA20070709_092811_000005122059_00394_28003_8412.dim.txt\n",
      "\n",
      "08/26 11:19:43 [\u001b[1;32mNOTICE\u001b[0m] Download complete: participant-e/MER_FRS_1PPEPA20070718_094526_000005122060_00022_28132_8817.dim.txt\n",
      "\n",
      "08/26 11:19:43 [\u001b[1;32mNOTICE\u001b[0m] Download complete: participant-e/MER_FRS_1PPEPA20070728_093104_000005122060_00165_28275_9290.dim.txt\n",
      "\n",
      "08/26 11:19:43 [\u001b[1;32mNOTICE\u001b[0m] Download complete: participant-e/MER_FRS_1PPEPA20070806_094818_000005092060_00294_28404_9716.dim.txt\n",
      "\n",
      "08/26 11:19:43 [\u001b[1;32mNOTICE\u001b[0m] Download complete: participant-e/MER_FRS_1PPEPA20070803_094234_000005122060_00251_28361_9572.dim.txt\n",
      "\n",
      "08/26 11:19:43 [\u001b[1;32mNOTICE\u001b[0m] Download complete: participant-e/MER_FRS_1PPEPA20070813_092811_000005092060_00394_28504_0027.dim.txt\n",
      "\n",
      "08/26 11:19:43 [\u001b[1;32mNOTICE\u001b[0m] Download complete: participant-e/MER_FRS_1PPEPA20070816_093356_000005122060_00437_28547_0161.dim.txt\n",
      "\n",
      "08/26 11:19:43 [\u001b[1;32mNOTICE\u001b[0m] Download complete: participant-e/MER_FRS_1PPEPA20070901_093018_000005122061_00165_28776_0901.dim.txt\n",
      "\n",
      "08/26 11:19:43 [\u001b[1;32mNOTICE\u001b[0m] Download complete: participant-e/MER_FRS_1PPEPA20070911_091639_000005122061_00308_28919_1316.dim.txt\n",
      "\n",
      "08/26 11:19:43 [\u001b[1;32mNOTICE\u001b[0m] Download complete: participant-e/MER_FRS_1PPEPA20070904_093647_000005122061_00208_28819_1042.dim.txt\n",
      "\n",
      "08/26 11:19:43 [\u001b[1;32mNOTICE\u001b[0m] Download complete: participant-e/MER_FRS_1PPEPA20070917_092807_000005092061_00394_29005_1585.dim.txt\n",
      "\n",
      "08/26 11:19:43 [\u001b[1;32mNOTICE\u001b[0m] Download complete: participant-e/MER_FRS_1PPEPA20070910_094815_000005122061_00294_28905_1273.dim.txt\n",
      "\n",
      "08/26 11:19:43 [\u001b[1;32mNOTICE\u001b[0m] Download complete: participant-e/MER_FRS_1PPEPA20070920_093351_000005092061_00437_29048_1724.dim.txt\n",
      "\n",
      "08/26 11:19:43 [\u001b[1;32mNOTICE\u001b[0m] Download complete: participant-e/MER_FRS_1PPEPA20071008_100821_000005122062_00194_29306_2403.dim.txt\n",
      "\n",
      "08/26 11:19:43 [\u001b[1;32mNOTICE\u001b[0m] Download complete: participant-e/MER_FRS_1PPEPA20071003_092513_000005122062_00122_29234_2177.dim.txt\n",
      "\n",
      "08/26 11:19:43 [\u001b[1;32mNOTICE\u001b[0m] Download complete: participant-e/MER_FRS_1PPEPA20071002_095650_000005122062_00108_29220_2136.dim.txt\n",
      "\n",
      "08/26 11:19:43 [\u001b[1;32mNOTICE\u001b[0m] Download complete: participant-e/MER_FRS_1PPEPA20071009_093828_000005092062_00208_29320_2456.dim.txt\n",
      "\n",
      "08/26 11:19:43 [\u001b[1;32mNOTICE\u001b[0m] Download complete: participant-e/MER_FRS_1PPEPA20071012_094229_000005092062_00251_29363_2599.dim.txt\n",
      "\n",
      "08/26 11:19:43 [\u001b[1;32mNOTICE\u001b[0m] Download complete: participant-e/MER_FRS_1PPEPA20071021_095943_000005092062_00380_29492_3000.dim.txt\n",
      "\n",
      "08/26 11:19:43 [\u001b[1;32mNOTICE\u001b[0m] Download complete: participant-e/MER_FRS_1PPEPA20071018_095358_000005092062_00337_29449_2865.dim.txt\n",
      "\n",
      "08/26 11:19:43 [\u001b[1;32mNOTICE\u001b[0m] Download complete: participant-e/MER_FRS_1PPEPA20071015_094814_000005122062_00294_29406_2728.dim.txt\n",
      "\n",
      "08/26 11:19:43 [\u001b[1;32mNOTICE\u001b[0m] Download complete: participant-e/MER_FRS_1PPEPA20071022_092701_000005122062_00394_29506_3037.dim.txt\n",
      "\n",
      "08/26 11:19:43 [\u001b[1;32mNOTICE\u001b[0m] Download complete: participant-e/MER_FRS_1PPEPA20071016_091637_000005122062_00308_29420_2781.dim.txt\n",
      "\n",
      "08/26 11:19:43 [\u001b[1;32mNOTICE\u001b[0m] Download complete: participant-e/MER_FRS_1PPEPA20071030_203051_000001122063_00014_29627_3379.dim.txt\n",
      "\n",
      "08/26 11:19:43 [\u001b[1;32mNOTICE\u001b[0m] Download complete: participant-e/MER_FRS_1PPEPA20071102_102135_000005122063_00051_29664_3490.dim.txt\n",
      "\n",
      "08/26 11:19:43 [\u001b[1;32mNOTICE\u001b[0m] Download complete: participant-e/MER_FRS_1PPEPA20071102_203551_000002022063_00057_29670_3503.dim.txt\n",
      "\n",
      "08/26 11:19:43 [\u001b[1;32mNOTICE\u001b[0m] Download complete: participant-e/MER_FRS_1PPEPA20080414_092952_000005122067_00394_32011_6846.dim.txt\n",
      "\n",
      "08/26 11:19:43 [\u001b[1;32mNOTICE\u001b[0m] Download complete: participant-e/MER_FRS_1PPEPA20080417_093346_000005122067_00437_32054_6978.dim.txt\n",
      "\n",
      "08/26 11:19:43 [\u001b[1;32mNOTICE\u001b[0m] Download complete: participant-e/MER_FRS_1PPEPA20080319_094410_000005122067_00022_31639_5843.dim.txt\n",
      "\n",
      "08/26 11:19:43 [\u001b[1;32mNOTICE\u001b[0m] Download complete: participant-e/MER_FRS_1PPEPA20080422_203047_000001122068_00014_32132_7220.dim.txt\n",
      "\n",
      "08/26 11:19:43 [\u001b[1;32mNOTICE\u001b[0m] Download complete: participant-e/MER_FRS_1PPEPA20080527_203049_000001122069_00014_32633_8795.dim.txt\n",
      "\n",
      "08/26 11:19:43 [\u001b[1;32mNOTICE\u001b[0m] Download complete: participant-e/MER_FRS_1PPEPA20080615_203341_000001122069_00286_32905_9890.dim.txt\n",
      "\n",
      "08/26 11:19:43 [\u001b[1;32mNOTICE\u001b[0m] Download complete: participant-e/MER_FRS_1PPEPA20080427_091923_000005122068_00079_32197_7416.dim.txt\n",
      "\n",
      "08/26 11:19:43 [\u001b[1;32mNOTICE\u001b[0m] Download complete: participant-e/MER_FRS_1PPEPA20080629_094116_000005122069_00480_33099_0664.dim.txt\n",
      "\n",
      "08/26 11:19:43 [\u001b[1;32mNOTICE\u001b[0m] Download complete: participant-e/MER_FRS_1PPEPA20080702_094519_000005122070_00022_33142_0788.dim.txt\n",
      "\n",
      "08/26 11:19:43 [\u001b[1;32mNOTICE\u001b[0m] Download complete: participant-e/MER_FRS_1PPEPA20080712_093243_000005122070_00165_33285_1271.dim.txt\n",
      "\n",
      "08/26 11:19:43 [\u001b[1;32mNOTICE\u001b[0m] Download complete: participant-e/MER_FRS_1PPEPA20080718_094227_000005122070_00251_33371_1688.dim.txt\n",
      "\n",
      "08/26 11:19:43 [\u001b[1;32mNOTICE\u001b[0m] Download complete: participant-e/MER_FRS_1PPEPA20080721_095131_000005122070_00294_33414_1851.dim.txt\n",
      "\n",
      "08/26 11:19:43 [\u001b[1;32mNOTICE\u001b[0m] Download complete: participant-e/MER_FRS_1PPEPA20080803_094116_000005122070_00480_33600_2565.dim.txt\n",
      "\n",
      "08/26 11:19:43 [\u001b[1;32mNOTICE\u001b[0m] Download complete: participant-e/MER_FRS_1PPEPA20080731_093535_000005122070_00437_33557_2401.dim.txt\n",
      "\n",
      "08/26 11:19:43 [\u001b[1;32mNOTICE\u001b[0m] Download complete: participant-e/MER_FRS_1PPEPA20080807_091540_000005152071_00036_33657_2797.dim.txt\n",
      "\n",
      "08/26 11:19:43 [\u001b[1;32mNOTICE\u001b[0m] Download complete: participant-e/MER_FRS_1PPEPA20080816_093242_000005122071_00165_33786_3295.dim.txt\n",
      "\n",
      "08/26 11:19:43 [\u001b[1;32mNOTICE\u001b[0m] Download complete: participant-e/MER_FRS_1PPEPA20080824_203322_000001882071_00286_33907_3752.dim.txt\n",
      "\n",
      "08/26 11:19:43 [\u001b[1;32mNOTICE\u001b[0m] Download complete: participant-e/MER_FRS_1PPEPA20080819_093825_000005122071_00208_33829_3469.dim.txt\n",
      "\n",
      "08/26 11:19:43 [\u001b[1;32mNOTICE\u001b[0m] Download complete: participant-e/MER_FRS_1PPEPA20080910_094515_000005122072_00022_34144_4600.dim.txt\n",
      "\n",
      "08/26 11:19:43 [\u001b[1;32mNOTICE\u001b[0m] Download complete: participant-e/MER_FRS_1PPEPA20080909_203027_000001882072_00014_34136_4572.dim.txt\n",
      "\n",
      "08/26 11:19:43 [\u001b[1;32mNOTICE\u001b[0m] Download complete: participant-e/MER_FRS_1PPEPA20080912_203613_000001882072_00057_34179_4718.dim.txt\n",
      "\n",
      "08/26 11:19:43 [\u001b[1;32mNOTICE\u001b[0m] Download complete: participant-e/MER_FRS_1PPEPA20080922_100816_000005122072_00194_34316_5189.dim.txt\n",
      "\n",
      "08/26 11:19:43 [\u001b[1;32mNOTICE\u001b[0m] Download complete: participant-e/MER_FRS_1PPEPA20080920_093054_000005122072_00165_34287_5089.dim.txt\n",
      "\n",
      "08/26 11:19:43 [\u001b[1;32mNOTICE\u001b[0m] Download complete: participant-e/MER_FRS_1PPEPA20081005_095940_000005122072_00380_34502_5850.dim.txt\n",
      "\n",
      "08/26 11:19:43 [\u001b[1;32mNOTICE\u001b[0m] Download complete: participant-e/MER_FRS_1PPEPA20080923_093823_000005122072_00208_34330_5236.dim.txt\n",
      "\n",
      "08/26 11:19:43 [\u001b[1;32mNOTICE\u001b[0m] Download complete: participant-e/MER_FRS_1PPEPA20081006_092803_000005122072_00394_34516_5900.dim.txt\n",
      "\n",
      "08/26 11:19:43 [\u001b[1;32mNOTICE\u001b[0m] Download complete: participant-e/MER_FRS_1PPEPA20081008_100525_000005122072_00423_34545_6000.dim.txt\n",
      "\n",
      "08/26 11:19:43 [\u001b[1;32mNOTICE\u001b[0m] Download complete: participant-e/MER_FRS_1PPEPA20081009_093348_000005122072_00437_34559_6052.dim.txt\n",
      "\n",
      "08/26 11:19:43 [\u001b[1;32mNOTICE\u001b[0m] Download complete: participant-e/MER_FRS_1PPEPA20081018_095102_000005122073_00065_34688_6517.dim.txt\n",
      "\n",
      "08/26 11:19:43 [\u001b[1;32mNOTICE\u001b[0m] Download complete: participant-e/MER_FRS_1PPEPA20081014_203030_000001852073_00014_34637_6349.dim.txt\n",
      "\n",
      "08/26 11:19:43 [\u001b[1;32mNOTICE\u001b[0m] Download complete: participant-e/MER_FRS_1PPEPA20081014_101748_000005182073_00008_34631_6328.dim.txt\n",
      "\n",
      "08/26 11:19:43 [\u001b[1;32mNOTICE\u001b[0m] Download complete: participant-e/MER_FRS_1PPEPA20081024_100232_000005122073_00151_34774_6791.dim.txt\n",
      "\n",
      "08/26 11:19:43 [\u001b[1;32mNOTICE\u001b[0m] Download complete: participant-e/MER_FRS_1PPEPA20081204_202714_000001882074_00243_35367_8469.dim.txt\n",
      "\n",
      "08/26 11:19:43 [\u001b[1;32mNOTICE\u001b[0m] Download complete: participant-e/MER_FRS_1PPEPA20090130_203612_000001882076_00057_36183_1119.dim.txt\n",
      "\n",
      "08/26 11:19:43 [\u001b[1;32mNOTICE\u001b[0m] Download complete: participant-e/MER_FRS_1PPEPA20090311_092659_000005152077_00122_36749_2918.dim.txt\n",
      "\n",
      "08/26 11:19:43 [\u001b[1;32mNOTICE\u001b[0m] Download complete: participant-e/MER_FRS_1PPEPA20090219_095354_000005092076_00337_36463_1964.dim.txt\n",
      "\n",
      "08/26 11:19:43 [\u001b[1;32mNOTICE\u001b[0m] Download complete: participant-e/MER_FRS_1PPEPA20090322_203322_000001882077_00286_36913_3469.dim.txt\n",
      "\n",
      "08/26 11:19:43 [\u001b[1;32mNOTICE\u001b[0m] Download complete: participant-e/MER_FRS_1PPEPA20090316_100816_000005092077_00194_36821_3151.dim.txt\n",
      "\n",
      "08/26 11:19:43 [\u001b[1;32mNOTICE\u001b[0m] Download complete: participant-e/MER_FRS_1PPEPA20090407_203027_000001882078_00014_37142_4263.dim.txt\n",
      "\n",
      "08/26 11:19:43 [\u001b[1;32mNOTICE\u001b[0m] Download complete: participant-e/MER_FRS_1PPEPA20090507_093347_000005122078_00437_37565_5730.dim.txt\n",
      "\n",
      "08/26 11:19:43 [\u001b[1;32mNOTICE\u001b[0m] Download complete: participant-e/MER_FRS_1PPEPA20090424_094223_000005092078_00251_37379_5097.dim.txt\n",
      "\n",
      "08/26 11:19:43 [\u001b[1;32mNOTICE\u001b[0m] Download complete: participant-e/MER_FRS_1PPEPA20090512_203030_000001882079_00014_37643_6023.dim.txt\n",
      "\n",
      "08/26 11:19:43 [\u001b[1;32mNOTICE\u001b[0m] Download complete: participant-e/MER_FRS_1PPEPA20090513_094517_000005122079_00022_37651_6069.dim.txt\n",
      "\n",
      "08/26 11:19:43 [\u001b[1;32mNOTICE\u001b[0m] Download complete: participant-e/MER_FRS_1PPEPA20090526_093842_000005122079_00208_37837_6752.dim.txt\n",
      "\n",
      "08/26 11:19:43 [\u001b[1;32mNOTICE\u001b[0m] Download complete: participant-e/MER_FRS_1PPEPA20090529_094225_000005092079_00251_37880_6909.dim.txt\n",
      "\n",
      "08/26 11:19:43 [\u001b[1;32mNOTICE\u001b[0m] Download complete: participant-e/MER_FRS_1PPEPA20090531_203324_000001882079_00286_37915_7044.dim.txt\n",
      "\n",
      "08/26 11:19:43 [\u001b[1;32mNOTICE\u001b[0m] Download complete: participant-e/MER_FRS_1PPEPA20090721_203032_000001852081_00014_38645_9472.dim.txt\n",
      "\n",
      "08/26 11:19:43 [\u001b[1;32mNOTICE\u001b[0m] Download complete: participant-e/MER_FRS_1PPEPA20090616_203032_000001882080_00014_38144_7841.dim.txt\n",
      "\n",
      "08/26 11:19:43 [\u001b[1;32mNOTICE\u001b[0m] Download complete: participant-e/MER_FRS_1PPEPA20090809_203324_000001852081_00286_38917_0308.dim.txt\n",
      "\n",
      "08/26 11:19:43 [\u001b[1;32mNOTICE\u001b[0m] Download complete: participant-e/MER_FRS_1PPEPA20090908_093609_000005122082_00208_39340_1719.dim.txt\n",
      "\n",
      "08/26 11:19:43 [\u001b[1;32mNOTICE\u001b[0m] Download complete: participant-e/MER_FRS_1PPEPA20090923_100446_000005092082_00423_39555_2431.dim.txt\n",
      "\n",
      "08/26 11:19:43 [\u001b[1;32mNOTICE\u001b[0m] Download complete: participant-e/MER_FRS_1PPEPA20090817_092804_000005122081_00394_39025_0667.dim.txt\n",
      "\n",
      "08/26 11:19:43 [\u001b[1;32mNOTICE\u001b[0m] Download complete: participant-e/MER_FRS_1PPEPA20090929_203025_000001882083_00014_39647_2725.dim.txt\n",
      "\n",
      "08/26 11:19:43 [\u001b[1;32mNOTICE\u001b[0m] Download complete: participant-e/MER_FRS_1PPEPA20091016_094221_000005092083_00251_39884_3432.dim.txt\n",
      "\n",
      "08/26 11:19:43 [\u001b[1;32mNOTICE\u001b[0m] Download complete: participant-e/MER_FRS_1PPEPA20090924_093315_000005092082_00437_39569_2479.dim.txt\n",
      "\n",
      "08/26 11:19:43 [\u001b[1;32mNOTICE\u001b[0m] Download complete: participant-e/MER_FRS_1PPEPA20091015_202611_000002222083_00243_39876_3403.dim.txt\n",
      "\n",
      "08/26 11:19:43 [\u001b[1;32mNOTICE\u001b[0m] Download complete: participant-e/MER_FRS_1PPEPA20091019_094806_000005092083_00294_39927_3565.dim.txt\n",
      "\n",
      "08/26 11:19:43 [\u001b[1;32mNOTICE\u001b[0m] Download complete: participant-e/MER_FRS_1PPEPA20091028_100435_000005092083_00423_40056_3912.dim.txt\n",
      "\n",
      "08/26 11:19:43 [\u001b[1;32mNOTICE\u001b[0m] Download complete: participant-e/MER_FRS_1PPEPA20100112_203025_000001882086_00014_41150_6448.dim.txt\n",
      "\n",
      "08/26 11:19:43 [\u001b[1;32mNOTICE\u001b[0m] Download complete: participant-e/MER_FRS_1PPEPA20100131_203317_000001882086_00286_41422_7113.dim.txt\n",
      "\n",
      "08/26 11:19:43 [\u001b[1;32mNOTICE\u001b[0m] Download complete: participant-e/MER_FRS_1PPEPA20100216_203023_000001852087_00014_41651_7692.dim.txt\n",
      "\n",
      "08/26 11:19:43 [\u001b[1;32mNOTICE\u001b[0m] Download complete: participant-e/MER_FRS_1PPEPA20100203_203901_000001882086_00329_41465_7217.dim.txt\n",
      "\n",
      "08/26 11:19:43 [\u001b[1;32mNOTICE\u001b[0m] Download complete: participant-e/MER_FRS_1PPEPA20100219_203609_000001852087_00057_41694_7825.dim.txt\n",
      "\n",
      "08/26 11:19:43 [\u001b[1;32mNOTICE\u001b[0m] Download complete: participant-e/MER_FRS_1PPEPA20100227_093003_000005092087_00165_41802_8164.dim.txt\n",
      "\n",
      "08/26 11:19:43 [\u001b[1;32mNOTICE\u001b[0m] Download complete: participant-e/MER_FRS_1PPEPA20100328_092112_000005122088_00079_42217_9482.dim.txt\n",
      "\n",
      "08/26 11:19:43 [\u001b[1;32mNOTICE\u001b[0m] Download complete: participant-e/MER_FRS_1PPEPA20100429_091327_000005122089_00036_42675_1046.dim.txt\n",
      "\n",
      "08/26 11:19:43 [\u001b[1;32mNOTICE\u001b[0m] Download complete: participant-e/MER_FRS_1PPEPA20100518_091621_000005122089_00308_42947_2013.dim.txt\n",
      "\n",
      "08/26 11:19:43 [\u001b[1;32mNOTICE\u001b[0m] Download complete: participant-e/MER_FRS_1PPEPA20100524_092738_000005122089_00394_43033_2326.dim.txt\n",
      "\n",
      "08/26 11:19:43 [\u001b[1;32mNOTICE\u001b[0m] Download complete: participant-e/MER_FRS_1PPEPA20100818_092456_000005122092_00122_44264_6659.dim.txt\n",
      "\n",
      "08/26 11:19:43 [\u001b[1;32mNOTICE\u001b[0m] Download complete: participant-e/MER_FRS_1PPEPA20100821_093120_000005122092_00165_44307_6802.dim.txt\n",
      "\n",
      "08/26 11:19:43 [\u001b[1;32mNOTICE\u001b[0m] Download complete: participant-e/MER_FRS_1PPEPA20100912_094327_000005122092_00480_44622_7896.dim.txt\n",
      "\n",
      "08/26 11:19:43 [\u001b[1;32mNOTICE\u001b[0m] Download complete: participant-e/MER_FRS_1PPEPA20100919_092125_000005122093_00079_44722_8212.dim.txt\n",
      "\n",
      "Download Results:\n",
      "gid   |stat|avg speed  |path/URI\n",
      "======+====+===========+=======================================================\n",
      "6c1cb9|\u001b[1;32mOK\u001b[0m  |        n/a|participant-e/MER_FRS_1PPEPA20021210_203056_000001072012_00014_04076_1811.dim.txt\n",
      "d955e6|\u001b[1;32mOK\u001b[0m  |        n/a|participant-e/MER_FRS_1PPEPA20021213_203634_000001072012_00057_04119_1839.dim.txt\n",
      "df217d|\u001b[1;32mOK\u001b[0m  |        n/a|participant-e/MER_FRS_1PPEPA20021127_203927_000001092011_00329_03890_1715.dim.txt\n",
      "31c954|\u001b[1;32mOK\u001b[0m  |        n/a|participant-e/MER_FRS_1PPEPA20020813_091828_000002332008_00308_02366_1250.dim.txt\n",
      "f8c84c|\u001b[1;32mOK\u001b[0m  |        n/a|participant-e/MER_FRS_1PPEPA20020819_092735_000005092008_00394_02452_1273.dim.txt\n",
      "2db298|\u001b[1;32mOK\u001b[0m  |        n/a|participant-e/MER_FRS_1PPEPA20021108_203637_000001072011_00057_03618_1637.dim.txt\n",
      "ef644e|\u001b[1;32mOK\u001b[0m  |        n/a|participant-e/MER_FRS_1PPEPA20021219_204805_000000922012_00143_04205_1894.dim.txt\n",
      "874899|\u001b[1;32mOK\u001b[0m  |        n/a|participant-e/MER_FRS_1PPEPA20030117_203635_000001072013_00057_04620_2153.dim.txt\n",
      "ccffb0|\u001b[1;32mOK\u001b[0m  |        n/a|participant-e/MER_FRS_1PPEPA20030306_202752_000001942014_00243_05307_2670.dim.txt\n",
      "6c95ea|\u001b[1;32mOK\u001b[0m  |        n/a|participant-e/MER_FRS_1PPEPA20030202_203345_000001212013_00286_04849_2336.dim.txt\n",
      "88b9e5|\u001b[1;32mOK\u001b[0m  |        n/a|participant-e/MER_FRS_1PPEPA20030218_203054_000001072014_00014_05078_2497.dim.txt\n",
      "bf9032|\u001b[1;32mOK\u001b[0m  |        n/a|participant-e/MER_FRS_1PPEPA20030501_091752_000004782016_00036_06102_3361.dim.txt\n",
      "903b91|\u001b[1;32mOK\u001b[0m  |        n/a|participant-e/MER_FRS_1PPEPA20030526_093145_000001972016_00394_06460_3564.dim.txt\n",
      "b5d1ad|\u001b[1;32mOK\u001b[0m  |        n/a|participant-e/MER_FRS_1PPEPA20030205_203925_000001092013_00329_04892_2366.dim.txt\n",
      "4ce446|\u001b[1;32mOK\u001b[0m  |        n/a|participant-e/MER_FRS_1PPEPA20030812_203105_000001072019_00014_07583_5397.dim.txt\n",
      "2a426f|\u001b[1;32mOK\u001b[0m  |        n/a|participant-e/MER_FRS_1PPEPA20030926_100439_000001942020_00151_08221_6522.dim.txt\n",
      "580d29|\u001b[1;32mOK\u001b[0m  |        n/a|participant-e/MER_FRS_1PPEPA20030507_092912_000004732016_00122_06188_3417.dim.txt\n",
      "1f1934|\u001b[1;32mOK\u001b[0m  |        n/a|participant-e/MER_FRS_1PPEPA20030916_203107_000001072020_00014_08084_6243.dim.txt\n",
      "d86495|\u001b[1;32mOK\u001b[0m  |        n/a|participant-e/MER_FRS_1PPEPA20030902_091613_000003152019_00308_07877_5948.dim.txt\n",
      "60a986|\u001b[1;32mOK\u001b[0m  |        n/a|participant-e/MER_FRS_1PPEPA20031010_092150_000005122020_00351_08421_6960.dim.txt\n",
      "25b62b|\u001b[1;32mOK\u001b[0m  |        n/a|participant-e/MER_FRS_1PPEPA20031005_203355_000001072020_00286_08356_6821.dim.txt\n",
      "440f2d|\u001b[1;32mOK\u001b[0m  |        n/a|participant-e/MER_FRS_1PPEPA20030930_093340_000005092020_00208_08278_6654.dim.txt\n",
      "8cee53|\u001b[1;32mOK\u001b[0m  |        n/a|participant-e/MER_FRS_1PPEPA20031016_093556_000001682020_00437_08507_7084.dim.txt\n",
      "aec807|\u001b[1;32mOK\u001b[0m  |        n/a|participant-e/MER_FRS_1PPEPA20031009_095106_000005092020_00337_08407_6925.dim.txt\n",
      "23f0a0|\u001b[1;32mOK\u001b[0m  |        n/a|participant-e/MER_FRS_1PPEPA20031021_203109_000001012021_00014_08585_7296.dim.txt\n",
      "f96b2e|\u001b[1;32mOK\u001b[0m  |        n/a|participant-e/MER_FRS_1PPEPA20031019_094140_000001912020_00480_08550_7196.dim.txt\n",
      "a0ce7f|\u001b[1;32mOK\u001b[0m  |        n/a|participant-e/MER_FRS_1PPEPA20031025_095112_000003772021_00065_08636_7413.dim.txt\n",
      "086aac|\u001b[1;32mOK\u001b[0m  |        n/a|participant-e/MER_FRS_1PPEPA20031024_203642_000001092021_00057_08628_7392.dim.txt\n",
      "4d6bad|\u001b[1;32mOK\u001b[0m  |        n/a|participant-e/MER_FRS_1PPEPA20031028_095603_000003942021_00108_08679_7497.dim.txt\n",
      "2649b3|\u001b[1;32mOK\u001b[0m  |        n/a|participant-e/MER_FRS_1PPEPA20031106_202807_000001292021_00243_08814_7786.dim.txt\n",
      "90a160|\u001b[1;32mOK\u001b[0m  |        n/a|participant-e/MER_FRS_1PPEPA20031109_203351_000001072021_00286_08857_7879.dim.txt\n",
      "c6f41b|\u001b[1;32mOK\u001b[0m  |        n/a|participant-e/MER_FRS_1PPEPA20031220_204513_000001072022_00372_09444_7913.dim.txt\n",
      "8a26d7|\u001b[1;32mOK\u001b[0m  |        n/a|participant-e/MER_FRS_1PPEPA20031122_202410_000002302021_00472_09043_7149.dim.txt\n",
      "528823|\u001b[1;32mOK\u001b[0m  |        n/a|participant-e/MER_FRS_1PPEPA20040105_204224_000001072023_00100_09673_8427.dim.txt\n",
      "1a5638|\u001b[1;32mOK\u001b[0m  |        n/a|participant-e/MER_FRS_1PPEPA20040203_203100_000001072024_00014_10088_9292.dim.txt\n",
      "95ecd4|\u001b[1;32mOK\u001b[0m  |        n/a|participant-e/MER_FRS_1PPEPA20040115_202822_000001152023_00243_09816_8725.dim.txt\n",
      "35f347|\u001b[1;32mOK\u001b[0m  |        n/a|participant-e/MER_FRS_1PPEPA20040222_203349_000001072024_00286_10360_0001.dim.txt\n",
      "b920fa|\u001b[1;32mOK\u001b[0m  |        n/a|participant-e/MER_FRS_1PPEPA20040219_202819_000000872024_00243_10317_9795.dim.txt\n",
      "23440e|\u001b[1;32mOK\u001b[0m  |        n/a|participant-e/MER_FRS_1PPEPA20040131_202511_000001632023_00472_10045_9198.dim.txt\n",
      "645832|\u001b[1;32mOK\u001b[0m  |        n/a|participant-e/MER_FRS_1PPEPA20040309_203102_000001072025_00014_10589_0642.dim.txt\n",
      "72c7db|\u001b[1;32mOK\u001b[0m  |        n/a|participant-e/MER_FRS_1PPEPA20040312_203643_000001072025_00057_10632_0726.dim.txt\n",
      "a94354|\u001b[1;32mOK\u001b[0m  |        n/a|participant-e/MER_FRS_1PPEPA20040326_094658_000002562025_00251_10826_1173.dim.txt\n",
      "200899|\u001b[1;32mOK\u001b[0m  |        n/a|participant-e/MER_FRS_1PPEPA20040316_095357_000005122025_00108_10683_0826.dim.txt\n",
      "d63420|\u001b[1;32mOK\u001b[0m  |        n/a|participant-e/MER_FRS_1PPEPA20040401_095023_000005122025_00337_10912_1359.dim.txt\n",
      "43367a|\u001b[1;32mOK\u001b[0m  |        n/a|participant-e/MER_FRS_1PPEPA20040413_203100_000001072026_00014_11090_1759.dim.txt\n",
      "e1ed1e|\u001b[1;32mOK\u001b[0m  |        n/a|participant-e/MER_FRS_1PPEPA20040407_201731_000002952025_00429_11004_1561.dim.txt\n",
      "d5ab90|\u001b[1;32mOK\u001b[0m  |        n/a|participant-e/MER_FRS_1PPEPA20040513_093321_000005122026_00437_11513_9619.dim.txt\n",
      "19cd9e|\u001b[1;32mOK\u001b[0m  |        n/a|participant-e/MER_FRS_1PPEPA20040510_092459_000005122026_00394_11470_9511.dim.txt\n",
      "6e5a6f|\u001b[1;32mOK\u001b[0m  |        n/a|participant-e/MER_FRS_1PPEPA20040529_092756_000005122027_00165_11742_0329.dim.txt\n",
      "a22c4f|\u001b[1;32mOK\u001b[0m  |        n/a|participant-e/MER_FRS_1PPEPA20040518_203112_000000982027_00014_11591_9828.dim.txt\n",
      "e908aa|\u001b[1;32mOK\u001b[0m  |        n/a|participant-e/MER_FRS_1PPEPA20040520_091049_000005122027_00036_11613_9887.dim.txt\n",
      "d560d1|\u001b[1;32mOK\u001b[0m  |        n/a|participant-e/MER_FRS_1PPEPA20040604_094657_000002502027_00251_11828_0550.dim.txt\n",
      "fbbbaa|\u001b[1;32mOK\u001b[0m  |        n/a|participant-e/MER_FRS_1PPEPA20040617_093325_000005122027_00437_12014_1047.dim.txt\n",
      "8bb7f7|\u001b[1;32mOK\u001b[0m  |        n/a|participant-e/MER_FRS_1PPEPA20040703_093157_000004582028_00165_12243_1569.dim.txt\n",
      "267aef|\u001b[1;32mOK\u001b[0m  |        n/a|participant-e/MER_FRS_1PPEPA20040711_203249_000002422028_00286_12364_1811.dim.txt\n",
      "a4950d|\u001b[1;32mOK\u001b[0m  |        n/a|participant-e/MER_FRS_1PPEPA20040727_203043_000001632029_00014_12593_2338.dim.txt\n",
      "f66770|\u001b[1;32mOK\u001b[0m  |        n/a|participant-e/MER_FRS_1PPEPA20040708_202627_000002422028_00243_12321_1725.dim.txt\n",
      "e1f8a0|\u001b[1;32mOK\u001b[0m  |        n/a|participant-e/MER_FRS_1PPEPA20040712_094749_000005122028_00294_12372_1824.dim.txt\n",
      "e774cb|\u001b[1;32mOK\u001b[0m  |        n/a|participant-e/MER_FRS_1PPEPA20040729_091811_000004872029_00036_12615_2385.dim.txt\n",
      "ec3f70|\u001b[1;32mOK\u001b[0m  |        n/a|participant-e/MER_FRS_1PPEPA20040807_093033_000005122029_00165_12744_2674.dim.txt\n",
      "67a2e2|\u001b[1;32mOK\u001b[0m  |        n/a|participant-e/MER_FRS_1PPEPA20040817_091841_000005122029_00308_12887_3012.dim.txt\n",
      "44848f|\u001b[1;32mOK\u001b[0m  |        n/a|participant-e/MER_FRS_1PPEPA20040820_092402_000004392029_00351_12930_3133.dim.txt\n",
      "96ac2b|\u001b[1;32mOK\u001b[0m  |        n/a|participant-e/MER_FRS_1PPEPA20040823_092953_000004052029_00394_12973_3252.dim.txt\n",
      "b983cd|\u001b[1;32mOK\u001b[0m  |        n/a|participant-e/MER_FRS_1PPEPA20040829_094236_000004922029_00480_13059_3460.dim.txt\n",
      "a3450c|\u001b[1;32mOK\u001b[0m  |        n/a|participant-e/MER_FRS_1PPEPA20040901_094447_000005122030_00022_13102_3574.dim.txt\n",
      "880683|\u001b[1;32mOK\u001b[0m  |        n/a|participant-e/MER_FRS_1PPEPA20040908_092440_000005122030_00122_13202_3869.dim.txt\n",
      "baaeaa|\u001b[1;32mOK\u001b[0m  |        n/a|participant-e/MER_FRS_1PPEPA20040916_202533_000003432030_00243_13323_4153.dim.txt\n",
      "6856c6|\u001b[1;32mOK\u001b[0m  |        n/a|participant-e/MER_FRS_1PPEPA20040917_094404_000004612030_00251_13331_4171.dim.txt\n",
      "66ed11|\u001b[1;32mOK\u001b[0m  |        n/a|participant-e/MER_FRS_1PPEPA20040923_095301_000005122030_00337_13417_4382.dim.txt\n",
      "e0aa1f|\u001b[1;32mOK\u001b[0m  |        n/a|participant-e/MER_FRS_1PPEPA20040920_094906_000005122030_00294_13374_4278.dim.txt\n",
      "00f962|\u001b[1;32mOK\u001b[0m  |        n/a|participant-e/MER_FRS_1PPEPA20040927_092739_000005122030_00394_13474_4517.dim.txt\n",
      "a77605|\u001b[1;32mOK\u001b[0m  |        n/a|participant-e/MER_FRS_1PPEPA20040926_095854_000005122030_00380_13460_4482.dim.txt\n",
      "aff65b|\u001b[1;32mOK\u001b[0m  |        n/a|participant-e/MER_FRS_1PPEPA20041005_202901_000003822031_00014_13595_4819.dim.txt\n",
      "d66930|\u001b[1;32mOK\u001b[0m  |        n/a|participant-e/MER_FRS_1PPEPA20040930_093322_000005122030_00437_13517_4621.dim.txt\n",
      "9e2f36|\u001b[1;32mOK\u001b[0m  |        n/a|participant-e/MER_FRS_1PPEPA20041214_203100_000001072033_00014_14597_0279.dim.txt\n",
      "fbf20d|\u001b[1;32mOK\u001b[0m  |        n/a|participant-e/MER_FRS_1PPEPA20041217_203640_000001072033_00057_14640_0388.dim.txt\n",
      "a3c911|\u001b[1;32mOK\u001b[0m  |        n/a|participant-e/MER_FRS_1PPEPA20050124_204051_000003292034_00100_15184_1621.dim.txt\n",
      "f1755f|\u001b[1;32mOK\u001b[0m  |        n/a|participant-e/MER_FRS_1PPEPA20050105_203927_000001072033_00329_14912_1000.dim.txt\n",
      "26095c|\u001b[1;32mOK\u001b[0m  |        n/a|participant-e/MER_FRS_1PPEPA20050121_203641_000001072034_00057_15141_1518.dim.txt\n",
      "b75c64|\u001b[1;32mOK\u001b[0m  |        n/a|participant-e/MER_FRS_1PPEPA20050222_203005_000002052035_00014_15599_2470.dim.txt\n",
      "f53c91|\u001b[1;32mOK\u001b[0m  |        n/a|participant-e/MER_FRS_1PPEPA20050301_095603_000005122035_00108_15693_2701.dim.txt\n",
      "002b65|\u001b[1;32mOK\u001b[0m  |        n/a|participant-e/MER_FRS_1PPEPA20050305_093415_000005122035_00165_15750_2848.dim.txt\n",
      "bb7475|\u001b[1;32mOK\u001b[0m  |        n/a|participant-e/MER_FRS_1PPEPA20050302_092830_000005122035_00122_15707_2742.dim.txt\n",
      "7ca06c|\u001b[1;32mOK\u001b[0m  |        n/a|participant-e/MER_FRS_1PPEPA20050331_091540_000005122036_00036_16122_3804.dim.txt\n",
      "58fac0|\u001b[1;32mOK\u001b[0m  |        n/a|participant-e/MER_FRS_1PPEPA20050320_100028_000005122035_00380_15965_3408.dim.txt\n",
      "a38236|\u001b[1;32mOK\u001b[0m  |        n/a|participant-e/MER_FRS_1PPEPA20050409_093032_000005122036_00165_16251_4134.dim.txt\n",
      "a44558|\u001b[1;32mOK\u001b[0m  |        n/a|participant-e/MER_FRS_1PPEPA20050403_092122_000005122036_00079_16165_3907.dim.txt\n",
      "d15af4|\u001b[1;32mOK\u001b[0m  |        n/a|participant-e/MER_FRS_1PPEPA20050414_202329_000005122036_00243_16329_4333.dim.txt\n",
      "145e52|\u001b[1;32mOK\u001b[0m  |        n/a|participant-e/MER_FRS_1PPEPA20050415_094158_000005122036_00251_16337_4358.dim.txt\n",
      "639121|\u001b[1;32mOK\u001b[0m  |        n/a|participant-e/MER_FRS_1PPEPA20050422_092151_000005122036_00351_16437_4615.dim.txt\n",
      "8a9270|\u001b[1;32mOK\u001b[0m  |        n/a|participant-e/MER_FRS_1PPEPA20050417_203404_000000982036_00286_16372_4443.dim.txt\n",
      "13b821|\u001b[1;32mOK\u001b[0m  |        n/a|participant-e/MER_FRS_1PPEPA20050503_203025_000001882037_00014_16601_5081.dim.txt\n",
      "52f456|\u001b[1;32mOK\u001b[0m  |        n/a|participant-e/MER_FRS_1PPEPA20050504_094915_000003542037_00022_16609_5110.dim.txt\n",
      "9e6fc8|\u001b[1;32mOK\u001b[0m  |        n/a|participant-e/MER_FRS_1PPEPA20050527_092151_000005122037_00351_16938_6270.dim.txt\n",
      "452cc8|\u001b[1;32mOK\u001b[0m  |        n/a|participant-e/MER_FRS_1PPEPA20050712_203115_000001012039_00014_17603_8550.dim.txt\n",
      "2a418e|\u001b[1;32mOK\u001b[0m  |        n/a|participant-e/MER_FRS_1PPEPA20050517_093618_000005122037_00208_16795_5716.dim.txt\n",
      "1e065b|\u001b[1;32mOK\u001b[0m  |        n/a|participant-e/MER_FRS_1PPEPA20050726_093618_000005122039_00208_17797_9137.dim.txt\n",
      "c56d22|\u001b[1;32mOK\u001b[0m  |        n/a|participant-e/MER_FRS_1PPEPA20050713_094704_000005122039_00022_17611_8572.dim.txt\n",
      "cdba39|\u001b[1;32mOK\u001b[0m  |        n/a|participant-e/MER_FRS_1PPEPA20050723_093250_000005122039_00165_17754_9008.dim.txt\n",
      "5652ad|\u001b[1;32mOK\u001b[0m  |        n/a|participant-e/MER_FRS_1PPEPA20050801_094739_000005122039_00294_17883_9419.dim.txt\n",
      "daf8e5|\u001b[1;32mOK\u001b[0m  |        n/a|participant-e/MER_FRS_1PPEPA20050814_093905_000005122039_00480_18069_0123.dim.txt\n",
      "220ad1|\u001b[1;32mOK\u001b[0m  |        n/a|participant-e/MER_FRS_1PPEPA20050808_092742_000005122039_00394_17983_9731.dim.txt\n",
      "721a7a|\u001b[1;32mOK\u001b[0m  |        n/a|participant-e/MER_FRS_1PPEPA20050816_202835_000003742040_00014_18104_0272.dim.txt\n",
      "09c2ad|\u001b[1;32mOK\u001b[0m  |        n/a|participant-e/MER_FRS_1PPEPA20050817_094659_000005122040_00022_18112_0300.dim.txt\n",
      "3253f4|\u001b[1;32mOK\u001b[0m  |        n/a|participant-e/MER_FRS_1PPEPA20050904_203316_000001852040_00286_18376_1201.dim.txt\n",
      "5e6600|\u001b[1;32mOK\u001b[0m  |        n/a|participant-e/MER_FRS_1PPEPA20050830_094049_000005122040_00208_18298_0922.dim.txt\n",
      "35d99c|\u001b[1;32mOK\u001b[0m  |        n/a|participant-e/MER_FRS_1PPEPA20050912_092741_000005122040_00394_18484_1546.dim.txt\n",
      "000ddb|\u001b[1;32mOK\u001b[0m  |        n/a|participant-e/MER_FRS_1PPEPA20050923_102052_000005122041_00051_18642_2065.dim.txt\n",
      "b6b7f2|\u001b[1;32mOK\u001b[0m  |        n/a|participant-e/MER_FRS_1PPEPA20050920_203110_000001012041_00014_18605_1933.dim.txt\n",
      "8b12a1|\u001b[1;32mOK\u001b[0m  |        n/a|participant-e/MER_FRS_1PPEPA20050923_203423_000003742041_00057_18648_2085.dim.txt\n",
      "36c854|\u001b[1;32mOK\u001b[0m  |        n/a|participant-e/MER_FRS_1PPEPA20050924_095027_000005122041_00065_18656_2160.dim.txt\n",
      "c64524|\u001b[1;32mOK\u001b[0m  |        n/a|participant-e/MER_FRS_1PPEPA20051001_093033_000005122041_00165_18756_2516.dim.txt\n",
      "0090bb|\u001b[1;32mOK\u001b[0m  |        n/a|participant-e/MER_FRS_1PPEPA20051009_101801_000005122041_00280_18871_2916.dim.txt\n",
      "15f649|\u001b[1;32mOK\u001b[0m  |        n/a|participant-e/MER_FRS_1PPEPA20050930_100211_000005122041_00151_18742_2459.dim.txt\n",
      "654e1d|\u001b[1;32mOK\u001b[0m  |        n/a|participant-e/MER_FRS_1PPEPA20051013_095317_000005122041_00337_18928_3110.dim.txt\n",
      "bfd423|\u001b[1;32mOK\u001b[0m  |        n/a|participant-e/MER_FRS_1PPEPA20051025_101511_000005122042_00008_19100_4957.dim.txt\n",
      "6f5b48|\u001b[1;32mOK\u001b[0m  |        n/a|participant-e/MER_FRS_1PPEPA20051016_100347_000003372041_00380_18971_3257.dim.txt\n",
      "652084|\u001b[1;32mOK\u001b[0m  |        n/a|participant-e/MER_FRS_1PPEPA20051010_094737_000005122041_00294_18885_2974.dim.txt\n",
      "9e1e8c|\u001b[1;32mOK\u001b[0m  |        n/a|participant-e/MER_FRS_1PPEPA20051025_203105_000001072042_00014_19106_4296.dim.txt\n",
      "89e660|\u001b[1;32mOK\u001b[0m  |        n/a|participant-e/MER_FRS_1PPEPA20051026_095008_000004082042_00022_19114_4975.dim.txt\n",
      "1e979b|\u001b[1;32mOK\u001b[0m  |        n/a|participant-e/MER_FRS_1PPEPA20051113_203112_000004392042_00286_19378_5298.dim.txt\n",
      "2a24fa|\u001b[1;32mOK\u001b[0m  |        n/a|participant-e/MER_FRS_1PPEPA20051110_202625_000002672042_00243_19335_5183.dim.txt\n",
      "7056a5|\u001b[1;32mOK\u001b[0m  |        n/a|participant-e/MER_FRS_1PPEPA20051028_102303_000005122042_00051_19143_4419.dim.txt\n",
      "d60473|\u001b[1;32mOK\u001b[0m  |        n/a|participant-e/MER_FRS_1PPEPA20051029_095046_000005122042_00065_19157_5021.dim.txt\n",
      "06e495|\u001b[1;32mOK\u001b[0m  |        n/a|participant-e/MER_FRS_1PPEPA20051202_203640_000001072043_00057_19650_5996.dim.txt\n",
      "49c6c4|\u001b[1;32mOK\u001b[0m  |        n/a|participant-e/MER_FRS_1PPEPA20060404_091924_000005122046_00308_21404_4654.dim.txt\n",
      "e409e9|\u001b[1;32mOK\u001b[0m  |        n/a|participant-e/MER_FRS_1PPEPA20060402_202936_000004362046_00286_21382_4581.dim.txt\n",
      "4beb79|\u001b[1;32mOK\u001b[0m  |        n/a|participant-e/MER_FRS_1PPEPA20060315_094754_000005122046_00022_21118_3808.dim.txt\n",
      "a91a7a|\u001b[1;32mOK\u001b[0m  |        n/a|participant-e/MER_FRS_1PPEPA20060418_203055_000001092047_00014_21611_5157.dim.txt\n",
      "e31997|\u001b[1;32mOK\u001b[0m  |        n/a|participant-e/MER_FRS_1PPEPA20060423_092057_000005122047_00079_21676_5348.dim.txt\n",
      "65c9be|\u001b[1;32mOK\u001b[0m  |        n/a|participant-e/MER_FRS_1PPEPA20060429_093226_000005122047_00165_21762_5636.dim.txt\n",
      "e33b7a|\u001b[1;32mOK\u001b[0m  |        n/a|participant-e/MER_FRS_1PPEPA20060515_092934_000005122047_00394_21991_6430.dim.txt\n",
      "82a312|\u001b[1;32mOK\u001b[0m  |        n/a|participant-e/MER_FRS_1PPEPA20060505_094356_000005122047_00251_21848_5913.dim.txt\n",
      "28a23d|\u001b[1;32mOK\u001b[0m  |        n/a|participant-e/MER_FRS_1PPEPA20060523_203059_000001072048_00014_22112_6827.dim.txt\n",
      "071885|\u001b[1;32mOK\u001b[0m  |        n/a|participant-e/MER_FRS_1PPEPA20060524_094759_000005122048_00022_22120_6854.dim.txt\n",
      "3408aa|\u001b[1;32mOK\u001b[0m  |        n/a|participant-e/MER_FRS_1PPEPA20060603_093344_000005122048_00165_22263_7837.dim.txt\n",
      "86eb3c|\u001b[1;32mOK\u001b[0m  |        n/a|participant-e/MER_FRS_1PPEPA20060606_093813_000005122048_00208_22306_7998.dim.txt\n",
      "b55ba4|\u001b[1;32mOK\u001b[0m  |        n/a|participant-e/MER_FRS_1PPEPA20060609_094358_000005122048_00251_22349_8135.dim.txt\n",
      "1a91b7|\u001b[1;32mOK\u001b[0m  |        n/a|participant-e/MER_FRS_1PPEPA20060611_203403_000000952048_00286_22384_8242.dim.txt\n",
      "57e4cc|\u001b[1;32mOK\u001b[0m  |        n/a|participant-e/MER_FRS_1PPEPA20060708_093536_000004422049_00165_22764_9421.dim.txt\n",
      "60462f|\u001b[1;32mOK\u001b[0m  |        n/a|participant-e/MER_FRS_1PPEPA20060714_094403_000005122049_00251_22850_9709.dim.txt\n",
      "76b3b2|\u001b[1;32mOK\u001b[0m  |        n/a|participant-e/MER_FRS_1PPEPA20060716_203313_000001942049_00286_22885_9820.dim.txt\n",
      "5ee7d6|\u001b[1;32mOK\u001b[0m  |        n/a|participant-e/MER_FRS_1PPEPA20060727_093526_000005122049_00437_23036_0444.dim.txt\n",
      "3c1730|\u001b[1;32mOK\u001b[0m  |        n/a|participant-e/MER_FRS_1PPEPA20060730_094111_000005122049_00480_23079_0599.dim.txt\n",
      "2d5362|\u001b[1;32mOK\u001b[0m  |        n/a|participant-e/MER_FRS_1PPEPA20060801_203112_000001012050_00014_23114_0720.dim.txt\n",
      "9cf140|\u001b[1;32mOK\u001b[0m  |        n/a|participant-e/MER_FRS_1PPEPA20060831_093522_000005122050_00437_23537_2074.dim.txt\n",
      "97aa4a|\u001b[1;32mOK\u001b[0m  |        n/a|participant-e/MER_FRS_1PPEPA20060818_094514_000005122050_00251_23351_1472.dim.txt\n",
      "5d8f69|\u001b[1;32mOK\u001b[0m  |        n/a|participant-e/MER_FRS_1PPEPA20060821_094946_000005122050_00294_23394_1608.dim.txt\n",
      "4bd0cf|\u001b[1;32mOK\u001b[0m  |        n/a|participant-e/MER_FRS_1PPEPA20060805_095240_000005122050_00065_23165_0894.dim.txt\n",
      "5b25dd|\u001b[1;32mOK\u001b[0m  |        n/a|participant-e/MER_FRS_1PPEPA20060905_203015_000001992051_00014_23615_2327.dim.txt\n",
      "4f986d|\u001b[1;32mOK\u001b[0m  |        n/a|participant-e/MER_FRS_1PPEPA20060913_092641_000005122051_00122_23723_2520.dim.txt\n",
      "2729ae|\u001b[1;32mOK\u001b[0m  |        n/a|participant-e/MER_FRS_1PPEPA20060906_094801_000005122051_00022_23623_2354.dim.txt\n",
      "cbc452|\u001b[1;32mOK\u001b[0m  |        n/a|participant-e/MER_FRS_1PPEPA20060922_094152_000005122051_00251_23852_2937.dim.txt\n",
      "32b7b6|\u001b[1;32mOK\u001b[0m  |        n/a|participant-e/MER_FRS_1PPEPA20060924_203404_000000922051_00286_23887_3037.dim.txt\n",
      "731ea7|\u001b[1;32mOK\u001b[0m  |        n/a|participant-e/MER_FRS_1PPEPA20061010_203102_000001072052_00014_24116_3427.dim.txt\n",
      "8e9197|\u001b[1;32mOK\u001b[0m  |        n/a|participant-e/MER_FRS_1PPEPA20061008_093905_000005122051_00480_24081_3357.dim.txt\n",
      "8d4726|\u001b[1;32mOK\u001b[0m  |        n/a|participant-e/MER_FRS_1PPEPA20061010_101834_000005062052_00008_24110_3417.dim.txt\n",
      "d3cc12|\u001b[1;32mOK\u001b[0m  |        n/a|participant-e/MER_FRS_1PPEPA20061011_094804_000005122052_00022_24124_3437.dim.txt\n",
      "a6cbe8|\u001b[1;32mOK\u001b[0m  |        n/a|participant-e/MER_FRS_1PPEPA20061013_102417_000004892052_00051_24153_3505.dim.txt\n",
      "2649b2|\u001b[1;32mOK\u001b[0m  |        n/a|participant-e/MER_FRS_1PPEPA20061013_203643_000001072052_00057_24159_3517.dim.txt\n",
      "c55545|\u001b[1;32mOK\u001b[0m  |        n/a|participant-e/MER_FRS_1PPEPA20061017_095606_000005122052_00108_24210_3613.dim.txt\n",
      "04c50e|\u001b[1;32mOK\u001b[0m  |        n/a|participant-e/MER_FRS_1PPEPA20061117_203642_000001072053_00057_24660_4975.dim.txt\n",
      "71548e|\u001b[1;32mOK\u001b[0m  |        n/a|participant-e/MER_FRS_1PPEPA20061130_202641_000002752053_00243_24846_5486.dim.txt\n",
      "09c2b2|\u001b[1;32mOK\u001b[0m  |        n/a|participant-e/MER_FRS_1PPEPA20061219_203101_000001072054_00014_25118_6179.dim.txt\n",
      "540897|\u001b[1;32mOK\u001b[0m  |        n/a|participant-e/MER_FRS_1PPEPA20061225_204222_000001072054_00100_25204_6466.dim.txt\n",
      "37639c|\u001b[1;32mOK\u001b[0m  |        n/a|participant-e/MER_FRS_1PPEPA20070227_101502_000005092056_00008_26114_2448.dim.txt\n",
      "602d71|\u001b[1;32mOK\u001b[0m  |        n/a|participant-e/MER_FRS_1PPEPA20070218_100151_000005092055_00380_25985_2024.dim.txt\n",
      "aed95b|\u001b[1;32mOK\u001b[0m  |        n/a|participant-e/MER_FRS_1PPEPA20070303_095314_000005092056_00065_26171_2656.dim.txt\n",
      "68af5c|\u001b[1;32mOK\u001b[0m  |        n/a|participant-e/MER_FRS_1PPEPA20070309_100525_000005092056_00151_26257_2947.dim.txt\n",
      "d8ee49|\u001b[1;32mOK\u001b[0m  |        n/a|participant-e/MER_FRS_1PPEPA20070312_101110_000005122056_00194_26300_3098.dim.txt\n",
      "a2b78d|\u001b[1;32mOK\u001b[0m  |        n/a|participant-e/MER_FRS_1PPEPA20070313_093932_000005092056_00208_26314_3149.dim.txt\n",
      "890258|\u001b[1;32mOK\u001b[0m  |        n/a|participant-e/MER_FRS_1PPEPA20070322_095647_000005122056_00337_26443_3628.dim.txt\n",
      "4d504d|\u001b[1;32mOK\u001b[0m  |        n/a|participant-e/MER_FRS_1PPEPA20070323_092142_000005122056_00351_26457_3671.dim.txt\n",
      "0e71ee|\u001b[1;32mOK\u001b[0m  |        n/a|participant-e/MER_FRS_1PPEPA20070326_093039_000005122056_00394_26500_3805.dim.txt\n",
      "fb7738|\u001b[1;32mOK\u001b[0m  |        n/a|participant-e/MER_FRS_1PPEPA20070404_094657_000004872057_00022_26629_5268.dim.txt\n",
      "ab11a6|\u001b[1;32mOK\u001b[0m  |        n/a|participant-e/MER_FRS_1PPEPA20070329_093633_000005122056_00437_26543_3960.dim.txt\n",
      "5474f7|\u001b[1;32mOK\u001b[0m  |        n/a|participant-e/MER_FRS_1PPEPA20070403_202959_000001882057_00014_26621_5241.dim.txt\n",
      "77a843|\u001b[1;32mOK\u001b[0m  |        n/a|participant-e/MER_FRS_1PPEPA20070407_095344_000005092057_00065_26672_5403.dim.txt\n",
      "bbdb36|\u001b[1;32mOK\u001b[0m  |        n/a|participant-e/MER_FRS_1PPEPA20070406_203553_000001882057_00057_26664_5373.dim.txt\n",
      "d05b8e|\u001b[1;32mOK\u001b[0m  |        n/a|participant-e/MER_FRS_1PPEPA20070414_093014_000005122057_00165_26772_4325.dim.txt\n",
      "6a32ce|\u001b[1;32mOK\u001b[0m  |        n/a|participant-e/MER_FRS_1PPEPA20070417_093924_000005122057_00208_26815_4467.dim.txt\n",
      "f7cb75|\u001b[1;32mOK\u001b[0m  |        n/a|participant-e/MER_FRS_1PPEPA20070420_094509_000005092057_00251_26858_4597.dim.txt\n",
      "c0f7ee|\u001b[1;32mOK\u001b[0m  |        n/a|participant-e/MER_FRS_1PPEPA20070509_094523_000005092058_00022_27130_5490.dim.txt\n",
      "062104|\u001b[1;32mOK\u001b[0m  |        n/a|participant-e/MER_FRS_1PPEPA20070506_093849_000005122057_00480_27087_5347.dim.txt\n",
      "818eec|\u001b[1;32mOK\u001b[0m  |        n/a|participant-e/MER_FRS_1PPEPA20070513_092136_000005092058_00079_27187_5694.dim.txt\n",
      "8cf034|\u001b[1;32mOK\u001b[0m  |        n/a|participant-e/MER_FRS_1PPEPA20070519_093101_000005092058_00165_27273_5971.dim.txt\n",
      "0139e7|\u001b[1;32mOK\u001b[0m  |        n/a|participant-e/MER_FRS_1PPEPA20070613_094525_000005092059_00022_27631_7173.dim.txt\n",
      "a008e7|\u001b[1;32mOK\u001b[0m  |        n/a|participant-e/MER_FRS_1PPEPA20070516_092515_000005092058_00122_27230_5826.dim.txt\n",
      "0b0fa6|\u001b[1;32mOK\u001b[0m  |        n/a|participant-e/MER_FRS_1PPEPA20070612_203056_000001122059_00014_27623_7142.dim.txt\n",
      "94e2a0|\u001b[1;32mOK\u001b[0m  |        n/a|participant-e/MER_FRS_1PPEPA20070701_203347_000001122059_00286_27895_8046.dim.txt\n",
      "acb75e|\u001b[1;32mOK\u001b[0m  |        n/a|participant-e/MER_FRS_1PPEPA20070629_094233_000005092059_00251_27860_7936.dim.txt\n",
      "94597e|\u001b[1;32mOK\u001b[0m  |        n/a|participant-e/MER_FRS_1PPEPA20070623_093019_000005122059_00165_27774_7652.dim.txt\n",
      "dd412f|\u001b[1;32mOK\u001b[0m  |        n/a|participant-e/MER_FRS_1PPEPA20070715_094121_000005092059_00480_28089_8694.dim.txt\n",
      "7cd15d|\u001b[1;32mOK\u001b[0m  |        n/a|participant-e/MER_FRS_1PPEPA20070709_092811_000005122059_00394_28003_8412.dim.txt\n",
      "c18ee9|\u001b[1;32mOK\u001b[0m  |        n/a|participant-e/MER_FRS_1PPEPA20070718_094526_000005122060_00022_28132_8817.dim.txt\n",
      "88c6ad|\u001b[1;32mOK\u001b[0m  |        n/a|participant-e/MER_FRS_1PPEPA20070728_093104_000005122060_00165_28275_9290.dim.txt\n",
      "da045d|\u001b[1;32mOK\u001b[0m  |        n/a|participant-e/MER_FRS_1PPEPA20070806_094818_000005092060_00294_28404_9716.dim.txt\n",
      "e6ba47|\u001b[1;32mOK\u001b[0m  |        n/a|participant-e/MER_FRS_1PPEPA20070803_094234_000005122060_00251_28361_9572.dim.txt\n",
      "d42bc1|\u001b[1;32mOK\u001b[0m  |        n/a|participant-e/MER_FRS_1PPEPA20070813_092811_000005092060_00394_28504_0027.dim.txt\n",
      "cdd883|\u001b[1;32mOK\u001b[0m  |        n/a|participant-e/MER_FRS_1PPEPA20070816_093356_000005122060_00437_28547_0161.dim.txt\n",
      "44499b|\u001b[1;32mOK\u001b[0m  |        n/a|participant-e/MER_FRS_1PPEPA20070901_093018_000005122061_00165_28776_0901.dim.txt\n",
      "5da380|\u001b[1;32mOK\u001b[0m  |        n/a|participant-e/MER_FRS_1PPEPA20070911_091639_000005122061_00308_28919_1316.dim.txt\n",
      "248b9e|\u001b[1;32mOK\u001b[0m  |        n/a|participant-e/MER_FRS_1PPEPA20070904_093647_000005122061_00208_28819_1042.dim.txt\n",
      "73b569|\u001b[1;32mOK\u001b[0m  |        n/a|participant-e/MER_FRS_1PPEPA20070917_092807_000005092061_00394_29005_1585.dim.txt\n",
      "c3b219|\u001b[1;32mOK\u001b[0m  |        n/a|participant-e/MER_FRS_1PPEPA20070910_094815_000005122061_00294_28905_1273.dim.txt\n",
      "5e82d9|\u001b[1;32mOK\u001b[0m  |        n/a|participant-e/MER_FRS_1PPEPA20070920_093351_000005092061_00437_29048_1724.dim.txt\n",
      "7f7e13|\u001b[1;32mOK\u001b[0m  |        n/a|participant-e/MER_FRS_1PPEPA20071008_100821_000005122062_00194_29306_2403.dim.txt\n",
      "95d0b2|\u001b[1;32mOK\u001b[0m  |        n/a|participant-e/MER_FRS_1PPEPA20071003_092513_000005122062_00122_29234_2177.dim.txt\n",
      "92aec2|\u001b[1;32mOK\u001b[0m  |        n/a|participant-e/MER_FRS_1PPEPA20071002_095650_000005122062_00108_29220_2136.dim.txt\n",
      "4d20f6|\u001b[1;32mOK\u001b[0m  |        n/a|participant-e/MER_FRS_1PPEPA20071009_093828_000005092062_00208_29320_2456.dim.txt\n",
      "fd6d3f|\u001b[1;32mOK\u001b[0m  |        n/a|participant-e/MER_FRS_1PPEPA20071012_094229_000005092062_00251_29363_2599.dim.txt\n",
      "a5171a|\u001b[1;32mOK\u001b[0m  |        n/a|participant-e/MER_FRS_1PPEPA20071021_095943_000005092062_00380_29492_3000.dim.txt\n",
      "224a58|\u001b[1;32mOK\u001b[0m  |        n/a|participant-e/MER_FRS_1PPEPA20071018_095358_000005092062_00337_29449_2865.dim.txt\n",
      "0c5244|\u001b[1;32mOK\u001b[0m  |        n/a|participant-e/MER_FRS_1PPEPA20071015_094814_000005122062_00294_29406_2728.dim.txt\n",
      "8af8c2|\u001b[1;32mOK\u001b[0m  |        n/a|participant-e/MER_FRS_1PPEPA20071022_092701_000005122062_00394_29506_3037.dim.txt\n",
      "07f720|\u001b[1;32mOK\u001b[0m  |        n/a|participant-e/MER_FRS_1PPEPA20071016_091637_000005122062_00308_29420_2781.dim.txt\n",
      "14630f|\u001b[1;32mOK\u001b[0m  |        n/a|participant-e/MER_FRS_1PPEPA20071030_203051_000001122063_00014_29627_3379.dim.txt\n",
      "bbd547|\u001b[1;32mOK\u001b[0m  |        n/a|participant-e/MER_FRS_1PPEPA20071102_102135_000005122063_00051_29664_3490.dim.txt\n",
      "812495|\u001b[1;32mOK\u001b[0m  |        n/a|participant-e/MER_FRS_1PPEPA20071102_203551_000002022063_00057_29670_3503.dim.txt\n",
      "f06aeb|\u001b[1;32mOK\u001b[0m  |        n/a|participant-e/MER_FRS_1PPEPA20080414_092952_000005122067_00394_32011_6846.dim.txt\n",
      "b08f37|\u001b[1;32mOK\u001b[0m  |        n/a|participant-e/MER_FRS_1PPEPA20080417_093346_000005122067_00437_32054_6978.dim.txt\n",
      "c20516|\u001b[1;32mOK\u001b[0m  |        n/a|participant-e/MER_FRS_1PPEPA20080319_094410_000005122067_00022_31639_5843.dim.txt\n",
      "0eb59f|\u001b[1;32mOK\u001b[0m  |        n/a|participant-e/MER_FRS_1PPEPA20080422_203047_000001122068_00014_32132_7220.dim.txt\n",
      "c89e30|\u001b[1;32mOK\u001b[0m  |        n/a|participant-e/MER_FRS_1PPEPA20080527_203049_000001122069_00014_32633_8795.dim.txt\n",
      "401445|\u001b[1;32mOK\u001b[0m  |        n/a|participant-e/MER_FRS_1PPEPA20080615_203341_000001122069_00286_32905_9890.dim.txt\n",
      "ef461f|\u001b[1;32mOK\u001b[0m  |        n/a|participant-e/MER_FRS_1PPEPA20080427_091923_000005122068_00079_32197_7416.dim.txt\n",
      "a4acd9|\u001b[1;32mOK\u001b[0m  |        n/a|participant-e/MER_FRS_1PPEPA20080629_094116_000005122069_00480_33099_0664.dim.txt\n",
      "1fbeb9|\u001b[1;32mOK\u001b[0m  |        n/a|participant-e/MER_FRS_1PPEPA20080702_094519_000005122070_00022_33142_0788.dim.txt\n",
      "f0b805|\u001b[1;32mOK\u001b[0m  |        n/a|participant-e/MER_FRS_1PPEPA20080712_093243_000005122070_00165_33285_1271.dim.txt\n",
      "9db1f1|\u001b[1;32mOK\u001b[0m  |        n/a|participant-e/MER_FRS_1PPEPA20080718_094227_000005122070_00251_33371_1688.dim.txt\n",
      "f7b976|\u001b[1;32mOK\u001b[0m  |        n/a|participant-e/MER_FRS_1PPEPA20080721_095131_000005122070_00294_33414_1851.dim.txt\n",
      "181f3b|\u001b[1;32mOK\u001b[0m  |        n/a|participant-e/MER_FRS_1PPEPA20080803_094116_000005122070_00480_33600_2565.dim.txt\n",
      "73a88b|\u001b[1;32mOK\u001b[0m  |        n/a|participant-e/MER_FRS_1PPEPA20080731_093535_000005122070_00437_33557_2401.dim.txt\n",
      "37da40|\u001b[1;32mOK\u001b[0m  |        n/a|participant-e/MER_FRS_1PPEPA20080807_091540_000005152071_00036_33657_2797.dim.txt\n",
      "e0f54c|\u001b[1;32mOK\u001b[0m  |        n/a|participant-e/MER_FRS_1PPEPA20080816_093242_000005122071_00165_33786_3295.dim.txt\n",
      "c1f979|\u001b[1;32mOK\u001b[0m  |        n/a|participant-e/MER_FRS_1PPEPA20080824_203322_000001882071_00286_33907_3752.dim.txt\n",
      "5467b9|\u001b[1;32mOK\u001b[0m  |        n/a|participant-e/MER_FRS_1PPEPA20080819_093825_000005122071_00208_33829_3469.dim.txt\n",
      "184184|\u001b[1;32mOK\u001b[0m  |        n/a|participant-e/MER_FRS_1PPEPA20080910_094515_000005122072_00022_34144_4600.dim.txt\n",
      "d6f87a|\u001b[1;32mOK\u001b[0m  |        n/a|participant-e/MER_FRS_1PPEPA20080909_203027_000001882072_00014_34136_4572.dim.txt\n",
      "c7f999|\u001b[1;32mOK\u001b[0m  |        n/a|participant-e/MER_FRS_1PPEPA20080912_203613_000001882072_00057_34179_4718.dim.txt\n",
      "b0bb12|\u001b[1;32mOK\u001b[0m  |        n/a|participant-e/MER_FRS_1PPEPA20080922_100816_000005122072_00194_34316_5189.dim.txt\n",
      "323f7b|\u001b[1;32mOK\u001b[0m  |        n/a|participant-e/MER_FRS_1PPEPA20080920_093054_000005122072_00165_34287_5089.dim.txt\n",
      "297e7c|\u001b[1;32mOK\u001b[0m  |        n/a|participant-e/MER_FRS_1PPEPA20081005_095940_000005122072_00380_34502_5850.dim.txt\n",
      "819cca|\u001b[1;32mOK\u001b[0m  |        n/a|participant-e/MER_FRS_1PPEPA20080923_093823_000005122072_00208_34330_5236.dim.txt\n",
      "14ea91|\u001b[1;32mOK\u001b[0m  |        n/a|participant-e/MER_FRS_1PPEPA20081006_092803_000005122072_00394_34516_5900.dim.txt\n",
      "a878a0|\u001b[1;32mOK\u001b[0m  |        n/a|participant-e/MER_FRS_1PPEPA20081008_100525_000005122072_00423_34545_6000.dim.txt\n",
      "827b66|\u001b[1;32mOK\u001b[0m  |        n/a|participant-e/MER_FRS_1PPEPA20081009_093348_000005122072_00437_34559_6052.dim.txt\n",
      "ca609d|\u001b[1;32mOK\u001b[0m  |        n/a|participant-e/MER_FRS_1PPEPA20081018_095102_000005122073_00065_34688_6517.dim.txt\n",
      "b03f87|\u001b[1;32mOK\u001b[0m  |        n/a|participant-e/MER_FRS_1PPEPA20081014_203030_000001852073_00014_34637_6349.dim.txt\n",
      "1e3135|\u001b[1;32mOK\u001b[0m  |        n/a|participant-e/MER_FRS_1PPEPA20081014_101748_000005182073_00008_34631_6328.dim.txt\n",
      "e74818|\u001b[1;32mOK\u001b[0m  |        n/a|participant-e/MER_FRS_1PPEPA20081024_100232_000005122073_00151_34774_6791.dim.txt\n",
      "b4d360|\u001b[1;32mOK\u001b[0m  |        n/a|participant-e/MER_FRS_1PPEPA20081204_202714_000001882074_00243_35367_8469.dim.txt\n",
      "1b4494|\u001b[1;32mOK\u001b[0m  |        n/a|participant-e/MER_FRS_1PPEPA20090130_203612_000001882076_00057_36183_1119.dim.txt\n",
      "b0b5c3|\u001b[1;32mOK\u001b[0m  |        n/a|participant-e/MER_FRS_1PPEPA20090311_092659_000005152077_00122_36749_2918.dim.txt\n",
      "249267|\u001b[1;32mOK\u001b[0m  |        n/a|participant-e/MER_FRS_1PPEPA20090219_095354_000005092076_00337_36463_1964.dim.txt\n",
      "9ba8bb|\u001b[1;32mOK\u001b[0m  |        n/a|participant-e/MER_FRS_1PPEPA20090322_203322_000001882077_00286_36913_3469.dim.txt\n",
      "b7aed2|\u001b[1;32mOK\u001b[0m  |        n/a|participant-e/MER_FRS_1PPEPA20090316_100816_000005092077_00194_36821_3151.dim.txt\n",
      "c0376a|\u001b[1;32mOK\u001b[0m  |        n/a|participant-e/MER_FRS_1PPEPA20090407_203027_000001882078_00014_37142_4263.dim.txt\n",
      "15b870|\u001b[1;32mOK\u001b[0m  |        n/a|participant-e/MER_FRS_1PPEPA20090507_093347_000005122078_00437_37565_5730.dim.txt\n",
      "1fa357|\u001b[1;32mOK\u001b[0m  |        n/a|participant-e/MER_FRS_1PPEPA20090424_094223_000005092078_00251_37379_5097.dim.txt\n",
      "d68f07|\u001b[1;32mOK\u001b[0m  |        n/a|participant-e/MER_FRS_1PPEPA20090512_203030_000001882079_00014_37643_6023.dim.txt\n",
      "ae46ad|\u001b[1;32mOK\u001b[0m  |        n/a|participant-e/MER_FRS_1PPEPA20090513_094517_000005122079_00022_37651_6069.dim.txt\n",
      "8f0671|\u001b[1;32mOK\u001b[0m  |        n/a|participant-e/MER_FRS_1PPEPA20090526_093842_000005122079_00208_37837_6752.dim.txt\n",
      "86e7e2|\u001b[1;32mOK\u001b[0m  |        n/a|participant-e/MER_FRS_1PPEPA20090529_094225_000005092079_00251_37880_6909.dim.txt\n",
      "5cf732|\u001b[1;32mOK\u001b[0m  |        n/a|participant-e/MER_FRS_1PPEPA20090531_203324_000001882079_00286_37915_7044.dim.txt\n",
      "d1fa80|\u001b[1;32mOK\u001b[0m  |        n/a|participant-e/MER_FRS_1PPEPA20090721_203032_000001852081_00014_38645_9472.dim.txt\n",
      "4b436f|\u001b[1;32mOK\u001b[0m  |        n/a|participant-e/MER_FRS_1PPEPA20090616_203032_000001882080_00014_38144_7841.dim.txt\n",
      "bc5716|\u001b[1;32mOK\u001b[0m  |        n/a|participant-e/MER_FRS_1PPEPA20090809_203324_000001852081_00286_38917_0308.dim.txt\n",
      "c9469e|\u001b[1;32mOK\u001b[0m  |        n/a|participant-e/MER_FRS_1PPEPA20090908_093609_000005122082_00208_39340_1719.dim.txt\n",
      "5d7689|\u001b[1;32mOK\u001b[0m  |        n/a|participant-e/MER_FRS_1PPEPA20090923_100446_000005092082_00423_39555_2431.dim.txt\n",
      "063690|\u001b[1;32mOK\u001b[0m  |        n/a|participant-e/MER_FRS_1PPEPA20090817_092804_000005122081_00394_39025_0667.dim.txt\n",
      "445633|\u001b[1;32mOK\u001b[0m  |        n/a|participant-e/MER_FRS_1PPEPA20090929_203025_000001882083_00014_39647_2725.dim.txt\n",
      "4a7632|\u001b[1;32mOK\u001b[0m  |        n/a|participant-e/MER_FRS_1PPEPA20091016_094221_000005092083_00251_39884_3432.dim.txt\n",
      "c10466|\u001b[1;32mOK\u001b[0m  |        n/a|participant-e/MER_FRS_1PPEPA20090924_093315_000005092082_00437_39569_2479.dim.txt\n",
      "f79df4|\u001b[1;32mOK\u001b[0m  |        n/a|participant-e/MER_FRS_1PPEPA20091015_202611_000002222083_00243_39876_3403.dim.txt\n",
      "fe5af1|\u001b[1;32mOK\u001b[0m  |        n/a|participant-e/MER_FRS_1PPEPA20091019_094806_000005092083_00294_39927_3565.dim.txt\n",
      "eb18e9|\u001b[1;32mOK\u001b[0m  |        n/a|participant-e/MER_FRS_1PPEPA20091028_100435_000005092083_00423_40056_3912.dim.txt\n",
      "6a362a|\u001b[1;32mOK\u001b[0m  |        n/a|participant-e/MER_FRS_1PPEPA20100112_203025_000001882086_00014_41150_6448.dim.txt\n",
      "0f8b2a|\u001b[1;32mOK\u001b[0m  |        n/a|participant-e/MER_FRS_1PPEPA20100131_203317_000001882086_00286_41422_7113.dim.txt\n",
      "1a7cd2|\u001b[1;32mOK\u001b[0m  |        n/a|participant-e/MER_FRS_1PPEPA20100216_203023_000001852087_00014_41651_7692.dim.txt\n",
      "f5065a|\u001b[1;32mOK\u001b[0m  |        n/a|participant-e/MER_FRS_1PPEPA20100203_203901_000001882086_00329_41465_7217.dim.txt\n",
      "73d089|\u001b[1;32mOK\u001b[0m  |        n/a|participant-e/MER_FRS_1PPEPA20100219_203609_000001852087_00057_41694_7825.dim.txt\n",
      "e9c2b8|\u001b[1;32mOK\u001b[0m  |        n/a|participant-e/MER_FRS_1PPEPA20100227_093003_000005092087_00165_41802_8164.dim.txt\n",
      "f5d48d|\u001b[1;32mOK\u001b[0m  |        n/a|participant-e/MER_FRS_1PPEPA20100328_092112_000005122088_00079_42217_9482.dim.txt\n",
      "d006c4|\u001b[1;32mOK\u001b[0m  |        n/a|participant-e/MER_FRS_1PPEPA20100429_091327_000005122089_00036_42675_1046.dim.txt\n",
      "e1b751|\u001b[1;32mOK\u001b[0m  |        n/a|participant-e/MER_FRS_1PPEPA20100518_091621_000005122089_00308_42947_2013.dim.txt\n",
      "601a0e|\u001b[1;32mOK\u001b[0m  |        n/a|participant-e/MER_FRS_1PPEPA20100524_092738_000005122089_00394_43033_2326.dim.txt\n",
      "5db2fb|\u001b[1;32mOK\u001b[0m  |        n/a|participant-e/MER_FRS_1PPEPA20100818_092456_000005122092_00122_44264_6659.dim.txt\n",
      "1cc6e9|\u001b[1;32mOK\u001b[0m  |        n/a|participant-e/MER_FRS_1PPEPA20100821_093120_000005122092_00165_44307_6802.dim.txt\n",
      "4a980a|\u001b[1;32mOK\u001b[0m  |        n/a|participant-e/MER_FRS_1PPEPA20100912_094327_000005122092_00480_44622_7896.dim.txt\n",
      "befc53|\u001b[1;32mOK\u001b[0m  |        n/a|participant-e/MER_FRS_1PPEPA20100919_092125_000005122093_00079_44722_8212.dim.txt\n",
      "\n",
      "Status Legend:\n",
      "(OK):download completed.\n"
     ]
    }
   ],
   "source": [
    "!curl $run_meta | aria2c -d $participant -M -"
   ]
  },
  {
   "cell_type": "code",
   "execution_count": 5,
   "metadata": {
    "collapsed": false
   },
   "outputs": [],
   "source": [
    "path = participant # use your path\n",
    "\n",
    "allFiles = glob.glob(path + \"/*.txt\")\n",
    "frame = pd.DataFrame()\n",
    "list_ = []\n",
    "for file_ in allFiles:\n",
    "    df = pd.read_csv(file_,index_col=None, header=0)\n",
    "    list_.append(df)\n",
    "    frame = pd.concat(list_)"
   ]
  },
  {
   "cell_type": "markdown",
   "metadata": {},
   "source": [
    "Number of points extracted from MERIS level 2 products"
   ]
  },
  {
   "cell_type": "code",
   "execution_count": 6,
   "metadata": {
    "collapsed": false
   },
   "outputs": [
    {
     "data": {
      "text/plain": [
       "440"
      ]
     },
     "execution_count": 6,
     "metadata": {},
     "output_type": "execute_result"
    }
   ],
   "source": [
    "len(frame.index)"
   ]
  },
  {
   "cell_type": "markdown",
   "metadata": {},
   "source": [
    "### Calculate Pearson\n",
    "\n",
    "For all three sites, AAOT, BOUSSOLE and MOBY, calculate the Pearson factor for each band.\n",
    "\n",
    "> Note AAOT does not have measurements for band @510"
   ]
  },
  {
   "cell_type": "markdown",
   "metadata": {},
   "source": [
    "#### AAOT site"
   ]
  },
  {
   "cell_type": "code",
   "execution_count": 7,
   "metadata": {
    "collapsed": false
   },
   "outputs": [],
   "source": [
    "insitu_path = './insitu/AAOT.csv'\n",
    "insitu = pd.read_csv(insitu_path)\n",
    "frame_full = pd.DataFrame.merge(frame.query('Name == \"AAOT\"'), insitu, how='inner', on = ['Date', 'ORBIT'])"
   ]
  },
  {
   "cell_type": "code",
   "execution_count": 8,
   "metadata": {
    "collapsed": false
   },
   "outputs": [
    {
     "name": "stdout",
     "output_type": "stream",
     "text": [
      "92 observations for band @412\n"
     ]
    }
   ],
   "source": [
    "frame_xxx= frame_full[['Rrs_413_mean', 'rho_wn_IS_412']].dropna()\n",
    "r_aaot_412 = pearsonr(frame_xxx.ix[:,0], frame_xxx.ix[:,1])[0] \n",
    "\n",
    "print(str(len(frame_xxx.index)) + \" observations for band @412\")"
   ]
  },
  {
   "cell_type": "code",
   "execution_count": 9,
   "metadata": {
    "collapsed": false
   },
   "outputs": [
    {
     "name": "stdout",
     "output_type": "stream",
     "text": [
      "92 observations for band @443\n"
     ]
    }
   ],
   "source": [
    "frame_xxx= frame_full[['Rrs_443_mean', 'rho_wn_IS_443']].dropna()\n",
    "r_aaot_443 = pearsonr(frame_xxx.ix[:,0], frame_xxx.ix[:,1])[0] \n",
    "\n",
    "print(str(len(frame_xxx.index)) + \" observations for band @443\")"
   ]
  },
  {
   "cell_type": "code",
   "execution_count": 10,
   "metadata": {
    "collapsed": false
   },
   "outputs": [
    {
     "name": "stdout",
     "output_type": "stream",
     "text": [
      "92 observations for band @490\n"
     ]
    }
   ],
   "source": [
    "frame_xxx= frame_full[['Rrs_490_mean', 'rho_wn_IS_490']].dropna()\n",
    "r_aaot_490 = pearsonr(frame_xxx.ix[:,0], frame_xxx.ix[:,1])[0] \n",
    "\n",
    "print(str(len(frame_xxx.index)) + \" observations for band @490\")"
   ]
  },
  {
   "cell_type": "code",
   "execution_count": 11,
   "metadata": {
    "collapsed": false
   },
   "outputs": [
    {
     "name": "stdout",
     "output_type": "stream",
     "text": [
      "0 observations for band @510\n"
     ]
    }
   ],
   "source": [
    "r_aaot_510 = 0\n",
    "print(\"0 observations for band @510\")"
   ]
  },
  {
   "cell_type": "code",
   "execution_count": 12,
   "metadata": {
    "collapsed": false
   },
   "outputs": [
    {
     "name": "stdout",
     "output_type": "stream",
     "text": [
      "92 observations for band @560\n"
     ]
    }
   ],
   "source": [
    "frame_xxx= frame_full[['Rrs_510_mean', 'rho_wn_IS_560']].dropna()\n",
    "r_aaot_560 = pearsonr(frame_xxx.ix[:,0], frame_xxx.ix[:,1])[0] \n",
    "\n",
    "print(str(len(frame_xxx.index)) + \" observations for band @560\")"
   ]
  },
  {
   "cell_type": "code",
   "execution_count": 13,
   "metadata": {
    "collapsed": true
   },
   "outputs": [],
   "source": [
    "insitu_path = './insitu/BOUSS.csv'\n",
    "insitu = pd.read_csv(insitu_path)\n",
    "frame_full = pd.DataFrame.merge(frame.query('Name == \"BOUS\"'), insitu, how='inner', on = ['Date', 'ORBIT'])"
   ]
  },
  {
   "cell_type": "code",
   "execution_count": 14,
   "metadata": {
    "collapsed": false
   },
   "outputs": [
    {
     "name": "stdout",
     "output_type": "stream",
     "text": [
      "32 observations for band @412\n"
     ]
    }
   ],
   "source": [
    "frame_xxx= frame_full[['Rrs_413_mean', 'rho_wn_IS_412']].dropna()\n",
    "r_bous_412 = pearsonr(frame_xxx.ix[:,0], frame_xxx.ix[:,1])[0] \n",
    "\n",
    "print(str(len(frame_xxx.index)) + \" observations for band @412\")"
   ]
  },
  {
   "cell_type": "code",
   "execution_count": 15,
   "metadata": {
    "collapsed": false
   },
   "outputs": [
    {
     "name": "stdout",
     "output_type": "stream",
     "text": [
      "92 observations for band @443\n"
     ]
    }
   ],
   "source": [
    "frame_xxx= frame_full[['Rrs_443_mean', 'rho_wn_IS_443']].dropna()\n",
    "r_bous_443 = pearsonr(frame_xxx.ix[:,0], frame_xxx.ix[:,1])[0] \n",
    "\n",
    "print(str(len(frame_xxx.index)) + \" observations for band @443\")"
   ]
  },
  {
   "cell_type": "code",
   "execution_count": 16,
   "metadata": {
    "collapsed": false
   },
   "outputs": [
    {
     "name": "stdout",
     "output_type": "stream",
     "text": [
      "96 observations for band @490\n"
     ]
    }
   ],
   "source": [
    "frame_xxx= frame_full[['Rrs_490_mean', 'rho_wn_IS_490']].dropna()\n",
    "r_bous_490 = pearsonr(frame_xxx.ix[:,0], frame_xxx.ix[:,1])[0] \n",
    "\n",
    "print(str(len(frame_xxx.index)) + \" observations for band @490\")"
   ]
  },
  {
   "cell_type": "code",
   "execution_count": 17,
   "metadata": {
    "collapsed": false
   },
   "outputs": [
    {
     "name": "stdout",
     "output_type": "stream",
     "text": [
      "91 observations for band @510\n"
     ]
    }
   ],
   "source": [
    "frame_xxx= frame_full[['Rrs_510_mean', 'rho_wn_IS_510']].dropna()\n",
    "r_bous_510 = pearsonr(frame_xxx.ix[:,0], frame_xxx.ix[:,1])[0]\n",
    "\n",
    "print(str(len(frame_xxx.index)) + \" observations for band @510\")"
   ]
  },
  {
   "cell_type": "code",
   "execution_count": 18,
   "metadata": {
    "collapsed": false
   },
   "outputs": [
    {
     "name": "stdout",
     "output_type": "stream",
     "text": [
      "85 observations for band @560\n"
     ]
    }
   ],
   "source": [
    "frame_xxx= frame_full[['Rrs_560_mean', 'rho_wn_IS_560']].dropna()\n",
    "r_bous_560 = pearsonr(frame_xxx.ix[:,0], frame_xxx.ix[:,1])[0]\n",
    "\n",
    "print(str(len(frame_xxx.index)) + \" observations for band @560\")"
   ]
  },
  {
   "cell_type": "code",
   "execution_count": 19,
   "metadata": {
    "collapsed": true
   },
   "outputs": [],
   "source": [
    "insitu_path = './insitu/MOBY.csv'\n",
    "insitu = pd.read_csv(insitu_path)\n",
    "frame_full = pd.DataFrame.merge(frame.query('Name == \"MOBY\"'), insitu, how='inner', on = ['Date', 'ORBIT'])"
   ]
  },
  {
   "cell_type": "code",
   "execution_count": 20,
   "metadata": {
    "collapsed": false
   },
   "outputs": [
    {
     "name": "stdout",
     "output_type": "stream",
     "text": [
      "94 observations for band @12\n"
     ]
    }
   ],
   "source": [
    "frame_xxx= frame_full[['Rrs_413_mean', 'rho_wn_IS_412']].dropna()\n",
    "r_moby_412 = pearsonr(frame_xxx.ix[:,0], frame_xxx.ix[:,1])[0] \n",
    "\n",
    "print(str(len(frame_xxx.index)) + \" observations for band @12\")"
   ]
  },
  {
   "cell_type": "code",
   "execution_count": 21,
   "metadata": {
    "collapsed": false
   },
   "outputs": [
    {
     "name": "stdout",
     "output_type": "stream",
     "text": [
      "94 observations for band @443\n"
     ]
    }
   ],
   "source": [
    "frame_xxx= frame_full[['Rrs_443_mean', 'rho_wn_IS_443']].dropna()\n",
    "r_moby_443 = pearsonr(frame_xxx.ix[:,0], frame_xxx.ix[:,1])[0] \n",
    "\n",
    "print(str(len(frame_xxx.index)) + \" observations for band @443\")"
   ]
  },
  {
   "cell_type": "code",
   "execution_count": 22,
   "metadata": {
    "collapsed": false
   },
   "outputs": [
    {
     "name": "stdout",
     "output_type": "stream",
     "text": [
      "94 observations for band @490\n"
     ]
    }
   ],
   "source": [
    "frame_xxx= frame_full[['Rrs_490_mean', 'rho_wn_IS_490']].dropna()\n",
    "r_moby_490 = pearsonr(frame_xxx.ix[:,0], frame_xxx.ix[:,1])[0]\n",
    "\n",
    "print(str(len(frame_xxx.index)) + \" observations for band @490\")"
   ]
  },
  {
   "cell_type": "code",
   "execution_count": 23,
   "metadata": {
    "collapsed": false
   },
   "outputs": [
    {
     "name": "stdout",
     "output_type": "stream",
     "text": [
      "94 observations for band @510\n"
     ]
    }
   ],
   "source": [
    "frame_xxx= frame_full[['Rrs_510_mean', 'rho_wn_IS_510']].dropna()\n",
    "r_moby_510 = pearsonr(frame_xxx.ix[:,0], frame_xxx.ix[:,1])[0] \n",
    "\n",
    "print(str(len(frame_xxx.index)) + \" observations for band @510\")"
   ]
  },
  {
   "cell_type": "code",
   "execution_count": 24,
   "metadata": {
    "collapsed": false
   },
   "outputs": [
    {
     "name": "stdout",
     "output_type": "stream",
     "text": [
      "94 observations for band @560\n"
     ]
    }
   ],
   "source": [
    "frame_xxx= frame_full[['Rrs_560_mean', 'rho_wn_IS_560']].dropna()\n",
    "r_moby_560 = pearsonr(frame_xxx.ix[:,0], frame_xxx.ix[:,1])[0] \n",
    "\n",
    "print(str(len(frame_xxx.index)) + \" observations for band @560\")"
   ]
  },
  {
   "cell_type": "code",
   "execution_count": 25,
   "metadata": {
    "collapsed": false
   },
   "outputs": [
    {
     "data": {
      "text/plain": [
       "[0.52260765748764371,\n",
       " 0.7570782483727112,\n",
       " 0.79650595150734249,\n",
       " 0,\n",
       " 0.71235821519714193]"
      ]
     },
     "execution_count": 25,
     "metadata": {},
     "output_type": "execute_result"
    }
   ],
   "source": [
    "[r_aaot_412, r_aaot_443, r_aaot_490, r_aaot_510, r_aaot_560]"
   ]
  },
  {
   "cell_type": "code",
   "execution_count": 26,
   "metadata": {
    "collapsed": false
   },
   "outputs": [
    {
     "data": {
      "text/plain": [
       "[0.79033674527226261,\n",
       " 0.68519347920087403,\n",
       " 0.74176276152601583,\n",
       " 0.56306790603475421,\n",
       " 0.70824376885396512]"
      ]
     },
     "execution_count": 26,
     "metadata": {},
     "output_type": "execute_result"
    }
   ],
   "source": [
    "[r_bous_412, r_bous_443, r_bous_490, r_bous_510, r_bous_560]\n"
   ]
  },
  {
   "cell_type": "code",
   "execution_count": 27,
   "metadata": {
    "collapsed": false
   },
   "outputs": [
    {
     "data": {
      "text/plain": [
       "[0.71408146488640079,\n",
       " 0.63441711506940568,\n",
       " 0.30845571202210392,\n",
       " 0.15671157584487402,\n",
       " 0.23237330096885342]"
      ]
     },
     "execution_count": 27,
     "metadata": {},
     "output_type": "execute_result"
    }
   ],
   "source": [
    "[r_moby_412, r_moby_443, r_moby_490, r_moby_510, r_moby_560]"
   ]
  },
  {
   "cell_type": "code",
   "execution_count": 28,
   "metadata": {
    "collapsed": false
   },
   "outputs": [
    {
     "data": {
      "text/plain": [
       "0.59605373405450912"
      ]
     },
     "execution_count": 28,
     "metadata": {},
     "output_type": "execute_result"
    }
   ],
   "source": [
    "r_final = (numpy.mean([r_bous_412, r_moby_412, r_aaot_412]) * w_412 \\\n",
    "    + numpy.mean([r_bous_443, r_moby_443, r_aaot_443]) * w_443 \\\n",
    "    + numpy.mean([r_bous_490, r_moby_490, r_aaot_490]) * w_490 \\\n",
    "    + numpy.mean([r_bous_510, r_moby_510, r_aaot_510]) * w_510 \\\n",
    "    + numpy.mean([r_bous_560, r_moby_560, r_aaot_560]) * w_560) \\\n",
    "    / (w_412 + w_443 + w_490 + w_510 + w_560)\n",
    "\n",
    "r_final"
   ]
  },
  {
   "cell_type": "code",
   "execution_count": null,
   "metadata": {
    "collapsed": true
   },
   "outputs": [],
   "source": []
  },
  {
   "cell_type": "code",
   "execution_count": null,
   "metadata": {
    "collapsed": true
   },
   "outputs": [],
   "source": []
  }
 ],
 "metadata": {
  "kernelspec": {
   "display_name": "Python 2",
   "language": "python",
   "name": "python2"
  },
  "language_info": {
   "codemirror_mode": {
    "name": "ipython",
    "version": 2
   },
   "file_extension": ".py",
   "mimetype": "text/x-python",
   "name": "python",
   "nbconvert_exporter": "python",
   "pygments_lexer": "ipython2",
   "version": "2.7.10"
  }
 },
 "nbformat": 4,
 "nbformat_minor": 0
}
