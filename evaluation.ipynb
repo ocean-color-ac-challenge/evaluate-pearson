{
 "cells": [
  {
   "cell_type": "markdown",
   "metadata": {},
   "source": [
    "# E-CEO Challenge #3 Evaluation"
   ]
  },
  {
   "cell_type": "markdown",
   "metadata": {},
   "source": [
    "### Weights"
   ]
  },
  {
   "cell_type": "code",
   "execution_count": 227,
   "metadata": {
    "collapsed": true
   },
   "outputs": [],
   "source": [
    "w_412 = 0.56\n",
    "w_443 = 0.73\n",
    "w_490 = 0.71\n",
    "w_510 = 0.36\n",
    "w_560 = 0.01"
   ]
  },
  {
   "cell_type": "markdown",
   "metadata": {},
   "source": [
    "### Run"
   ]
  },
  {
   "cell_type": "code",
   "execution_count": 228,
   "metadata": {
    "collapsed": true
   },
   "outputs": [],
   "source": [
    "run = '0000021-150601000007545-oozie-oozi-W'"
   ]
  },
  {
   "cell_type": "markdown",
   "metadata": {},
   "source": [
    "### Define all imports in a single cell"
   ]
  },
  {
   "cell_type": "code",
   "execution_count": 229,
   "metadata": {
    "collapsed": true
   },
   "outputs": [],
   "source": [
    "import glob\n",
    "import pandas as pd\n",
    "from scipy.stats.stats import pearsonr\n",
    "import numpy\n",
    "import math"
   ]
  },
  {
   "cell_type": "markdown",
   "metadata": {},
   "source": [
    "### Manage run results"
   ]
  },
  {
   "cell_type": "code",
   "execution_count": 231,
   "metadata": {
    "collapsed": true
   },
   "outputs": [],
   "source": [
    "path =r'./pippo' # use your path\n",
    "allFiles = glob.glob(path + \"/*.txt\")\n",
    "frame = pd.DataFrame()\n",
    "list_ = []\n",
    "for file_ in allFiles:\n",
    "    df = pd.read_csv(file_,index_col=None, header=0)\n",
    "    list_.append(df)\n",
    "    frame = pd.concat(list_)"
   ]
  },
  {
   "cell_type": "markdown",
   "metadata": {},
   "source": [
    "Number of points extracted from MERIS level 2 products"
   ]
  },
  {
   "cell_type": "code",
   "execution_count": 241,
   "metadata": {
    "collapsed": false
   },
   "outputs": [
    {
     "data": {
      "text/plain": [
       "302"
      ]
     },
     "execution_count": 241,
     "metadata": {},
     "output_type": "execute_result"
    }
   ],
   "source": [
    "len(frame.index)"
   ]
  },
  {
   "cell_type": "markdown",
   "metadata": {},
   "source": [
    "### Calculate Pearson\n",
    "\n",
    "For all three sites, AAOT, BOUSSOLE and MOBY, calculate the Pearson factor for each band.\n",
    "\n",
    "> Note AAOT does not have measurements for band @510"
   ]
  },
  {
   "cell_type": "markdown",
   "metadata": {},
   "source": [
    "#### AAOT site"
   ]
  },
  {
   "cell_type": "code",
   "execution_count": 250,
   "metadata": {
    "collapsed": false
   },
   "outputs": [],
   "source": [
    "insitu_path = './insitu/AAOT_UNIQ.csv'\n",
    "insitu = pd.read_csv(insitu_path)\n",
    "frame_full = pd.DataFrame.merge(frame.query('Name == \"AAOT\"'), insitu, how='inner', on = ['Date', 'ORBIT'])"
   ]
  },
  {
   "cell_type": "code",
   "execution_count": 251,
   "metadata": {
    "collapsed": false
   },
   "outputs": [
    {
     "name": "stdout",
     "output_type": "stream",
     "text": [
      "87 observations for band @412\n"
     ]
    }
   ],
   "source": [
    "frame_xxx= frame_full[['reflec_1_mean', 'rho_wn_IS_412']].dropna()\n",
    "r_aaot_412 = pearsonr(frame_xxx.ix[:,0], frame_xxx.ix[:,1])[0] \n",
    "\n",
    "print(str(len(frame_xxx.index)) + \" observations for band @412\")"
   ]
  },
  {
   "cell_type": "code",
   "execution_count": 256,
   "metadata": {
    "collapsed": false
   },
   "outputs": [
    {
     "name": "stdout",
     "output_type": "stream",
     "text": [
      "87 observations for band @443\n"
     ]
    }
   ],
   "source": [
    "frame_xxx= frame_full[['reflec_2_mean', 'rho_wn_IS_443']].dropna()\n",
    "r_aaot_443 = pearsonr(frame_xxx.ix[:,0], frame_xxx.ix[:,1])[0] \n",
    "\n",
    "print(str(len(frame_xxx.index)) + \" observations for band @443\")"
   ]
  },
  {
   "cell_type": "code",
   "execution_count": 257,
   "metadata": {
    "collapsed": false
   },
   "outputs": [
    {
     "name": "stdout",
     "output_type": "stream",
     "text": [
      "87 observations for band @490\n"
     ]
    }
   ],
   "source": [
    "frame_xxx= frame_full[['reflec_3_mean', 'rho_wn_IS_490']].dropna()\n",
    "r_aaot_490 = pearsonr(frame_xxx.ix[:,0], frame_xxx.ix[:,1])[0] \n",
    "\n",
    "print(str(len(frame_xxx.index)) + \" observations for band @490\")"
   ]
  },
  {
   "cell_type": "code",
   "execution_count": 258,
   "metadata": {
    "collapsed": false
   },
   "outputs": [
    {
     "name": "stdout",
     "output_type": "stream",
     "text": [
      "0 observations for band @510\n"
     ]
    }
   ],
   "source": [
    "r_aaot_510 = 0\n",
    "print(\"0 observations for band @510\")"
   ]
  },
  {
   "cell_type": "code",
   "execution_count": 255,
   "metadata": {
    "collapsed": false
   },
   "outputs": [
    {
     "name": "stdout",
     "output_type": "stream",
     "text": [
      "87 observations for band @560\n"
     ]
    }
   ],
   "source": [
    "frame_xxx= frame_full[['reflec_5_mean', 'rho_wn_IS_560']].dropna()\n",
    "r_aaot_560 = pearsonr(frame_xxx.ix[:,0], frame_xxx.ix[:,1])[0] \n",
    "\n",
    "print(str(len(frame_xxx.index)) + \" observations for band @560\")"
   ]
  },
  {
   "cell_type": "code",
   "execution_count": 235,
   "metadata": {
    "collapsed": false
   },
   "outputs": [],
   "source": [
    "insitu_path = './insitu/BOUSSOLE_UNIQ.csv'\n",
    "insitu = pd.read_csv(insitu_path)\n",
    "frame_full = pd.DataFrame.merge(frame.query('Name == \"BOUS\"'), insitu, how='inner', on = ['Date', 'ORBIT'])\n",
    "\n",
    "frame_xxx= frame_full[['reflec_1_mean', 'rho_wn_IS_412']].dropna()\n",
    "r_bous_412 = pearsonr(frame_xxx.ix[:,0], frame_xxx.ix[:,1])[0] \n",
    "\n",
    "frame_xxx= frame_full[['reflec_2_mean', 'rho_wn_IS_443']].dropna()\n",
    "r_bous_443 = pearsonr(frame_xxx.ix[:,0], frame_xxx.ix[:,1])[0] \n",
    "\n",
    "frame_xxx= frame_full[['reflec_3_mean', 'rho_wn_IS_490']].dropna()\n",
    "r_bous_490 = pearsonr(frame_xxx.ix[:,0], frame_xxx.ix[:,1])[0] \n",
    "\n",
    "frame_xxx= frame_full[['reflec_4_mean', 'rho_wn_IS_510']].dropna()\n",
    "r_bous_510 = pearsonr(frame_xxx.ix[:,0], frame_xxx.ix[:,1])[0] \n",
    "\n",
    "frame_xxx= frame_full[['reflec_5_mean', 'rho_wn_IS_560']].dropna()\n",
    "r_bous_560 = pearsonr(frame_xxx.ix[:,0], frame_xxx.ix[:,1])[0] \n",
    "                             "
   ]
  },
  {
   "cell_type": "code",
   "execution_count": 236,
   "metadata": {
    "collapsed": true
   },
   "outputs": [],
   "source": [
    "insitu_path = './insitu/MOBY.csv'\n",
    "insitu = pd.read_csv(insitu_path)\n",
    "frame_full = pd.DataFrame.merge(frame.query('Name == \"MOBY\"'), insitu, how='inner', on = ['Date', 'ORBIT'])\n",
    "\n",
    "frame_xxx= frame_full[['reflec_1_mean', 'rho_wn_IS_412']].dropna()\n",
    "r_moby_412 = pearsonr(frame_xxx.ix[:,0], frame_xxx.ix[:,1])[0] \n",
    "\n",
    "frame_xxx= frame_full[['reflec_2_mean', 'rho_wn_IS_443']].dropna()\n",
    "r_moby_443 = pearsonr(frame_xxx.ix[:,0], frame_xxx.ix[:,1])[0] \n",
    "\n",
    "frame_xxx= frame_full[['reflec_3_mean', 'rho_wn_IS_490']].dropna()\n",
    "r_moby_490 = pearsonr(frame_xxx.ix[:,0], frame_xxx.ix[:,1])[0] \n",
    "\n",
    "frame_xxx= frame_full[['reflec_4_mean', 'rho_wn_IS_510']].dropna()\n",
    "r_moby_510 = pearsonr(frame_xxx.ix[:,0], frame_xxx.ix[:,1])[0] \n",
    "\n",
    "frame_xxx= frame_full[['reflec_5_mean', 'rho_wn_IS_560']].dropna()\n",
    "r_moby_560 = pearsonr(frame_xxx.ix[:,0], frame_xxx.ix[:,1])[0] "
   ]
  },
  {
   "cell_type": "code",
   "execution_count": 237,
   "metadata": {
    "collapsed": false
   },
   "outputs": [
    {
     "data": {
      "text/plain": [
       "[0.30574370628432723,\n",
       " 0.38816771941411682,\n",
       " 0.4930129177304966,\n",
       " 0,\n",
       " 0.58579012228414251]"
      ]
     },
     "execution_count": 237,
     "metadata": {},
     "output_type": "execute_result"
    }
   ],
   "source": [
    "[r_aaot_412, r_aaot_443, r_aaot_490, r_aaot_510, r_aaot_560]"
   ]
  },
  {
   "cell_type": "code",
   "execution_count": 238,
   "metadata": {
    "collapsed": false
   },
   "outputs": [
    {
     "data": {
      "text/plain": [
       "[0.30664489336023643,\n",
       " 0.068261880546908238,\n",
       " 0.1034591447384484,\n",
       " 0.2050081200165737,\n",
       " 0.63394296854078058]"
      ]
     },
     "execution_count": 238,
     "metadata": {},
     "output_type": "execute_result"
    }
   ],
   "source": [
    "[r_bous_412, r_bous_443, r_bous_490, r_bous_510, r_bous_560]\n"
   ]
  },
  {
   "cell_type": "code",
   "execution_count": 239,
   "metadata": {
    "collapsed": false
   },
   "outputs": [
    {
     "data": {
      "text/plain": [
       "[0.098612912965406668,\n",
       " 0.10107688715743778,\n",
       " 0.12542671807848346,\n",
       " 0.13748018999629613,\n",
       " 0.12683846032819132]"
      ]
     },
     "execution_count": 239,
     "metadata": {},
     "output_type": "execute_result"
    }
   ],
   "source": [
    "[r_moby_412, r_moby_443, r_moby_490, r_moby_510, r_moby_560]"
   ]
  },
  {
   "cell_type": "code",
   "execution_count": 240,
   "metadata": {
    "collapsed": false
   },
   "outputs": [
    {
     "data": {
      "text/plain": [
       "0.20456402587382558"
      ]
     },
     "execution_count": 240,
     "metadata": {},
     "output_type": "execute_result"
    }
   ],
   "source": [
    "r_final = (numpy.mean([r_bous_412, r_moby_412, r_aaot_412]) * w_412 \\\n",
    "    + numpy.mean([r_bous_443, r_moby_443, r_aaot_443]) * w_443 \\\n",
    "    + numpy.mean([r_bous_490, r_moby_490, r_aaot_490]) * w_490 \\\n",
    "    + numpy.mean([r_bous_510, r_moby_510, r_aaot_510]) * w_510 \\\n",
    "    + numpy.mean([r_bous_560, r_moby_560, r_aaot_560]) * w_560) \\\n",
    "    / (w_412 + w_443 + w_490 + w_510 + w_560)\n",
    "\n",
    "r_final"
   ]
  },
  {
   "cell_type": "code",
   "execution_count": null,
   "metadata": {
    "collapsed": true
   },
   "outputs": [],
   "source": []
  }
 ],
 "metadata": {
  "kernelspec": {
   "display_name": "Python 2",
   "language": "python",
   "name": "python2"
  },
  "language_info": {
   "codemirror_mode": {
    "name": "ipython",
    "version": 2
   },
   "file_extension": ".py",
   "mimetype": "text/x-python",
   "name": "python",
   "nbconvert_exporter": "python",
   "pygments_lexer": "ipython2",
   "version": "2.7.10"
  }
 },
 "nbformat": 4,
 "nbformat_minor": 0
}
