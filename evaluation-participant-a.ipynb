{
 "cells": [
  {
   "cell_type": "markdown",
   "metadata": {},
   "source": [
    "# E-CEO Challenge #3 Evaluation"
   ]
  },
  {
   "cell_type": "markdown",
   "metadata": {},
   "source": [
    "### Weights\n",
    "\n",
    "Define the weight of each wavelength"
   ]
  },
  {
   "cell_type": "code",
   "execution_count": 14,
   "metadata": {
    "collapsed": true
   },
   "outputs": [],
   "source": [
    "w_412 = 0.56\n",
    "w_443 = 0.73\n",
    "w_490 = 0.71\n",
    "w_510 = 0.36\n",
    "w_560 = 0.01"
   ]
  },
  {
   "cell_type": "markdown",
   "metadata": {},
   "source": [
    "### Run\n",
    "\n",
    "Provide the run information:\n",
    "* run id\n",
    "* run metalink containing the 3 by 3 kernel extractions\n",
    "* participant"
   ]
  },
  {
   "cell_type": "code",
   "execution_count": 15,
   "metadata": {
    "collapsed": true
   },
   "outputs": [],
   "source": [
    "run_id = '0000000-150625115710650-oozie-oozi-W'\n",
    "run_meta = 'http://sb-10-16-10-55.dev.terradue.int:50075/streamFile/ciop/run/participant-a/0000000-150625115710650-oozie-oozi-W/results.metalink?'\n",
    "participant = 'participant-a'"
   ]
  },
  {
   "cell_type": "markdown",
   "metadata": {},
   "source": [
    "### Define all imports in a single cell"
   ]
  },
  {
   "cell_type": "code",
   "execution_count": 16,
   "metadata": {
    "collapsed": true
   },
   "outputs": [],
   "source": [
    "import glob\n",
    "import pandas as pd\n",
    "from scipy.stats.stats import pearsonr\n",
    "import numpy\n",
    "import math"
   ]
  },
  {
   "cell_type": "markdown",
   "metadata": {},
   "source": [
    "### Manage run results\n",
    "\n",
    "Download the results and aggregate them in a single Pandas dataframe"
   ]
  },
  {
   "cell_type": "code",
   "execution_count": 17,
   "metadata": {
    "collapsed": false
   },
   "outputs": [
    {
     "name": "stdout",
     "output_type": "stream",
     "text": [
      "  % Total    % Received % Xferd  Average Speed   Time    Time     Time  Current\n",
      "                                 Dload  Upload   Total   Spent    Left  Speed\n",
      "100  107k  100  107k    0     0  12.5M      0 --:--:-- --:--:-- --:--:-- 21.0M\n",
      "\n",
      "08/25 16:19:06 [\u001b[1;32mNOTICE\u001b[0m] Download complete: participant-a/MER_FRS_1PPEPA20020813_091828_000002332008_00308_02366_1250.N1.txt\n",
      "\n",
      "08/25 16:19:06 [\u001b[1;32mNOTICE\u001b[0m] Download complete: participant-a/MER_FRS_1PPEPA20021127_203927_000001092011_00329_03890_1715.N1.txt\n",
      "\n",
      "08/25 16:19:06 [\u001b[1;32mNOTICE\u001b[0m] Download complete: participant-a/MER_FRS_1PPEPA20020819_092735_000005092008_00394_02452_1273.N1.txt\n",
      "\n",
      "08/25 16:19:06 [\u001b[1;32mNOTICE\u001b[0m] Download complete: participant-a/MER_FRS_1PPEPA20021213_203634_000001072012_00057_04119_1839.N1.txt\n",
      "\n",
      "08/25 16:19:06 [\u001b[1;32mNOTICE\u001b[0m] Download complete: participant-a/MER_FRS_1PPEPA20021210_203056_000001072012_00014_04076_1811.N1.txt\n",
      "\n",
      "08/25 16:19:06 [\u001b[1;32mNOTICE\u001b[0m] Download complete: participant-a/MER_FRS_1PPEPA20021108_203637_000001072011_00057_03618_1637.N1.txt\n",
      "\n",
      "08/25 16:19:06 [\u001b[1;32mNOTICE\u001b[0m] Download complete: participant-a/MER_FRS_1PPEPA20021219_204805_000000922012_00143_04205_1894.N1.txt\n",
      "\n",
      "08/25 16:19:06 [\u001b[1;32mNOTICE\u001b[0m] Download complete: participant-a/MER_FRS_1PPEPA20030117_203635_000001072013_00057_04620_2153.N1.txt\n",
      "\n",
      "08/25 16:19:06 [\u001b[1;32mNOTICE\u001b[0m] Download complete: participant-a/MER_FRS_1PPEPA20030202_203345_000001212013_00286_04849_2336.N1.txt\n",
      "\n",
      "08/25 16:19:06 [\u001b[1;32mNOTICE\u001b[0m] Download complete: participant-a/MER_FRS_1PPEPA20030306_202752_000001942014_00243_05307_2670.N1.txt\n",
      "\n",
      "08/25 16:19:06 [\u001b[1;32mNOTICE\u001b[0m] Download complete: participant-a/MER_FRS_1PPEPA20030507_092912_000004732016_00122_06188_3417.N1.txt\n",
      "\n",
      "08/25 16:19:06 [\u001b[1;32mNOTICE\u001b[0m] Download complete: participant-a/MER_FRS_1PPEPA20030205_203925_000001092013_00329_04892_2366.N1.txt\n",
      "\n",
      "08/25 16:19:06 [\u001b[1;32mNOTICE\u001b[0m] Download complete: participant-a/MER_FRS_1PPEPA20030218_203054_000001072014_00014_05078_2497.N1.txt\n",
      "\n",
      "08/25 16:19:06 [\u001b[1;32mNOTICE\u001b[0m] Download complete: participant-a/MER_FRS_1PPEPA20030501_091752_000004782016_00036_06102_3361.N1.txt\n",
      "\n",
      "08/25 16:19:06 [\u001b[1;32mNOTICE\u001b[0m] Download complete: participant-a/MER_FRS_1PPEPA20030812_203105_000001072019_00014_07583_5397.N1.txt\n",
      "\n",
      "08/25 16:19:06 [\u001b[1;32mNOTICE\u001b[0m] Download complete: participant-a/MER_FRS_1PPEPA20030902_091613_000003152019_00308_07877_5948.N1.txt\n",
      "\n",
      "08/25 16:19:06 [\u001b[1;32mNOTICE\u001b[0m] Download complete: participant-a/MER_FRS_1PPEPA20030916_203107_000001072020_00014_08084_6243.N1.txt\n",
      "\n",
      "08/25 16:19:06 [\u001b[1;32mNOTICE\u001b[0m] Download complete: participant-a/MER_FRS_1PPEPA20030926_100439_000001942020_00151_08221_6522.N1.txt\n",
      "\n",
      "08/25 16:19:06 [\u001b[1;32mNOTICE\u001b[0m] Download complete: participant-a/MER_FRS_1PPEPA20030526_093145_000001972016_00394_06460_3564.N1.txt\n",
      "\n",
      "08/25 16:19:06 [\u001b[1;32mNOTICE\u001b[0m] Download complete: participant-a/MER_FRS_1PPEPA20031009_095106_000005092020_00337_08407_6925.N1.txt\n",
      "\n",
      "08/25 16:19:06 [\u001b[1;32mNOTICE\u001b[0m] Download complete: participant-a/MER_FRS_1PPEPA20030930_093340_000005092020_00208_08278_6654.N1.txt\n",
      "\n",
      "08/25 16:19:06 [\u001b[1;32mNOTICE\u001b[0m] Download complete: participant-a/MER_FRS_1PPEPA20031010_092150_000005122020_00351_08421_6960.N1.txt\n",
      "\n",
      "08/25 16:19:06 [\u001b[1;32mNOTICE\u001b[0m] Download complete: participant-a/MER_FRS_1PPEPA20031016_093556_000001682020_00437_08507_7084.N1.txt\n",
      "\n",
      "08/25 16:19:06 [\u001b[1;32mNOTICE\u001b[0m] Download complete: participant-a/MER_FRS_1PPEPA20031005_203355_000001072020_00286_08356_6821.N1.txt\n",
      "\n",
      "08/25 16:19:06 [\u001b[1;32mNOTICE\u001b[0m] Download complete: participant-a/MER_FRS_1PPEPA20031019_094140_000001912020_00480_08550_7196.N1.txt\n",
      "\n",
      "08/25 16:19:06 [\u001b[1;32mNOTICE\u001b[0m] Download complete: participant-a/MER_FRS_1PPEPA20031021_203109_000001012021_00014_08585_7296.N1.txt\n",
      "\n",
      "08/25 16:19:06 [\u001b[1;32mNOTICE\u001b[0m] Download complete: participant-a/MER_FRS_1PPEPA20031024_203642_000001092021_00057_08628_7392.N1.txt\n",
      "\n",
      "08/25 16:19:06 [\u001b[1;32mNOTICE\u001b[0m] Download complete: participant-a/MER_FRS_1PPEPA20031028_095603_000003942021_00108_08679_7497.N1.txt\n",
      "\n",
      "08/25 16:19:06 [\u001b[1;32mNOTICE\u001b[0m] Download complete: participant-a/MER_FRS_1PPEPA20031106_202807_000001292021_00243_08814_7786.N1.txt\n",
      "\n",
      "08/25 16:19:06 [\u001b[1;32mNOTICE\u001b[0m] Download complete: participant-a/MER_FRS_1PPEPA20031025_095112_000003772021_00065_08636_7413.N1.txt\n",
      "\n",
      "08/25 16:19:06 [\u001b[1;32mNOTICE\u001b[0m] Download complete: participant-a/MER_FRS_1PPEPA20031109_203351_000001072021_00286_08857_7879.N1.txt\n",
      "\n",
      "08/25 16:19:06 [\u001b[1;32mNOTICE\u001b[0m] Download complete: participant-a/MER_FRS_1PPEPA20031122_202410_000002302021_00472_09043_7149.N1.txt\n",
      "\n",
      "08/25 16:19:06 [\u001b[1;32mNOTICE\u001b[0m] Download complete: participant-a/MER_FRS_1PPEPA20031128_203643_000001072022_00057_09129_7327.N1.txt\n",
      "\n",
      "08/25 16:19:06 [\u001b[1;32mNOTICE\u001b[0m] Download complete: participant-a/MER_FRS_1PPEPA20031220_204513_000001072022_00372_09444_7913.N1.txt\n",
      "\n",
      "08/25 16:19:06 [\u001b[1;32mNOTICE\u001b[0m] Download complete: participant-a/MER_FRS_1PPEPA20040105_204224_000001072023_00100_09673_8427.N1.txt\n",
      "\n",
      "08/25 16:19:06 [\u001b[1;32mNOTICE\u001b[0m] Download complete: participant-a/MER_FRS_1PPEPA20040131_202511_000001632023_00472_10045_9198.N1.txt\n",
      "\n",
      "08/25 16:19:06 [\u001b[1;32mNOTICE\u001b[0m] Download complete: participant-a/MER_FRS_1PPEPA20040203_203100_000001072024_00014_10088_9292.N1.txt\n",
      "\n",
      "08/25 16:19:06 [\u001b[1;32mNOTICE\u001b[0m] Download complete: participant-a/MER_FRS_1PPEPA20040115_202822_000001152023_00243_09816_8725.N1.txt\n",
      "\n",
      "08/25 16:19:06 [\u001b[1;32mNOTICE\u001b[0m] Download complete: participant-a/MER_FRS_1PPEPA20040222_203349_000001072024_00286_10360_0001.N1.txt\n",
      "\n",
      "08/25 16:19:06 [\u001b[1;32mNOTICE\u001b[0m] Download complete: participant-a/MER_FRS_1PPEPA20040219_202819_000000872024_00243_10317_9795.N1.txt\n",
      "\n",
      "08/25 16:19:06 [\u001b[1;32mNOTICE\u001b[0m] Download complete: participant-a/MER_FRS_1PPEPA20040309_203102_000001072025_00014_10589_0642.N1.txt\n",
      "\n",
      "08/25 16:19:06 [\u001b[1;32mNOTICE\u001b[0m] Download complete: participant-a/MER_FRS_1PPEPA20040312_203643_000001072025_00057_10632_0726.N1.txt\n",
      "\n",
      "08/25 16:19:06 [\u001b[1;32mNOTICE\u001b[0m] Download complete: participant-a/MER_FRS_1PPEPA20040326_094658_000002562025_00251_10826_1173.N1.txt\n",
      "\n",
      "08/25 16:19:06 [\u001b[1;32mNOTICE\u001b[0m] Download complete: participant-a/MER_FRS_1PPEPA20040401_095023_000005122025_00337_10912_1359.N1.txt\n",
      "\n",
      "08/25 16:19:06 [\u001b[1;32mNOTICE\u001b[0m] Download complete: participant-a/MER_FRS_1PPEPA20040407_201731_000002952025_00429_11004_1561.N1.txt\n",
      "\n",
      "08/25 16:19:06 [\u001b[1;32mNOTICE\u001b[0m] Download complete: participant-a/MER_FRS_1PPEPA20040413_203100_000001072026_00014_11090_1759.N1.txt\n",
      "\n",
      "08/25 16:19:06 [\u001b[1;32mNOTICE\u001b[0m] Download complete: participant-a/MER_FRS_1PPEPA20040316_095357_000005122025_00108_10683_0826.N1.txt\n",
      "\n",
      "08/25 16:19:06 [\u001b[1;32mNOTICE\u001b[0m] Download complete: participant-a/MER_FRS_1PPEPA20040518_203112_000000982027_00014_11591_9828.N1.txt\n",
      "\n",
      "08/25 16:19:06 [\u001b[1;32mNOTICE\u001b[0m] Download complete: participant-a/MER_FRS_1PPEPA20040510_092459_000005122026_00394_11470_9511.N1.txt\n",
      "\n",
      "08/25 16:19:06 [\u001b[1;32mNOTICE\u001b[0m] Download complete: participant-a/MER_FRS_1PPEPA20040520_091049_000005122027_00036_11613_9887.N1.txt\n",
      "\n",
      "08/25 16:19:06 [\u001b[1;32mNOTICE\u001b[0m] Download complete: participant-a/MER_FRS_1PPEPA20040604_094657_000002502027_00251_11828_0550.N1.txt\n",
      "\n",
      "08/25 16:19:06 [\u001b[1;32mNOTICE\u001b[0m] Download complete: participant-a/MER_FRS_1PPEPA20040513_093321_000005122026_00437_11513_9619.N1.txt\n",
      "\n",
      "08/25 16:19:06 [\u001b[1;32mNOTICE\u001b[0m] Download complete: participant-a/MER_FRS_1PPEPA20040529_092756_000005122027_00165_11742_0329.N1.txt\n",
      "\n",
      "08/25 16:19:06 [\u001b[1;32mNOTICE\u001b[0m] Download complete: participant-a/MER_FRS_1PPEPA20040617_093325_000005122027_00437_12014_1047.N1.txt\n",
      "\n",
      "08/25 16:19:06 [\u001b[1;32mNOTICE\u001b[0m] Download complete: participant-a/MER_FRS_1PPEPA20040703_093157_000004582028_00165_12243_1569.N1.txt\n",
      "\n",
      "08/25 16:19:06 [\u001b[1;32mNOTICE\u001b[0m] Download complete: participant-a/MER_FRS_1PPEPA20040711_203249_000002422028_00286_12364_1811.N1.txt\n",
      "\n",
      "08/25 16:19:06 [\u001b[1;32mNOTICE\u001b[0m] Download complete: participant-a/MER_FRS_1PPEPA20040712_094749_000005122028_00294_12372_1824.N1.txt\n",
      "\n",
      "08/25 16:19:06 [\u001b[1;32mNOTICE\u001b[0m] Download complete: participant-a/MER_FRS_1PPEPA20040708_202627_000002422028_00243_12321_1725.N1.txt\n",
      "\n",
      "08/25 16:19:06 [\u001b[1;32mNOTICE\u001b[0m] Download complete: participant-a/MER_FRS_1PPEPA20040729_091811_000004872029_00036_12615_2385.N1.txt\n",
      "\n",
      "08/25 16:19:06 [\u001b[1;32mNOTICE\u001b[0m] Download complete: participant-a/MER_FRS_1PPEPA20040807_093033_000005122029_00165_12744_2674.N1.txt\n",
      "\n",
      "08/25 16:19:06 [\u001b[1;32mNOTICE\u001b[0m] Download complete: participant-a/MER_FRS_1PPEPA20040817_091841_000005122029_00308_12887_3012.N1.txt\n",
      "\n",
      "08/25 16:19:06 [\u001b[1;32mNOTICE\u001b[0m] Download complete: participant-a/MER_FRS_1PPEPA20040727_203043_000001632029_00014_12593_2338.N1.txt\n",
      "\n",
      "08/25 16:19:06 [\u001b[1;32mNOTICE\u001b[0m] Download complete: participant-a/MER_FRS_1PPEPA20040823_092953_000004052029_00394_12973_3252.N1.txt\n",
      "\n",
      "08/25 16:19:06 [\u001b[1;32mNOTICE\u001b[0m] Download complete: participant-a/MER_FRS_1PPEPA20040820_092402_000004392029_00351_12930_3133.N1.txt\n",
      "\n",
      "08/25 16:19:06 [\u001b[1;32mNOTICE\u001b[0m] Download complete: participant-a/MER_FRS_1PPEPA20040829_094236_000004922029_00480_13059_3460.N1.txt\n",
      "\n",
      "08/25 16:19:06 [\u001b[1;32mNOTICE\u001b[0m] Download complete: participant-a/MER_FRS_1PPEPA20040901_094447_000005122030_00022_13102_3574.N1.txt\n",
      "\n",
      "08/25 16:19:06 [\u001b[1;32mNOTICE\u001b[0m] Download complete: participant-a/MER_FRS_1PPEPA20040917_094404_000004612030_00251_13331_4171.N1.txt\n",
      "\n",
      "08/25 16:19:06 [\u001b[1;32mNOTICE\u001b[0m] Download complete: participant-a/MER_FRS_1PPEPA20040908_092440_000005122030_00122_13202_3869.N1.txt\n",
      "\n",
      "08/25 16:19:06 [\u001b[1;32mNOTICE\u001b[0m] Download complete: participant-a/MER_FRS_1PPEPA20040916_202533_000003432030_00243_13323_4153.N1.txt\n",
      "\n",
      "08/25 16:19:06 [\u001b[1;32mNOTICE\u001b[0m] Download complete: participant-a/MER_FRS_1PPEPA20040920_094906_000005122030_00294_13374_4278.N1.txt\n",
      "\n",
      "08/25 16:19:06 [\u001b[1;32mNOTICE\u001b[0m] Download complete: participant-a/MER_FRS_1PPEPA20040926_095854_000005122030_00380_13460_4482.N1.txt\n",
      "\n",
      "08/25 16:19:06 [\u001b[1;32mNOTICE\u001b[0m] Download complete: participant-a/MER_FRS_1PPEPA20040923_095301_000005122030_00337_13417_4382.N1.txt\n",
      "\n",
      "08/25 16:19:06 [\u001b[1;32mNOTICE\u001b[0m] Download complete: participant-a/MER_FRS_1PPEPA20040930_093322_000005122030_00437_13517_4621.N1.txt\n",
      "\n",
      "08/25 16:19:06 [\u001b[1;32mNOTICE\u001b[0m] Download complete: participant-a/MER_FRS_1PPEPA20040927_092739_000005122030_00394_13474_4517.N1.txt\n",
      "\n",
      "08/25 16:19:06 [\u001b[1;32mNOTICE\u001b[0m] Download complete: participant-a/MER_FRS_1PPEPA20041214_203100_000001072033_00014_14597_0279.N1.txt\n",
      "\n",
      "08/25 16:19:06 [\u001b[1;32mNOTICE\u001b[0m] Download complete: participant-a/MER_FRS_1PPEPA20041005_202901_000003822031_00014_13595_4819.N1.txt\n",
      "\n",
      "08/25 16:19:06 [\u001b[1;32mNOTICE\u001b[0m] Download complete: participant-a/MER_FRS_1PPEPA20041217_203640_000001072033_00057_14640_0388.N1.txt\n",
      "\n",
      "08/25 16:19:06 [\u001b[1;32mNOTICE\u001b[0m] Download complete: participant-a/MER_FRS_1PPEPA20050105_203927_000001072033_00329_14912_1000.N1.txt\n",
      "\n",
      "08/25 16:19:06 [\u001b[1;32mNOTICE\u001b[0m] Download complete: participant-a/MER_FRS_1PPEPA20050121_203641_000001072034_00057_15141_1518.N1.txt\n",
      "\n",
      "08/25 16:19:06 [\u001b[1;32mNOTICE\u001b[0m] Download complete: participant-a/MER_FRS_1PPEPA20050301_095603_000005122035_00108_15693_2701.N1.txt\n",
      "\n",
      "08/25 16:19:06 [\u001b[1;32mNOTICE\u001b[0m] Download complete: participant-a/MER_FRS_1PPEPA20050222_203005_000002052035_00014_15599_2470.N1.txt\n",
      "\n",
      "08/25 16:19:06 [\u001b[1;32mNOTICE\u001b[0m] Download complete: participant-a/MER_FRS_1PPEPA20050124_204051_000003292034_00100_15184_1621.N1.txt\n",
      "\n",
      "08/25 16:19:06 [\u001b[1;32mNOTICE\u001b[0m] Download complete: participant-a/MER_FRS_1PPEPA20050305_093415_000005122035_00165_15750_2848.N1.txt\n",
      "\n",
      "08/25 16:19:06 [\u001b[1;32mNOTICE\u001b[0m] Download complete: participant-a/MER_FRS_1PPEPA20050302_092830_000005122035_00122_15707_2742.N1.txt\n",
      "\n",
      "08/25 16:19:06 [\u001b[1;32mNOTICE\u001b[0m] Download complete: participant-a/MER_FRS_1PPEPA20050320_100028_000005122035_00380_15965_3408.N1.txt\n",
      "\n",
      "08/25 16:19:06 [\u001b[1;32mNOTICE\u001b[0m] Download complete: participant-a/MER_FRS_1PPEPA20050331_091540_000005122036_00036_16122_3804.N1.txt\n",
      "\n",
      "08/25 16:19:06 [\u001b[1;32mNOTICE\u001b[0m] Download complete: participant-a/MER_FRS_1PPEPA20050403_092122_000005122036_00079_16165_3907.N1.txt\n",
      "\n",
      "08/25 16:19:06 [\u001b[1;32mNOTICE\u001b[0m] Download complete: participant-a/MER_FRS_1PPEPA20050409_093032_000005122036_00165_16251_4134.N1.txt\n",
      "\n",
      "08/25 16:19:06 [\u001b[1;32mNOTICE\u001b[0m] Download complete: participant-a/MER_FRS_1PPEPA20050414_202329_000005122036_00243_16329_4333.N1.txt\n",
      "\n",
      "08/25 16:19:06 [\u001b[1;32mNOTICE\u001b[0m] Download complete: participant-a/MER_FRS_1PPEPA20050417_203404_000000982036_00286_16372_4443.N1.txt\n",
      "\n",
      "08/25 16:19:06 [\u001b[1;32mNOTICE\u001b[0m] Download complete: participant-a/MER_FRS_1PPEPA20050503_203025_000001882037_00014_16601_5081.N1.txt\n",
      "\n",
      "08/25 16:19:06 [\u001b[1;32mNOTICE\u001b[0m] Download complete: participant-a/MER_FRS_1PPEPA20050422_092151_000005122036_00351_16437_4615.N1.txt\n",
      "\n",
      "08/25 16:19:06 [\u001b[1;32mNOTICE\u001b[0m] Download complete: participant-a/MER_FRS_1PPEPA20050415_094158_000005122036_00251_16337_4358.N1.txt\n",
      "\n",
      "08/25 16:19:06 [\u001b[1;32mNOTICE\u001b[0m] Download complete: participant-a/MER_FRS_1PPEPA20050504_094915_000003542037_00022_16609_5110.N1.txt\n",
      "\n",
      "08/25 16:19:06 [\u001b[1;32mNOTICE\u001b[0m] Download complete: participant-a/MER_FRS_1PPEPA20050517_093618_000005122037_00208_16795_5716.N1.txt\n",
      "\n",
      "08/25 16:19:06 [\u001b[1;32mNOTICE\u001b[0m] Download complete: participant-a/MER_FRS_1PPEPA20050712_203115_000001012039_00014_17603_8550.N1.txt\n",
      "\n",
      "08/25 16:19:06 [\u001b[1;32mNOTICE\u001b[0m] Download complete: participant-a/MER_FRS_1PPEPA20050527_092151_000005122037_00351_16938_6270.N1.txt\n",
      "\n",
      "08/25 16:19:06 [\u001b[1;32mNOTICE\u001b[0m] Download complete: participant-a/MER_FRS_1PPEPA20050713_094704_000005122039_00022_17611_8572.N1.txt\n",
      "\n",
      "08/25 16:19:06 [\u001b[1;32mNOTICE\u001b[0m] Download complete: participant-a/MER_FRS_1PPEPA20050801_094739_000005122039_00294_17883_9419.N1.txt\n",
      "\n",
      "08/25 16:19:06 [\u001b[1;32mNOTICE\u001b[0m] Download complete: participant-a/MER_FRS_1PPEPA20050723_093250_000005122039_00165_17754_9008.N1.txt\n",
      "\n",
      "08/25 16:19:06 [\u001b[1;32mNOTICE\u001b[0m] Download complete: participant-a/MER_FRS_1PPEPA20050726_093618_000005122039_00208_17797_9137.N1.txt\n",
      "\n",
      "08/25 16:19:06 [\u001b[1;32mNOTICE\u001b[0m] Download complete: participant-a/MER_FRS_1PPEPA20050808_092742_000005122039_00394_17983_9731.N1.txt\n",
      "\n",
      "08/25 16:19:06 [\u001b[1;32mNOTICE\u001b[0m] Download complete: participant-a/MER_FRS_1PPEPA20050814_093905_000005122039_00480_18069_0123.N1.txt\n",
      "\n",
      "08/25 16:19:06 [\u001b[1;32mNOTICE\u001b[0m] Download complete: participant-a/MER_FRS_1PPEPA20050817_094659_000005122040_00022_18112_0300.N1.txt\n",
      "\n",
      "08/25 16:19:06 [\u001b[1;32mNOTICE\u001b[0m] Download complete: participant-a/MER_FRS_1PPEPA20050816_202835_000003742040_00014_18104_0272.N1.txt\n",
      "\n",
      "08/25 16:19:06 [\u001b[1;32mNOTICE\u001b[0m] Download complete: participant-a/MER_FRS_1PPEPA20050830_094049_000005122040_00208_18298_0922.N1.txt\n",
      "\n",
      "08/25 16:19:06 [\u001b[1;32mNOTICE\u001b[0m] Download complete: participant-a/MER_FRS_1PPEPA20050904_203316_000001852040_00286_18376_1201.N1.txt\n",
      "\n",
      "08/25 16:19:06 [\u001b[1;32mNOTICE\u001b[0m] Download complete: participant-a/MER_FRS_1PPEPA20050923_102052_000005122041_00051_18642_2065.N1.txt\n",
      "\n",
      "08/25 16:19:06 [\u001b[1;32mNOTICE\u001b[0m] Download complete: participant-a/MER_FRS_1PPEPA20050920_203110_000001012041_00014_18605_1933.N1.txt\n",
      "\n",
      "08/25 16:19:06 [\u001b[1;32mNOTICE\u001b[0m] Download complete: participant-a/MER_FRS_1PPEPA20050912_092741_000005122040_00394_18484_1546.N1.txt\n",
      "\n",
      "08/25 16:19:06 [\u001b[1;32mNOTICE\u001b[0m] Download complete: participant-a/MER_FRS_1PPEPA20050923_203423_000003742041_00057_18648_2085.N1.txt\n",
      "\n",
      "08/25 16:19:06 [\u001b[1;32mNOTICE\u001b[0m] Download complete: participant-a/MER_FRS_1PPEPA20050924_095027_000005122041_00065_18656_2160.N1.txt\n",
      "\n",
      "08/25 16:19:06 [\u001b[1;32mNOTICE\u001b[0m] Download complete: participant-a/MER_FRS_1PPEPA20051009_101801_000005122041_00280_18871_2916.N1.txt\n",
      "\n",
      "08/25 16:19:06 [\u001b[1;32mNOTICE\u001b[0m] Download complete: participant-a/MER_FRS_1PPEPA20050930_100211_000005122041_00151_18742_2459.N1.txt\n",
      "\n",
      "08/25 16:19:06 [\u001b[1;32mNOTICE\u001b[0m] Download complete: participant-a/MER_FRS_1PPEPA20051001_093033_000005122041_00165_18756_2516.N1.txt\n",
      "\n",
      "08/25 16:19:06 [\u001b[1;32mNOTICE\u001b[0m] Download complete: participant-a/MER_FRS_1PPEPA20051013_095317_000005122041_00337_18928_3110.N1.txt\n",
      "\n",
      "08/25 16:19:06 [\u001b[1;32mNOTICE\u001b[0m] Download complete: participant-a/MER_FRS_1PPEPA20051016_100347_000003372041_00380_18971_3257.N1.txt\n",
      "\n",
      "08/25 16:19:06 [\u001b[1;32mNOTICE\u001b[0m] Download complete: participant-a/MER_FRS_1PPEPA20051010_094737_000005122041_00294_18885_2974.N1.txt\n",
      "\n",
      "08/25 16:19:06 [\u001b[1;32mNOTICE\u001b[0m] Download complete: participant-a/MER_FRS_1PPEPA20051025_101511_000005122042_00008_19100_4957.N1.txt\n",
      "\n",
      "08/25 16:19:06 [\u001b[1;32mNOTICE\u001b[0m] Download complete: participant-a/MER_FRS_1PPEPA20051026_095008_000004082042_00022_19114_4975.N1.txt\n",
      "\n",
      "08/25 16:19:06 [\u001b[1;32mNOTICE\u001b[0m] Download complete: participant-a/MER_FRS_1PPEPA20051028_102303_000005122042_00051_19143_4419.N1.txt\n",
      "\n",
      "08/25 16:19:06 [\u001b[1;32mNOTICE\u001b[0m] Download complete: participant-a/MER_FRS_1PPEPA20051025_203105_000001072042_00014_19106_4296.N1.txt\n",
      "\n",
      "08/25 16:19:06 [\u001b[1;32mNOTICE\u001b[0m] Download complete: participant-a/MER_FRS_1PPEPA20051029_095046_000005122042_00065_19157_5021.N1.txt\n",
      "\n",
      "08/25 16:19:06 [\u001b[1;32mNOTICE\u001b[0m] Download complete: participant-a/MER_FRS_1PPEPA20051110_202625_000002672042_00243_19335_5183.N1.txt\n",
      "\n",
      "08/25 16:19:06 [\u001b[1;32mNOTICE\u001b[0m] Download complete: participant-a/MER_FRS_1PPEPA20060315_094754_000005122046_00022_21118_3808.N1.txt\n",
      "\n",
      "08/25 16:19:06 [\u001b[1;32mNOTICE\u001b[0m] Download complete: participant-a/MER_FRS_1PPEPA20051113_203112_000004392042_00286_19378_5298.N1.txt\n",
      "\n",
      "08/25 16:19:06 [\u001b[1;32mNOTICE\u001b[0m] Download complete: participant-a/MER_FRS_1PPEPA20051202_203640_000001072043_00057_19650_5996.N1.txt\n",
      "\n",
      "08/25 16:19:06 [\u001b[1;32mNOTICE\u001b[0m] Download complete: participant-a/MER_FRS_1PPEPA20060302_095308_000005122045_00337_20932_3222.N1.txt\n",
      "\n",
      "08/25 16:19:06 [\u001b[1;32mNOTICE\u001b[0m] Download complete: participant-a/MER_FRS_1PPEPA20060402_202936_000004362046_00286_21382_4581.N1.txt\n",
      "\n",
      "08/25 16:19:06 [\u001b[1;32mNOTICE\u001b[0m] Download complete: participant-a/MER_FRS_1PPEPA20060418_203055_000001092047_00014_21611_5157.N1.txt\n",
      "\n",
      "08/25 16:19:06 [\u001b[1;32mNOTICE\u001b[0m] Download complete: participant-a/MER_FRS_1PPEPA20060404_091924_000005122046_00308_21404_4654.N1.txt\n",
      "\n",
      "08/25 16:19:06 [\u001b[1;32mNOTICE\u001b[0m] Download complete: participant-a/MER_FRS_1PPEPA20060429_093226_000005122047_00165_21762_5636.N1.txt\n",
      "\n",
      "08/25 16:19:06 [\u001b[1;32mNOTICE\u001b[0m] Download complete: participant-a/MER_FRS_1PPEPA20060423_092057_000005122047_00079_21676_5348.N1.txt\n",
      "\n",
      "08/25 16:19:06 [\u001b[1;32mNOTICE\u001b[0m] Download complete: participant-a/MER_FRS_1PPEPA20060505_094356_000005122047_00251_21848_5913.N1.txt\n",
      "\n",
      "08/25 16:19:06 [\u001b[1;32mNOTICE\u001b[0m] Download complete: participant-a/MER_FRS_1PPEPA20060515_092934_000005122047_00394_21991_6430.N1.txt\n",
      "\n",
      "08/25 16:19:06 [\u001b[1;32mNOTICE\u001b[0m] Download complete: participant-a/MER_FRS_1PPEPA20060523_203059_000001072048_00014_22112_6827.N1.txt\n",
      "\n",
      "08/25 16:19:06 [\u001b[1;32mNOTICE\u001b[0m] Download complete: participant-a/MER_FRS_1PPEPA20060524_094759_000005122048_00022_22120_6854.N1.txt\n",
      "\n",
      "08/25 16:19:06 [\u001b[1;32mNOTICE\u001b[0m] Download complete: participant-a/MER_FRS_1PPEPA20060606_093813_000005122048_00208_22306_7998.N1.txt\n",
      "\n",
      "08/25 16:19:06 [\u001b[1;32mNOTICE\u001b[0m] Download complete: participant-a/MER_FRS_1PPEPA20060609_094358_000005122048_00251_22349_8135.N1.txt\n",
      "\n",
      "08/25 16:19:06 [\u001b[1;32mNOTICE\u001b[0m] Download complete: participant-a/MER_FRS_1PPEPA20060603_093344_000005122048_00165_22263_7837.N1.txt\n",
      "\n",
      "08/25 16:19:06 [\u001b[1;32mNOTICE\u001b[0m] Download complete: participant-a/MER_FRS_1PPEPA20060611_203403_000000952048_00286_22384_8242.N1.txt\n",
      "\n",
      "08/25 16:19:06 [\u001b[1;32mNOTICE\u001b[0m] Download complete: participant-a/MER_FRS_1PPEPA20060711_094625_000005122049_00208_22807_9559.N1.txt\n",
      "\n",
      "08/25 16:19:06 [\u001b[1;32mNOTICE\u001b[0m] Download complete: participant-a/MER_FRS_1PPEPA20060716_203313_000001942049_00286_22885_9820.N1.txt\n",
      "\n",
      "08/25 16:19:06 [\u001b[1;32mNOTICE\u001b[0m] Download complete: participant-a/MER_FRS_1PPEPA20060708_093536_000004422049_00165_22764_9421.N1.txt\n",
      "\n",
      "08/25 16:19:06 [\u001b[1;32mNOTICE\u001b[0m] Download complete: participant-a/MER_FRS_1PPEPA20060714_094403_000005122049_00251_22850_9709.N1.txt\n",
      "\n",
      "08/25 16:19:06 [\u001b[1;32mNOTICE\u001b[0m] Download complete: participant-a/MER_FRS_1PPEPA20060801_203112_000001012050_00014_23114_0720.N1.txt\n",
      "\n",
      "08/25 16:19:06 [\u001b[1;32mNOTICE\u001b[0m] Download complete: participant-a/MER_FRS_1PPEPA20060727_093526_000005122049_00437_23036_0444.N1.txt\n",
      "\n",
      "08/25 16:19:06 [\u001b[1;32mNOTICE\u001b[0m] Download complete: participant-a/MER_FRS_1PPEPA20060730_094111_000005122049_00480_23079_0599.N1.txt\n",
      "\n",
      "08/25 16:19:06 [\u001b[1;32mNOTICE\u001b[0m] Download complete: participant-a/MER_FRS_1PPEPA20060805_095240_000005122050_00065_23165_0894.N1.txt\n",
      "\n",
      "08/25 16:19:06 [\u001b[1;32mNOTICE\u001b[0m] Download complete: participant-a/MER_FRS_1PPEPA20060818_094514_000005122050_00251_23351_1472.N1.txt\n",
      "\n",
      "08/25 16:19:06 [\u001b[1;32mNOTICE\u001b[0m] Download complete: participant-a/MER_FRS_1PPEPA20060831_093522_000005122050_00437_23537_2074.N1.txt\n",
      "\n",
      "08/25 16:19:06 [\u001b[1;32mNOTICE\u001b[0m] Download complete: participant-a/MER_FRS_1PPEPA20060905_203015_000001992051_00014_23615_2327.N1.txt\n",
      "\n",
      "08/25 16:19:06 [\u001b[1;32mNOTICE\u001b[0m] Download complete: participant-a/MER_FRS_1PPEPA20060913_092641_000005122051_00122_23723_2520.N1.txt\n",
      "\n",
      "08/25 16:19:06 [\u001b[1;32mNOTICE\u001b[0m] Download complete: participant-a/MER_FRS_1PPEPA20060821_094946_000005122050_00294_23394_1608.N1.txt\n",
      "\n",
      "08/25 16:19:06 [\u001b[1;32mNOTICE\u001b[0m] Download complete: participant-a/MER_FRS_1PPEPA20060906_094801_000005122051_00022_23623_2354.N1.txt\n",
      "\n",
      "08/25 16:19:06 [\u001b[1;32mNOTICE\u001b[0m] Download complete: participant-a/MER_FRS_1PPEPA20060922_094152_000005122051_00251_23852_2937.N1.txt\n",
      "\n",
      "08/25 16:19:06 [\u001b[1;32mNOTICE\u001b[0m] Download complete: participant-a/MER_FRS_1PPEPA20060924_203404_000000922051_00286_23887_3037.N1.txt\n",
      "\n",
      "08/25 16:19:06 [\u001b[1;32mNOTICE\u001b[0m] Download complete: participant-a/MER_FRS_1PPEPA20061010_101834_000005062052_00008_24110_3417.N1.txt\n",
      "\n",
      "08/25 16:19:06 [\u001b[1;32mNOTICE\u001b[0m] Download complete: participant-a/MER_FRS_1PPEPA20061008_093905_000005122051_00480_24081_3357.N1.txt\n",
      "\n",
      "08/25 16:19:06 [\u001b[1;32mNOTICE\u001b[0m] Download complete: participant-a/MER_FRS_1PPEPA20061010_203102_000001072052_00014_24116_3427.N1.txt\n",
      "\n",
      "08/25 16:19:06 [\u001b[1;32mNOTICE\u001b[0m] Download complete: participant-a/MER_FRS_1PPEPA20061013_102417_000004892052_00051_24153_3505.N1.txt\n",
      "\n",
      "08/25 16:19:06 [\u001b[1;32mNOTICE\u001b[0m] Download complete: participant-a/MER_FRS_1PPEPA20061017_095606_000005122052_00108_24210_3613.N1.txt\n",
      "\n",
      "08/25 16:19:06 [\u001b[1;32mNOTICE\u001b[0m] Download complete: participant-a/MER_FRS_1PPEPA20061011_094804_000005122052_00022_24124_3437.N1.txt\n",
      "\n",
      "08/25 16:19:06 [\u001b[1;32mNOTICE\u001b[0m] Download complete: participant-a/MER_FRS_1PPEPA20061013_203643_000001072052_00057_24159_3517.N1.txt\n",
      "\n",
      "08/25 16:19:06 [\u001b[1;32mNOTICE\u001b[0m] Download complete: participant-a/MER_FRS_1PPEPA20061117_203642_000001072053_00057_24660_4975.N1.txt\n",
      "\n",
      "08/25 16:19:06 [\u001b[1;32mNOTICE\u001b[0m] Download complete: participant-a/MER_FRS_1PPEPA20061130_202641_000002752053_00243_24846_5486.N1.txt\n",
      "\n",
      "08/25 16:19:06 [\u001b[1;32mNOTICE\u001b[0m] Download complete: participant-a/MER_FRS_1PPEPA20061225_204222_000001072054_00100_25204_6466.N1.txt\n",
      "\n",
      "08/25 16:19:06 [\u001b[1;32mNOTICE\u001b[0m] Download complete: participant-a/MER_FRS_1PPEPA20070218_100151_000005092055_00380_25985_2024.N1.txt\n",
      "\n",
      "08/25 16:19:06 [\u001b[1;32mNOTICE\u001b[0m] Download complete: participant-a/MER_FRS_1PPEPA20070227_101502_000005092056_00008_26114_2448.N1.txt\n",
      "\n",
      "08/25 16:19:06 [\u001b[1;32mNOTICE\u001b[0m] Download complete: participant-a/MER_FRS_1PPEPA20061219_203101_000001072054_00014_25118_6179.N1.txt\n",
      "\n",
      "08/25 16:19:06 [\u001b[1;32mNOTICE\u001b[0m] Download complete: participant-a/MER_FRS_1PPEPA20070303_095314_000005092056_00065_26171_2656.N1.txt\n",
      "\n",
      "08/25 16:19:06 [\u001b[1;32mNOTICE\u001b[0m] Download complete: participant-a/MER_FRS_1PPEPA20070309_100525_000005092056_00151_26257_2947.N1.txt\n",
      "\n",
      "08/25 16:19:06 [\u001b[1;32mNOTICE\u001b[0m] Download complete: participant-a/MER_FRS_1PPEPA20070312_101110_000005122056_00194_26300_3098.N1.txt\n",
      "\n",
      "08/25 16:19:06 [\u001b[1;32mNOTICE\u001b[0m] Download complete: participant-a/MER_FRS_1PPEPA20070323_092142_000005122056_00351_26457_3671.N1.txt\n",
      "\n",
      "08/25 16:19:06 [\u001b[1;32mNOTICE\u001b[0m] Download complete: participant-a/MER_FRS_1PPEPA20070322_095647_000005122056_00337_26443_3628.N1.txt\n",
      "\n",
      "08/25 16:19:06 [\u001b[1;32mNOTICE\u001b[0m] Download complete: participant-a/MER_FRS_1PPEPA20070313_093932_000005092056_00208_26314_3149.N1.txt\n",
      "\n",
      "08/25 16:19:06 [\u001b[1;32mNOTICE\u001b[0m] Download complete: participant-a/MER_FRS_1PPEPA20070404_094657_000004872057_00022_26629_5268.N1.txt\n",
      "\n",
      "08/25 16:19:06 [\u001b[1;32mNOTICE\u001b[0m] Download complete: participant-a/MER_FRS_1PPEPA20070326_093039_000005122056_00394_26500_3805.N1.txt\n",
      "\n",
      "08/25 16:19:06 [\u001b[1;32mNOTICE\u001b[0m] Download complete: participant-a/MER_FRS_1PPEPA20070403_202959_000001882057_00014_26621_5241.N1.txt\n",
      "\n",
      "08/25 16:19:06 [\u001b[1;32mNOTICE\u001b[0m] Download complete: participant-a/MER_FRS_1PPEPA20070406_203553_000001882057_00057_26664_5373.N1.txt\n",
      "\n",
      "08/25 16:19:06 [\u001b[1;32mNOTICE\u001b[0m] Download complete: participant-a/MER_FRS_1PPEPA20070329_093633_000005122056_00437_26543_3960.N1.txt\n",
      "\n",
      "08/25 16:19:06 [\u001b[1;32mNOTICE\u001b[0m] Download complete: participant-a/MER_FRS_1PPEPA20070506_093849_000005122057_00480_27087_5347.N1.txt\n",
      "\n",
      "08/25 16:19:06 [\u001b[1;32mNOTICE\u001b[0m] Download complete: participant-a/MER_FRS_1PPEPA20070414_093014_000005122057_00165_26772_4325.N1.txt\n",
      "\n",
      "08/25 16:19:06 [\u001b[1;32mNOTICE\u001b[0m] Download complete: participant-a/MER_FRS_1PPEPA20070407_095344_000005092057_00065_26672_5403.N1.txt\n",
      "\n",
      "08/25 16:19:06 [\u001b[1;32mNOTICE\u001b[0m] Download complete: participant-a/MER_FRS_1PPEPA20070420_094509_000005092057_00251_26858_4597.N1.txt\n",
      "\n",
      "08/25 16:19:06 [\u001b[1;32mNOTICE\u001b[0m] Download complete: participant-a/MER_FRS_1PPEPA20070509_094523_000005092058_00022_27130_5490.N1.txt\n",
      "\n",
      "08/25 16:19:06 [\u001b[1;32mNOTICE\u001b[0m] Download complete: participant-a/MER_FRS_1PPEPA20070417_093924_000005122057_00208_26815_4467.N1.txt\n",
      "\n",
      "08/25 16:19:06 [\u001b[1;32mNOTICE\u001b[0m] Download complete: participant-a/MER_FRS_1PPEPA20070513_092136_000005092058_00079_27187_5694.N1.txt\n",
      "\n",
      "08/25 16:19:06 [\u001b[1;32mNOTICE\u001b[0m] Download complete: participant-a/MER_FRS_1PPEPA20070516_092515_000005092058_00122_27230_5826.N1.txt\n",
      "\n",
      "08/25 16:19:07 [\u001b[1;32mNOTICE\u001b[0m] Download complete: participant-a/MER_FRS_1PPEPA20070612_203056_000001122059_00014_27623_7142.N1.txt\n",
      "\n",
      "08/25 16:19:07 [\u001b[1;32mNOTICE\u001b[0m] Download complete: participant-a/MER_FRS_1PPEPA20070519_093101_000005092058_00165_27273_5971.N1.txt\n",
      "\n",
      "08/25 16:19:07 [\u001b[1;32mNOTICE\u001b[0m] Download complete: participant-a/MER_FRS_1PPEPA20070613_094525_000005092059_00022_27631_7173.N1.txt\n",
      "\n",
      "08/25 16:19:07 [\u001b[1;32mNOTICE\u001b[0m] Download complete: participant-a/MER_FRS_1PPEPA20070623_093019_000005122059_00165_27774_7652.N1.txt\n",
      "\n",
      "08/25 16:19:07 [\u001b[1;32mNOTICE\u001b[0m] Download complete: participant-a/MER_FRS_1PPEPA20070701_203347_000001122059_00286_27895_8046.N1.txt\n",
      "\n",
      "08/25 16:19:07 [\u001b[1;32mNOTICE\u001b[0m] Download complete: participant-a/MER_FRS_1PPEPA20070629_094233_000005092059_00251_27860_7936.N1.txt\n",
      "\n",
      "08/25 16:19:07 [\u001b[1;32mNOTICE\u001b[0m] Download complete: participant-a/MER_FRS_1PPEPA20070715_094121_000005092059_00480_28089_8694.N1.txt\n",
      "\n",
      "08/25 16:19:07 [\u001b[1;32mNOTICE\u001b[0m] Download complete: participant-a/MER_FRS_1PPEPA20070709_092811_000005122059_00394_28003_8412.N1.txt\n",
      "\n",
      "08/25 16:19:07 [\u001b[1;32mNOTICE\u001b[0m] Download complete: participant-a/MER_FRS_1PPEPA20070728_093104_000005122060_00165_28275_9290.N1.txt\n",
      "\n",
      "08/25 16:19:07 [\u001b[1;32mNOTICE\u001b[0m] Download complete: participant-a/MER_FRS_1PPEPA20070718_094526_000005122060_00022_28132_8817.N1.txt\n",
      "\n",
      "08/25 16:19:07 [\u001b[1;32mNOTICE\u001b[0m] Download complete: participant-a/MER_FRS_1PPEPA20070803_094234_000005122060_00251_28361_9572.N1.txt\n",
      "\n",
      "08/25 16:19:07 [\u001b[1;32mNOTICE\u001b[0m] Download complete: participant-a/MER_FRS_1PPEPA20070813_092811_000005092060_00394_28504_0027.N1.txt\n",
      "\n",
      "08/25 16:19:07 [\u001b[1;32mNOTICE\u001b[0m] Download complete: participant-a/MER_FRS_1PPEPA20070806_094818_000005092060_00294_28404_9716.N1.txt\n",
      "\n",
      "08/25 16:19:07 [\u001b[1;32mNOTICE\u001b[0m] Download complete: participant-a/MER_FRS_1PPEPA20070904_093647_000005122061_00208_28819_1042.N1.txt\n",
      "\n",
      "08/25 16:19:07 [\u001b[1;32mNOTICE\u001b[0m] Download complete: participant-a/MER_FRS_1PPEPA20070816_093356_000005122060_00437_28547_0161.N1.txt\n",
      "\n",
      "08/25 16:19:07 [\u001b[1;32mNOTICE\u001b[0m] Download complete: participant-a/MER_FRS_1PPEPA20070901_093018_000005122061_00165_28776_0901.N1.txt\n",
      "\n",
      "08/25 16:19:07 [\u001b[1;32mNOTICE\u001b[0m] Download complete: participant-a/MER_FRS_1PPEPA20070911_091639_000005122061_00308_28919_1316.N1.txt\n",
      "\n",
      "08/25 16:19:07 [\u001b[1;32mNOTICE\u001b[0m] Download complete: participant-a/MER_FRS_1PPEPA20070910_094815_000005122061_00294_28905_1273.N1.txt\n",
      "\n",
      "08/25 16:19:07 [\u001b[1;32mNOTICE\u001b[0m] Download complete: participant-a/MER_FRS_1PPEPA20070917_092807_000005092061_00394_29005_1585.N1.txt\n",
      "\n",
      "08/25 16:19:07 [\u001b[1;32mNOTICE\u001b[0m] Download complete: participant-a/MER_FRS_1PPEPA20070920_093351_000005092061_00437_29048_1724.N1.txt\n",
      "\n",
      "08/25 16:19:07 [\u001b[1;32mNOTICE\u001b[0m] Download complete: participant-a/MER_FRS_1PPEPA20071002_095650_000005122062_00108_29220_2136.N1.txt\n",
      "\n",
      "08/25 16:19:07 [\u001b[1;32mNOTICE\u001b[0m] Download complete: participant-a/MER_FRS_1PPEPA20071009_093828_000005092062_00208_29320_2456.N1.txt\n",
      "\n",
      "08/25 16:19:07 [\u001b[1;32mNOTICE\u001b[0m] Download complete: participant-a/MER_FRS_1PPEPA20071008_100821_000005122062_00194_29306_2403.N1.txt\n",
      "\n",
      "08/25 16:19:07 [\u001b[1;32mNOTICE\u001b[0m] Download complete: participant-a/MER_FRS_1PPEPA20071003_092513_000005122062_00122_29234_2177.N1.txt\n",
      "\n",
      "08/25 16:19:07 [\u001b[1;32mNOTICE\u001b[0m] Download complete: participant-a/MER_FRS_1PPEPA20071015_094814_000005122062_00294_29406_2728.N1.txt\n",
      "\n",
      "08/25 16:19:07 [\u001b[1;32mNOTICE\u001b[0m] Download complete: participant-a/MER_FRS_1PPEPA20071012_094229_000005092062_00251_29363_2599.N1.txt\n",
      "\n",
      "08/25 16:19:07 [\u001b[1;32mNOTICE\u001b[0m] Download complete: participant-a/MER_FRS_1PPEPA20071016_091637_000005122062_00308_29420_2781.N1.txt\n",
      "\n",
      "08/25 16:19:07 [\u001b[1;32mNOTICE\u001b[0m] Download complete: participant-a/MER_FRS_1PPEPA20071021_095943_000005092062_00380_29492_3000.N1.txt\n",
      "\n",
      "08/25 16:19:07 [\u001b[1;32mNOTICE\u001b[0m] Download complete: participant-a/MER_FRS_1PPEPA20071018_095358_000005092062_00337_29449_2865.N1.txt\n",
      "\n",
      "08/25 16:19:07 [\u001b[1;32mNOTICE\u001b[0m] Download complete: participant-a/MER_FRS_1PPEPA20071022_092701_000005122062_00394_29506_3037.N1.txt\n",
      "\n",
      "08/25 16:19:07 [\u001b[1;32mNOTICE\u001b[0m] Download complete: participant-a/MER_FRS_1PPEPA20071102_102135_000005122063_00051_29664_3490.N1.txt\n",
      "\n",
      "08/25 16:19:07 [\u001b[1;32mNOTICE\u001b[0m] Download complete: participant-a/MER_FRS_1PPEPA20071102_203551_000002022063_00057_29670_3503.N1.txt\n",
      "\n",
      "08/25 16:19:07 [\u001b[1;32mNOTICE\u001b[0m] Download complete: participant-a/MER_FRS_1PPEPA20071030_203051_000001122063_00014_29627_3379.N1.txt\n",
      "\n",
      "08/25 16:19:07 [\u001b[1;32mNOTICE\u001b[0m] Download complete: participant-a/MER_FRS_1PPEPA20080414_092952_000005122067_00394_32011_6846.N1.txt\n",
      "\n",
      "08/25 16:19:07 [\u001b[1;32mNOTICE\u001b[0m] Download complete: participant-a/MER_FRS_1PPEPA20080319_094410_000005122067_00022_31639_5843.N1.txt\n",
      "\n",
      "08/25 16:19:07 [\u001b[1;32mNOTICE\u001b[0m] Download complete: participant-a/MER_FRS_1PPEPA20080417_093346_000005122067_00437_32054_6978.N1.txt\n",
      "\n",
      "08/25 16:19:07 [\u001b[1;32mNOTICE\u001b[0m] Download complete: participant-a/MER_FRS_1PPEPA20080427_091923_000005122068_00079_32197_7416.N1.txt\n",
      "\n",
      "08/25 16:19:07 [\u001b[1;32mNOTICE\u001b[0m] Download complete: participant-a/MER_FRS_1PPEPA20080422_203047_000001122068_00014_32132_7220.N1.txt\n",
      "\n",
      "08/25 16:19:07 [\u001b[1;32mNOTICE\u001b[0m] Download complete: participant-a/MER_FRS_1PPEPA20080615_203341_000001122069_00286_32905_9890.N1.txt\n",
      "\n",
      "08/25 16:19:07 [\u001b[1;32mNOTICE\u001b[0m] Download complete: participant-a/MER_FRS_1PPEPA20080527_203049_000001122069_00014_32633_8795.N1.txt\n",
      "\n",
      "08/25 16:19:07 [\u001b[1;32mNOTICE\u001b[0m] Download complete: participant-a/MER_FRS_1PPEPA20080629_094116_000005122069_00480_33099_0664.N1.txt\n",
      "\n",
      "08/25 16:19:07 [\u001b[1;32mNOTICE\u001b[0m] Download complete: participant-a/MER_FRS_1PPEPA20080712_093243_000005122070_00165_33285_1271.N1.txt\n",
      "\n",
      "08/25 16:19:07 [\u001b[1;32mNOTICE\u001b[0m] Download complete: participant-a/MER_FRS_1PPEPA20080718_094227_000005122070_00251_33371_1688.N1.txt\n",
      "\n",
      "08/25 16:19:07 [\u001b[1;32mNOTICE\u001b[0m] Download complete: participant-a/MER_FRS_1PPEPA20080721_095131_000005122070_00294_33414_1851.N1.txt\n",
      "\n",
      "08/25 16:19:07 [\u001b[1;32mNOTICE\u001b[0m] Download complete: participant-a/MER_FRS_1PPEPA20080702_094519_000005122070_00022_33142_0788.N1.txt\n",
      "\n",
      "08/25 16:19:07 [\u001b[1;32mNOTICE\u001b[0m] Download complete: participant-a/MER_FRS_1PPEPA20080803_094116_000005122070_00480_33600_2565.N1.txt\n",
      "\n",
      "08/25 16:19:07 [\u001b[1;32mNOTICE\u001b[0m] Download complete: participant-a/MER_FRS_1PPEPA20080807_091540_000005152071_00036_33657_2797.N1.txt\n",
      "\n",
      "08/25 16:19:07 [\u001b[1;32mNOTICE\u001b[0m] Download complete: participant-a/MER_FRS_1PPEPA20080816_093242_000005122071_00165_33786_3295.N1.txt\n",
      "\n",
      "08/25 16:19:07 [\u001b[1;32mNOTICE\u001b[0m] Download complete: participant-a/MER_FRS_1PPEPA20080731_093535_000005122070_00437_33557_2401.N1.txt\n",
      "\n",
      "08/25 16:19:07 [\u001b[1;32mNOTICE\u001b[0m] Download complete: participant-a/MER_FRS_1PPEPA20080819_093825_000005122071_00208_33829_3469.N1.txt\n",
      "\n",
      "08/25 16:19:07 [\u001b[1;32mNOTICE\u001b[0m] Download complete: participant-a/MER_FRS_1PPEPA20080824_203322_000001882071_00286_33907_3752.N1.txt\n",
      "\n",
      "08/25 16:19:07 [\u001b[1;32mNOTICE\u001b[0m] Download complete: participant-a/MER_FRS_1PPEPA20080910_094515_000005122072_00022_34144_4600.N1.txt\n",
      "\n",
      "08/25 16:19:07 [\u001b[1;32mNOTICE\u001b[0m] Download complete: participant-a/MER_FRS_1PPEPA20080909_203027_000001882072_00014_34136_4572.N1.txt\n",
      "\n",
      "08/25 16:19:07 [\u001b[1;32mNOTICE\u001b[0m] Download complete: participant-a/MER_FRS_1PPEPA20080920_093054_000005122072_00165_34287_5089.N1.txt\n",
      "\n",
      "08/25 16:19:07 [\u001b[1;32mNOTICE\u001b[0m] Download complete: participant-a/MER_FRS_1PPEPA20080912_203613_000001882072_00057_34179_4718.N1.txt\n",
      "\n",
      "08/25 16:19:07 [\u001b[1;32mNOTICE\u001b[0m] Download complete: participant-a/MER_FRS_1PPEPA20080922_100816_000005122072_00194_34316_5189.N1.txt\n",
      "\n",
      "08/25 16:19:07 [\u001b[1;32mNOTICE\u001b[0m] Download complete: participant-a/MER_FRS_1PPEPA20080923_093823_000005122072_00208_34330_5236.N1.txt\n",
      "\n",
      "08/25 16:19:07 [\u001b[1;32mNOTICE\u001b[0m] Download complete: participant-a/MER_FRS_1PPEPA20080928_102039_000005122072_00280_34402_5515.N1.txt\n",
      "\n",
      "08/25 16:19:07 [\u001b[1;32mNOTICE\u001b[0m] Download complete: participant-a/MER_FRS_1PPEPA20080928_203322_000001882072_00286_34408_5540.N1.txt\n",
      "\n",
      "08/25 16:19:07 [\u001b[1;32mNOTICE\u001b[0m] Download complete: participant-a/MER_FRS_1PPEPA20080929_094949_000005122072_00294_34416_5570.N1.txt\n",
      "\n",
      "08/25 16:19:07 [\u001b[1;32mNOTICE\u001b[0m] Download complete: participant-a/MER_FRS_1PPEPA20081005_095940_000005122072_00380_34502_5850.N1.txt\n",
      "\n",
      "08/25 16:19:07 [\u001b[1;32mNOTICE\u001b[0m] Download complete: participant-a/MER_FRS_1PPEPA20081006_092803_000005122072_00394_34516_5900.N1.txt\n",
      "\n",
      "08/25 16:19:07 [\u001b[1;32mNOTICE\u001b[0m] Download complete: participant-a/MER_FRS_1PPEPA20081009_093348_000005122072_00437_34559_6052.N1.txt\n",
      "\n",
      "08/25 16:19:07 [\u001b[1;32mNOTICE\u001b[0m] Download complete: participant-a/MER_FRS_1PPEPA20081014_101748_000005182073_00008_34631_6328.N1.txt\n",
      "\n",
      "08/25 16:19:07 [\u001b[1;32mNOTICE\u001b[0m] Download complete: participant-a/MER_FRS_1PPEPA20081008_100525_000005122072_00423_34545_6000.N1.txt\n",
      "\n",
      "08/25 16:19:07 [\u001b[1;32mNOTICE\u001b[0m] Download complete: participant-a/MER_FRS_1PPEPA20081014_203030_000001852073_00014_34637_6349.N1.txt\n",
      "\n",
      "08/25 16:19:07 [\u001b[1;32mNOTICE\u001b[0m] Download complete: participant-a/MER_FRS_1PPEPA20081024_100232_000005122073_00151_34774_6791.N1.txt\n",
      "\n",
      "08/25 16:19:07 [\u001b[1;32mNOTICE\u001b[0m] Download complete: participant-a/MER_FRS_1PPEPA20081204_202714_000001882074_00243_35367_8469.N1.txt\n",
      "\n",
      "08/25 16:19:07 [\u001b[1;32mNOTICE\u001b[0m] Download complete: participant-a/MER_FRS_1PPEPA20090130_203612_000001882076_00057_36183_1119.N1.txt\n",
      "\n",
      "08/25 16:19:07 [\u001b[1;32mNOTICE\u001b[0m] Download complete: participant-a/MER_FRS_1PPEPA20081018_095102_000005122073_00065_34688_6517.N1.txt\n",
      "\n",
      "08/25 16:19:07 [\u001b[1;32mNOTICE\u001b[0m] Download complete: participant-a/MER_FRS_1PPEPA20090219_095354_000005092076_00337_36463_1964.N1.txt\n",
      "\n",
      "08/25 16:19:07 [\u001b[1;32mNOTICE\u001b[0m] Download complete: participant-a/MER_FRS_1PPEPA20090316_100816_000005092077_00194_36821_3151.N1.txt\n",
      "\n",
      "08/25 16:19:07 [\u001b[1;32mNOTICE\u001b[0m] Download complete: participant-a/MER_FRS_1PPEPA20090322_203322_000001882077_00286_36913_3469.N1.txt\n",
      "\n",
      "08/25 16:19:07 [\u001b[1;32mNOTICE\u001b[0m] Download complete: participant-a/MER_FRS_1PPEPA20090311_092659_000005152077_00122_36749_2918.N1.txt\n",
      "\n",
      "08/25 16:19:07 [\u001b[1;32mNOTICE\u001b[0m] Download complete: participant-a/MER_FRS_1PPEPA20090407_203027_000001882078_00014_37142_4263.N1.txt\n",
      "\n",
      "08/25 16:19:07 [\u001b[1;32mNOTICE\u001b[0m] Download complete: participant-a/MER_FRS_1PPEPA20090512_203030_000001882079_00014_37643_6023.N1.txt\n",
      "\n",
      "08/25 16:19:07 [\u001b[1;32mNOTICE\u001b[0m] Download complete: participant-a/MER_FRS_1PPEPA20090424_094223_000005092078_00251_37379_5097.N1.txt\n",
      "\n",
      "08/25 16:19:07 [\u001b[1;32mNOTICE\u001b[0m] Download complete: participant-a/MER_FRS_1PPEPA20090507_093347_000005122078_00437_37565_5730.N1.txt\n",
      "\n",
      "08/25 16:19:07 [\u001b[1;32mNOTICE\u001b[0m] Download complete: participant-a/MER_FRS_1PPEPA20090513_094517_000005122079_00022_37651_6069.N1.txt\n",
      "\n",
      "08/25 16:19:07 [\u001b[1;32mNOTICE\u001b[0m] Download complete: participant-a/MER_FRS_1PPEPA20090526_093842_000005122079_00208_37837_6752.N1.txt\n",
      "\n",
      "08/25 16:19:07 [\u001b[1;32mNOTICE\u001b[0m] Download complete: participant-a/MER_FRS_1PPEPA20090529_094225_000005092079_00251_37880_6909.N1.txt\n",
      "\n",
      "08/25 16:19:07 [\u001b[1;32mNOTICE\u001b[0m] Download complete: participant-a/MER_FRS_1PPEPA20090616_203032_000001882080_00014_38144_7841.N1.txt\n",
      "\n",
      "08/25 16:19:07 [\u001b[1;32mNOTICE\u001b[0m] Download complete: participant-a/MER_FRS_1PPEPA20090721_203032_000001852081_00014_38645_9472.N1.txt\n",
      "[DL:298KiB UL:0B][#d04ba5 0B/0B][#3e60e0 0B/0B][#c9c7b0 0B/0B][#767f85 0B/0B][#\n",
      "08/25 16:19:07 [\u001b[1;32mNOTICE\u001b[0m] Download complete: participant-a/MER_FRS_1PPEPA20090531_203324_000001882079_00286_37915_7044.N1.txt\n",
      "\n",
      "08/25 16:19:07 [\u001b[1;32mNOTICE\u001b[0m] Download complete: participant-a/MER_FRS_1PPEPA20090809_203324_000001852081_00286_38917_0308.N1.txt\n",
      "\n",
      "08/25 16:19:07 [\u001b[1;32mNOTICE\u001b[0m] Download complete: participant-a/MER_FRS_1PPEPA20090923_100446_000005092082_00423_39555_2431.N1.txt\n",
      "\n",
      "08/25 16:19:07 [\u001b[1;32mNOTICE\u001b[0m] Download complete: participant-a/MER_FRS_1PPEPA20090908_093609_000005122082_00208_39340_1719.N1.txt\n",
      "\n",
      "08/25 16:19:07 [\u001b[1;32mNOTICE\u001b[0m] Download complete: participant-a/MER_FRS_1PPEPA20090817_092804_000005122081_00394_39025_0667.N1.txt\n",
      "\n",
      "08/25 16:19:07 [\u001b[1;32mNOTICE\u001b[0m] Download complete: participant-a/MER_FRS_1PPEPA20090929_203025_000001882083_00014_39647_2725.N1.txt\n",
      "\n",
      "08/25 16:19:07 [\u001b[1;32mNOTICE\u001b[0m] Download complete: participant-a/MER_FRS_1PPEPA20090924_093315_000005092082_00437_39569_2479.N1.txt\n",
      "\n",
      "08/25 16:19:07 [\u001b[1;32mNOTICE\u001b[0m] Download complete: participant-a/MER_FRS_1PPEPA20091015_202611_000002222083_00243_39876_3403.N1.txt\n",
      "\n",
      "08/25 16:19:07 [\u001b[1;32mNOTICE\u001b[0m] Download complete: participant-a/MER_FRS_1PPEPA20091019_094806_000005092083_00294_39927_3565.N1.txt\n",
      "\n",
      "08/25 16:19:07 [\u001b[1;32mNOTICE\u001b[0m] Download complete: participant-a/MER_FRS_1PPEPA20100112_203025_000001882086_00014_41150_6448.N1.txt\n",
      "\n",
      "08/25 16:19:07 [\u001b[1;32mNOTICE\u001b[0m] Download complete: participant-a/MER_FRS_1PPEPA20091016_094221_000005092083_00251_39884_3432.N1.txt\n",
      "\n",
      "08/25 16:19:07 [\u001b[1;32mNOTICE\u001b[0m] Download complete: participant-a/MER_FRS_1PPEPA20091028_100435_000005092083_00423_40056_3912.N1.txt\n",
      "\n",
      "08/25 16:19:07 [\u001b[1;32mNOTICE\u001b[0m] Download complete: participant-a/MER_FRS_1PPEPA20100219_203609_000001852087_00057_41694_7825.N1.txt\n",
      "\n",
      "08/25 16:19:07 [\u001b[1;32mNOTICE\u001b[0m] Download complete: participant-a/MER_FRS_1PPEPA20100227_093003_000005092087_00165_41802_8164.N1.txt\n",
      "\n",
      "08/25 16:19:07 [\u001b[1;32mNOTICE\u001b[0m] Download complete: participant-a/MER_FRS_1PPEPA20100131_203317_000001882086_00286_41422_7113.N1.txt\n",
      "\n",
      "08/25 16:19:07 [\u001b[1;32mNOTICE\u001b[0m] Download complete: participant-a/MER_FRS_1PPEPA20100216_203023_000001852087_00014_41651_7692.N1.txt\n",
      "\n",
      "08/25 16:19:07 [\u001b[1;32mNOTICE\u001b[0m] Download complete: participant-a/MER_FRS_1PPEPA20100203_203901_000001882086_00329_41465_7217.N1.txt\n",
      "\n",
      "08/25 16:19:07 [\u001b[1;32mNOTICE\u001b[0m] Download complete: participant-a/MER_FRS_1PPEPA20100328_092112_000005122088_00079_42217_9482.N1.txt\n",
      "\n",
      "08/25 16:19:07 [\u001b[1;32mNOTICE\u001b[0m] Download complete: participant-a/MER_FRS_1PPEPA20100524_092738_000005122089_00394_43033_2326.N1.txt\n",
      "\n",
      "08/25 16:19:07 [\u001b[1;32mNOTICE\u001b[0m] Download complete: participant-a/MER_FRS_1PPEPA20100818_092456_000005122092_00122_44264_6659.N1.txt\n",
      "\n",
      "08/25 16:19:07 [\u001b[1;32mNOTICE\u001b[0m] Download complete: participant-a/MER_FRS_1PPEPA20100429_091327_000005122089_00036_42675_1046.N1.txt\n",
      "\n",
      "08/25 16:19:07 [\u001b[1;32mNOTICE\u001b[0m] Download complete: participant-a/MER_FRS_1PPEPA20100518_091621_000005122089_00308_42947_2013.N1.txt\n",
      "\n",
      "08/25 16:19:07 [\u001b[1;32mNOTICE\u001b[0m] Download complete: participant-a/MER_FRS_1PPEPA20100821_093120_000005122092_00165_44307_6802.N1.txt\n",
      "\n",
      "08/25 16:19:07 [\u001b[1;32mNOTICE\u001b[0m] Download complete: participant-a/MER_FRS_1PPEPA20100912_094327_000005122092_00480_44622_7896.N1.txt\n",
      "\n",
      "08/25 16:19:07 [\u001b[1;32mNOTICE\u001b[0m] Download complete: participant-a/MER_FRS_1PPEPA20100919_092125_000005122093_00079_44722_8212.N1.txt\n",
      "\n",
      "Download Results:\n",
      "gid   |stat|avg speed  |path/URI\n",
      "======+====+===========+=======================================================\n",
      "5da548|\u001b[1;32mOK\u001b[0m  |        n/a|participant-a/MER_FRS_1PPEPA20020813_091828_000002332008_00308_02366_1250.N1.txt\n",
      "5db6fe|\u001b[1;32mOK\u001b[0m  |        n/a|participant-a/MER_FRS_1PPEPA20021127_203927_000001092011_00329_03890_1715.N1.txt\n",
      "f13715|\u001b[1;32mOK\u001b[0m  |        n/a|participant-a/MER_FRS_1PPEPA20020819_092735_000005092008_00394_02452_1273.N1.txt\n",
      "053376|\u001b[1;32mOK\u001b[0m  |        n/a|participant-a/MER_FRS_1PPEPA20021213_203634_000001072012_00057_04119_1839.N1.txt\n",
      "250360|\u001b[1;32mOK\u001b[0m  |    11KiB/s|participant-a/MER_FRS_1PPEPA20021210_203056_000001072012_00014_04076_1811.N1.txt\n",
      "3b3696|\u001b[1;32mOK\u001b[0m  |        n/a|participant-a/MER_FRS_1PPEPA20021108_203637_000001072011_00057_03618_1637.N1.txt\n",
      "687224|\u001b[1;32mOK\u001b[0m  |        n/a|participant-a/MER_FRS_1PPEPA20021219_204805_000000922012_00143_04205_1894.N1.txt\n",
      "f1010d|\u001b[1;32mOK\u001b[0m  |        n/a|participant-a/MER_FRS_1PPEPA20030117_203635_000001072013_00057_04620_2153.N1.txt\n",
      "85bbf4|\u001b[1;32mOK\u001b[0m  |        n/a|participant-a/MER_FRS_1PPEPA20030202_203345_000001212013_00286_04849_2336.N1.txt\n",
      "8795cb|\u001b[1;32mOK\u001b[0m  |        n/a|participant-a/MER_FRS_1PPEPA20030306_202752_000001942014_00243_05307_2670.N1.txt\n",
      "1bea15|\u001b[1;32mOK\u001b[0m  |        n/a|participant-a/MER_FRS_1PPEPA20030507_092912_000004732016_00122_06188_3417.N1.txt\n",
      "2ffdb6|\u001b[1;32mOK\u001b[0m  |        n/a|participant-a/MER_FRS_1PPEPA20030205_203925_000001092013_00329_04892_2366.N1.txt\n",
      "b4343b|\u001b[1;32mOK\u001b[0m  |        n/a|participant-a/MER_FRS_1PPEPA20030218_203054_000001072014_00014_05078_2497.N1.txt\n",
      "20b1e1|\u001b[1;32mOK\u001b[0m  |        n/a|participant-a/MER_FRS_1PPEPA20030501_091752_000004782016_00036_06102_3361.N1.txt\n",
      "d788c0|\u001b[1;32mOK\u001b[0m  |        n/a|participant-a/MER_FRS_1PPEPA20030812_203105_000001072019_00014_07583_5397.N1.txt\n",
      "cf0c49|\u001b[1;32mOK\u001b[0m  |        n/a|participant-a/MER_FRS_1PPEPA20030902_091613_000003152019_00308_07877_5948.N1.txt\n",
      "2a4630|\u001b[1;32mOK\u001b[0m  |        n/a|participant-a/MER_FRS_1PPEPA20030916_203107_000001072020_00014_08084_6243.N1.txt\n",
      "20e8be|\u001b[1;32mOK\u001b[0m  |        n/a|participant-a/MER_FRS_1PPEPA20030926_100439_000001942020_00151_08221_6522.N1.txt\n",
      "58c0b6|\u001b[1;32mOK\u001b[0m  |        n/a|participant-a/MER_FRS_1PPEPA20030526_093145_000001972016_00394_06460_3564.N1.txt\n",
      "35d7f0|\u001b[1;32mOK\u001b[0m  |        n/a|participant-a/MER_FRS_1PPEPA20031009_095106_000005092020_00337_08407_6925.N1.txt\n",
      "18745e|\u001b[1;32mOK\u001b[0m  |        n/a|participant-a/MER_FRS_1PPEPA20030930_093340_000005092020_00208_08278_6654.N1.txt\n",
      "4a0c2b|\u001b[1;32mOK\u001b[0m  |        n/a|participant-a/MER_FRS_1PPEPA20031010_092150_000005122020_00351_08421_6960.N1.txt\n",
      "8bd691|\u001b[1;32mOK\u001b[0m  |        n/a|participant-a/MER_FRS_1PPEPA20031016_093556_000001682020_00437_08507_7084.N1.txt\n",
      "f1fcac|\u001b[1;32mOK\u001b[0m  |        n/a|participant-a/MER_FRS_1PPEPA20031005_203355_000001072020_00286_08356_6821.N1.txt\n",
      "ee4cff|\u001b[1;32mOK\u001b[0m  |        n/a|participant-a/MER_FRS_1PPEPA20031019_094140_000001912020_00480_08550_7196.N1.txt\n",
      "6fa010|\u001b[1;32mOK\u001b[0m  |        n/a|participant-a/MER_FRS_1PPEPA20031021_203109_000001012021_00014_08585_7296.N1.txt\n",
      "c474a6|\u001b[1;32mOK\u001b[0m  |        n/a|participant-a/MER_FRS_1PPEPA20031024_203642_000001092021_00057_08628_7392.N1.txt\n",
      "1051d6|\u001b[1;32mOK\u001b[0m  |        n/a|participant-a/MER_FRS_1PPEPA20031028_095603_000003942021_00108_08679_7497.N1.txt\n",
      "cd8952|\u001b[1;32mOK\u001b[0m  |        n/a|participant-a/MER_FRS_1PPEPA20031106_202807_000001292021_00243_08814_7786.N1.txt\n",
      "5eac68|\u001b[1;32mOK\u001b[0m  |        n/a|participant-a/MER_FRS_1PPEPA20031025_095112_000003772021_00065_08636_7413.N1.txt\n",
      "b0d548|\u001b[1;32mOK\u001b[0m  |        n/a|participant-a/MER_FRS_1PPEPA20031109_203351_000001072021_00286_08857_7879.N1.txt\n",
      "cf288b|\u001b[1;32mOK\u001b[0m  |        n/a|participant-a/MER_FRS_1PPEPA20031122_202410_000002302021_00472_09043_7149.N1.txt\n",
      "fdb9f9|\u001b[1;32mOK\u001b[0m  |        n/a|participant-a/MER_FRS_1PPEPA20031128_203643_000001072022_00057_09129_7327.N1.txt\n",
      "ce5ffc|\u001b[1;32mOK\u001b[0m  |        n/a|participant-a/MER_FRS_1PPEPA20031220_204513_000001072022_00372_09444_7913.N1.txt\n",
      "52394c|\u001b[1;32mOK\u001b[0m  |        n/a|participant-a/MER_FRS_1PPEPA20040105_204224_000001072023_00100_09673_8427.N1.txt\n",
      "4ebc1d|\u001b[1;32mOK\u001b[0m  |        n/a|participant-a/MER_FRS_1PPEPA20040131_202511_000001632023_00472_10045_9198.N1.txt\n",
      "a74eb0|\u001b[1;32mOK\u001b[0m  |        n/a|participant-a/MER_FRS_1PPEPA20040203_203100_000001072024_00014_10088_9292.N1.txt\n",
      "f36607|\u001b[1;32mOK\u001b[0m  |        n/a|participant-a/MER_FRS_1PPEPA20040115_202822_000001152023_00243_09816_8725.N1.txt\n",
      "f1e63f|\u001b[1;32mOK\u001b[0m  |        n/a|participant-a/MER_FRS_1PPEPA20040222_203349_000001072024_00286_10360_0001.N1.txt\n",
      "8d7d08|\u001b[1;32mOK\u001b[0m  |        n/a|participant-a/MER_FRS_1PPEPA20040219_202819_000000872024_00243_10317_9795.N1.txt\n",
      "b79e37|\u001b[1;32mOK\u001b[0m  |        n/a|participant-a/MER_FRS_1PPEPA20040309_203102_000001072025_00014_10589_0642.N1.txt\n",
      "d77e7c|\u001b[1;32mOK\u001b[0m  |        n/a|participant-a/MER_FRS_1PPEPA20040312_203643_000001072025_00057_10632_0726.N1.txt\n",
      "c887b7|\u001b[1;32mOK\u001b[0m  |        n/a|participant-a/MER_FRS_1PPEPA20040326_094658_000002562025_00251_10826_1173.N1.txt\n",
      "f6f52d|\u001b[1;32mOK\u001b[0m  |        n/a|participant-a/MER_FRS_1PPEPA20040401_095023_000005122025_00337_10912_1359.N1.txt\n",
      "f8e9f2|\u001b[1;32mOK\u001b[0m  |        n/a|participant-a/MER_FRS_1PPEPA20040407_201731_000002952025_00429_11004_1561.N1.txt\n",
      "4cc6a6|\u001b[1;32mOK\u001b[0m  |        n/a|participant-a/MER_FRS_1PPEPA20040413_203100_000001072026_00014_11090_1759.N1.txt\n",
      "9d8856|\u001b[1;32mOK\u001b[0m  |        n/a|participant-a/MER_FRS_1PPEPA20040316_095357_000005122025_00108_10683_0826.N1.txt\n",
      "678805|\u001b[1;32mOK\u001b[0m  |        n/a|participant-a/MER_FRS_1PPEPA20040518_203112_000000982027_00014_11591_9828.N1.txt\n",
      "73f16d|\u001b[1;32mOK\u001b[0m  |        n/a|participant-a/MER_FRS_1PPEPA20040510_092459_000005122026_00394_11470_9511.N1.txt\n",
      "a82287|\u001b[1;32mOK\u001b[0m  |        n/a|participant-a/MER_FRS_1PPEPA20040520_091049_000005122027_00036_11613_9887.N1.txt\n",
      "7d1ea0|\u001b[1;32mOK\u001b[0m  |        n/a|participant-a/MER_FRS_1PPEPA20040604_094657_000002502027_00251_11828_0550.N1.txt\n",
      "17596c|\u001b[1;32mOK\u001b[0m  |        n/a|participant-a/MER_FRS_1PPEPA20040513_093321_000005122026_00437_11513_9619.N1.txt\n",
      "4d4592|\u001b[1;32mOK\u001b[0m  |        n/a|participant-a/MER_FRS_1PPEPA20040529_092756_000005122027_00165_11742_0329.N1.txt\n",
      "ab7088|\u001b[1;32mOK\u001b[0m  |        n/a|participant-a/MER_FRS_1PPEPA20040617_093325_000005122027_00437_12014_1047.N1.txt\n",
      "f6bd29|\u001b[1;32mOK\u001b[0m  |        n/a|participant-a/MER_FRS_1PPEPA20040703_093157_000004582028_00165_12243_1569.N1.txt\n",
      "5552aa|\u001b[1;32mOK\u001b[0m  |        n/a|participant-a/MER_FRS_1PPEPA20040711_203249_000002422028_00286_12364_1811.N1.txt\n",
      "a4dda0|\u001b[1;32mOK\u001b[0m  |   1.0MiB/s|participant-a/MER_FRS_1PPEPA20040712_094749_000005122028_00294_12372_1824.N1.txt\n",
      "749ca2|\u001b[1;32mOK\u001b[0m  |        n/a|participant-a/MER_FRS_1PPEPA20040708_202627_000002422028_00243_12321_1725.N1.txt\n",
      "6fdd33|\u001b[1;32mOK\u001b[0m  |        n/a|participant-a/MER_FRS_1PPEPA20040729_091811_000004872029_00036_12615_2385.N1.txt\n",
      "ce4e1a|\u001b[1;32mOK\u001b[0m  |        n/a|participant-a/MER_FRS_1PPEPA20040807_093033_000005122029_00165_12744_2674.N1.txt\n",
      "3875da|\u001b[1;32mOK\u001b[0m  |        n/a|participant-a/MER_FRS_1PPEPA20040817_091841_000005122029_00308_12887_3012.N1.txt\n",
      "ff46b6|\u001b[1;32mOK\u001b[0m  |        n/a|participant-a/MER_FRS_1PPEPA20040727_203043_000001632029_00014_12593_2338.N1.txt\n",
      "2169a2|\u001b[1;32mOK\u001b[0m  |        n/a|participant-a/MER_FRS_1PPEPA20040823_092953_000004052029_00394_12973_3252.N1.txt\n",
      "11a2cb|\u001b[1;32mOK\u001b[0m  |        n/a|participant-a/MER_FRS_1PPEPA20040820_092402_000004392029_00351_12930_3133.N1.txt\n",
      "2041a2|\u001b[1;32mOK\u001b[0m  |        n/a|participant-a/MER_FRS_1PPEPA20040829_094236_000004922029_00480_13059_3460.N1.txt\n",
      "825f5d|\u001b[1;32mOK\u001b[0m  |        n/a|participant-a/MER_FRS_1PPEPA20040901_094447_000005122030_00022_13102_3574.N1.txt\n",
      "7d3d66|\u001b[1;32mOK\u001b[0m  |        n/a|participant-a/MER_FRS_1PPEPA20040917_094404_000004612030_00251_13331_4171.N1.txt\n",
      "49dc95|\u001b[1;32mOK\u001b[0m  |        n/a|participant-a/MER_FRS_1PPEPA20040908_092440_000005122030_00122_13202_3869.N1.txt\n",
      "40f63a|\u001b[1;32mOK\u001b[0m  |        n/a|participant-a/MER_FRS_1PPEPA20040916_202533_000003432030_00243_13323_4153.N1.txt\n",
      "8a9bb3|\u001b[1;32mOK\u001b[0m  |        n/a|participant-a/MER_FRS_1PPEPA20040920_094906_000005122030_00294_13374_4278.N1.txt\n",
      "eba439|\u001b[1;32mOK\u001b[0m  |        n/a|participant-a/MER_FRS_1PPEPA20040926_095854_000005122030_00380_13460_4482.N1.txt\n",
      "0e2a5b|\u001b[1;32mOK\u001b[0m  |        n/a|participant-a/MER_FRS_1PPEPA20040923_095301_000005122030_00337_13417_4382.N1.txt\n",
      "cc04c9|\u001b[1;32mOK\u001b[0m  |        n/a|participant-a/MER_FRS_1PPEPA20040930_093322_000005122030_00437_13517_4621.N1.txt\n",
      "32bd6c|\u001b[1;32mOK\u001b[0m  |        n/a|participant-a/MER_FRS_1PPEPA20040927_092739_000005122030_00394_13474_4517.N1.txt\n",
      "0fdea6|\u001b[1;32mOK\u001b[0m  |        n/a|participant-a/MER_FRS_1PPEPA20041214_203100_000001072033_00014_14597_0279.N1.txt\n",
      "733c00|\u001b[1;32mOK\u001b[0m  |        n/a|participant-a/MER_FRS_1PPEPA20041005_202901_000003822031_00014_13595_4819.N1.txt\n",
      "00642d|\u001b[1;32mOK\u001b[0m  |        n/a|participant-a/MER_FRS_1PPEPA20041217_203640_000001072033_00057_14640_0388.N1.txt\n",
      "1445c8|\u001b[1;32mOK\u001b[0m  |        n/a|participant-a/MER_FRS_1PPEPA20050105_203927_000001072033_00329_14912_1000.N1.txt\n",
      "35451a|\u001b[1;32mOK\u001b[0m  |        n/a|participant-a/MER_FRS_1PPEPA20050121_203641_000001072034_00057_15141_1518.N1.txt\n",
      "e44fe7|\u001b[1;32mOK\u001b[0m  |        n/a|participant-a/MER_FRS_1PPEPA20050301_095603_000005122035_00108_15693_2701.N1.txt\n",
      "bbfb58|\u001b[1;32mOK\u001b[0m  |        n/a|participant-a/MER_FRS_1PPEPA20050222_203005_000002052035_00014_15599_2470.N1.txt\n",
      "3714fc|\u001b[1;32mOK\u001b[0m  |        n/a|participant-a/MER_FRS_1PPEPA20050124_204051_000003292034_00100_15184_1621.N1.txt\n",
      "3d9a25|\u001b[1;32mOK\u001b[0m  |        n/a|participant-a/MER_FRS_1PPEPA20050305_093415_000005122035_00165_15750_2848.N1.txt\n",
      "5e7959|\u001b[1;32mOK\u001b[0m  |        n/a|participant-a/MER_FRS_1PPEPA20050302_092830_000005122035_00122_15707_2742.N1.txt\n",
      "00c07b|\u001b[1;32mOK\u001b[0m  |        n/a|participant-a/MER_FRS_1PPEPA20050320_100028_000005122035_00380_15965_3408.N1.txt\n",
      "a19632|\u001b[1;32mOK\u001b[0m  |        n/a|participant-a/MER_FRS_1PPEPA20050331_091540_000005122036_00036_16122_3804.N1.txt\n",
      "eb76f1|\u001b[1;32mOK\u001b[0m  |        n/a|participant-a/MER_FRS_1PPEPA20050403_092122_000005122036_00079_16165_3907.N1.txt\n",
      "89a584|\u001b[1;32mOK\u001b[0m  |        n/a|participant-a/MER_FRS_1PPEPA20050409_093032_000005122036_00165_16251_4134.N1.txt\n",
      "dccf81|\u001b[1;32mOK\u001b[0m  |        n/a|participant-a/MER_FRS_1PPEPA20050414_202329_000005122036_00243_16329_4333.N1.txt\n",
      "0269f3|\u001b[1;32mOK\u001b[0m  |        n/a|participant-a/MER_FRS_1PPEPA20050417_203404_000000982036_00286_16372_4443.N1.txt\n",
      "b507b2|\u001b[1;32mOK\u001b[0m  |        n/a|participant-a/MER_FRS_1PPEPA20050503_203025_000001882037_00014_16601_5081.N1.txt\n",
      "2f4ffd|\u001b[1;32mOK\u001b[0m  |        n/a|participant-a/MER_FRS_1PPEPA20050422_092151_000005122036_00351_16437_4615.N1.txt\n",
      "4f6b83|\u001b[1;32mOK\u001b[0m  |        n/a|participant-a/MER_FRS_1PPEPA20050415_094158_000005122036_00251_16337_4358.N1.txt\n",
      "b531fa|\u001b[1;32mOK\u001b[0m  |        n/a|participant-a/MER_FRS_1PPEPA20050504_094915_000003542037_00022_16609_5110.N1.txt\n",
      "7eb79f|\u001b[1;32mOK\u001b[0m  |        n/a|participant-a/MER_FRS_1PPEPA20050517_093618_000005122037_00208_16795_5716.N1.txt\n",
      "3426b6|\u001b[1;32mOK\u001b[0m  |        n/a|participant-a/MER_FRS_1PPEPA20050712_203115_000001012039_00014_17603_8550.N1.txt\n",
      "c7ce15|\u001b[1;32mOK\u001b[0m  |        n/a|participant-a/MER_FRS_1PPEPA20050527_092151_000005122037_00351_16938_6270.N1.txt\n",
      "317980|\u001b[1;32mOK\u001b[0m  |        n/a|participant-a/MER_FRS_1PPEPA20050713_094704_000005122039_00022_17611_8572.N1.txt\n",
      "43ec6d|\u001b[1;32mOK\u001b[0m  |        n/a|participant-a/MER_FRS_1PPEPA20050801_094739_000005122039_00294_17883_9419.N1.txt\n",
      "395dd4|\u001b[1;32mOK\u001b[0m  |        n/a|participant-a/MER_FRS_1PPEPA20050723_093250_000005122039_00165_17754_9008.N1.txt\n",
      "601594|\u001b[1;32mOK\u001b[0m  |        n/a|participant-a/MER_FRS_1PPEPA20050726_093618_000005122039_00208_17797_9137.N1.txt\n",
      "9c739c|\u001b[1;32mOK\u001b[0m  |        n/a|participant-a/MER_FRS_1PPEPA20050808_092742_000005122039_00394_17983_9731.N1.txt\n",
      "8abc63|\u001b[1;32mOK\u001b[0m  |        n/a|participant-a/MER_FRS_1PPEPA20050814_093905_000005122039_00480_18069_0123.N1.txt\n",
      "4b1e51|\u001b[1;32mOK\u001b[0m  |        n/a|participant-a/MER_FRS_1PPEPA20050817_094659_000005122040_00022_18112_0300.N1.txt\n",
      "d63942|\u001b[1;32mOK\u001b[0m  |        n/a|participant-a/MER_FRS_1PPEPA20050816_202835_000003742040_00014_18104_0272.N1.txt\n",
      "822132|\u001b[1;32mOK\u001b[0m  |        n/a|participant-a/MER_FRS_1PPEPA20050830_094049_000005122040_00208_18298_0922.N1.txt\n",
      "d12eab|\u001b[1;32mOK\u001b[0m  |        n/a|participant-a/MER_FRS_1PPEPA20050904_203316_000001852040_00286_18376_1201.N1.txt\n",
      "e54be3|\u001b[1;32mOK\u001b[0m  |        n/a|participant-a/MER_FRS_1PPEPA20050923_102052_000005122041_00051_18642_2065.N1.txt\n",
      "0ae926|\u001b[1;32mOK\u001b[0m  |        n/a|participant-a/MER_FRS_1PPEPA20050920_203110_000001012041_00014_18605_1933.N1.txt\n",
      "532c36|\u001b[1;32mOK\u001b[0m  |        n/a|participant-a/MER_FRS_1PPEPA20050912_092741_000005122040_00394_18484_1546.N1.txt\n",
      "1d3cde|\u001b[1;32mOK\u001b[0m  |        n/a|participant-a/MER_FRS_1PPEPA20050923_203423_000003742041_00057_18648_2085.N1.txt\n",
      "10b245|\u001b[1;32mOK\u001b[0m  |        n/a|participant-a/MER_FRS_1PPEPA20050924_095027_000005122041_00065_18656_2160.N1.txt\n",
      "04e715|\u001b[1;32mOK\u001b[0m  |        n/a|participant-a/MER_FRS_1PPEPA20051009_101801_000005122041_00280_18871_2916.N1.txt\n",
      "83cfdf|\u001b[1;32mOK\u001b[0m  |        n/a|participant-a/MER_FRS_1PPEPA20050930_100211_000005122041_00151_18742_2459.N1.txt\n",
      "259494|\u001b[1;32mOK\u001b[0m  |        n/a|participant-a/MER_FRS_1PPEPA20051001_093033_000005122041_00165_18756_2516.N1.txt\n",
      "7525ef|\u001b[1;32mOK\u001b[0m  |        n/a|participant-a/MER_FRS_1PPEPA20051013_095317_000005122041_00337_18928_3110.N1.txt\n",
      "911a04|\u001b[1;32mOK\u001b[0m  |        n/a|participant-a/MER_FRS_1PPEPA20051016_100347_000003372041_00380_18971_3257.N1.txt\n",
      "e17768|\u001b[1;32mOK\u001b[0m  |        n/a|participant-a/MER_FRS_1PPEPA20051010_094737_000005122041_00294_18885_2974.N1.txt\n",
      "6ec911|\u001b[1;32mOK\u001b[0m  |        n/a|participant-a/MER_FRS_1PPEPA20051025_101511_000005122042_00008_19100_4957.N1.txt\n",
      "d07d3d|\u001b[1;32mOK\u001b[0m  |        n/a|participant-a/MER_FRS_1PPEPA20051026_095008_000004082042_00022_19114_4975.N1.txt\n",
      "6aab75|\u001b[1;32mOK\u001b[0m  |        n/a|participant-a/MER_FRS_1PPEPA20051028_102303_000005122042_00051_19143_4419.N1.txt\n",
      "bd526d|\u001b[1;32mOK\u001b[0m  |        n/a|participant-a/MER_FRS_1PPEPA20051025_203105_000001072042_00014_19106_4296.N1.txt\n",
      "4a76be|\u001b[1;32mOK\u001b[0m  |        n/a|participant-a/MER_FRS_1PPEPA20051029_095046_000005122042_00065_19157_5021.N1.txt\n",
      "faff1d|\u001b[1;32mOK\u001b[0m  |        n/a|participant-a/MER_FRS_1PPEPA20051110_202625_000002672042_00243_19335_5183.N1.txt\n",
      "3bdb47|\u001b[1;32mOK\u001b[0m  |        n/a|participant-a/MER_FRS_1PPEPA20060315_094754_000005122046_00022_21118_3808.N1.txt\n",
      "9ecece|\u001b[1;32mOK\u001b[0m  |        n/a|participant-a/MER_FRS_1PPEPA20051113_203112_000004392042_00286_19378_5298.N1.txt\n",
      "cba8fb|\u001b[1;32mOK\u001b[0m  |        n/a|participant-a/MER_FRS_1PPEPA20051202_203640_000001072043_00057_19650_5996.N1.txt\n",
      "05a53f|\u001b[1;32mOK\u001b[0m  |        n/a|participant-a/MER_FRS_1PPEPA20060302_095308_000005122045_00337_20932_3222.N1.txt\n",
      "c26e50|\u001b[1;32mOK\u001b[0m  |        n/a|participant-a/MER_FRS_1PPEPA20060402_202936_000004362046_00286_21382_4581.N1.txt\n",
      "ad5139|\u001b[1;32mOK\u001b[0m  |        n/a|participant-a/MER_FRS_1PPEPA20060418_203055_000001092047_00014_21611_5157.N1.txt\n",
      "185039|\u001b[1;32mOK\u001b[0m  |        n/a|participant-a/MER_FRS_1PPEPA20060404_091924_000005122046_00308_21404_4654.N1.txt\n",
      "f453cf|\u001b[1;32mOK\u001b[0m  |        n/a|participant-a/MER_FRS_1PPEPA20060429_093226_000005122047_00165_21762_5636.N1.txt\n",
      "ec0ee9|\u001b[1;32mOK\u001b[0m  |        n/a|participant-a/MER_FRS_1PPEPA20060423_092057_000005122047_00079_21676_5348.N1.txt\n",
      "56031d|\u001b[1;32mOK\u001b[0m  |        n/a|participant-a/MER_FRS_1PPEPA20060505_094356_000005122047_00251_21848_5913.N1.txt\n",
      "aa80bb|\u001b[1;32mOK\u001b[0m  |        n/a|participant-a/MER_FRS_1PPEPA20060515_092934_000005122047_00394_21991_6430.N1.txt\n",
      "5f7061|\u001b[1;32mOK\u001b[0m  |        n/a|participant-a/MER_FRS_1PPEPA20060523_203059_000001072048_00014_22112_6827.N1.txt\n",
      "26baf5|\u001b[1;32mOK\u001b[0m  |        n/a|participant-a/MER_FRS_1PPEPA20060524_094759_000005122048_00022_22120_6854.N1.txt\n",
      "964e82|\u001b[1;32mOK\u001b[0m  |        n/a|participant-a/MER_FRS_1PPEPA20060606_093813_000005122048_00208_22306_7998.N1.txt\n",
      "76dbf8|\u001b[1;32mOK\u001b[0m  |        n/a|participant-a/MER_FRS_1PPEPA20060609_094358_000005122048_00251_22349_8135.N1.txt\n",
      "9314fc|\u001b[1;32mOK\u001b[0m  |        n/a|participant-a/MER_FRS_1PPEPA20060603_093344_000005122048_00165_22263_7837.N1.txt\n",
      "ccf339|\u001b[1;32mOK\u001b[0m  |        n/a|participant-a/MER_FRS_1PPEPA20060611_203403_000000952048_00286_22384_8242.N1.txt\n",
      "8080c9|\u001b[1;32mOK\u001b[0m  |        n/a|participant-a/MER_FRS_1PPEPA20060711_094625_000005122049_00208_22807_9559.N1.txt\n",
      "7ca05e|\u001b[1;32mOK\u001b[0m  |        n/a|participant-a/MER_FRS_1PPEPA20060716_203313_000001942049_00286_22885_9820.N1.txt\n",
      "54c909|\u001b[1;32mOK\u001b[0m  |        n/a|participant-a/MER_FRS_1PPEPA20060708_093536_000004422049_00165_22764_9421.N1.txt\n",
      "e6343b|\u001b[1;32mOK\u001b[0m  |        n/a|participant-a/MER_FRS_1PPEPA20060714_094403_000005122049_00251_22850_9709.N1.txt\n",
      "c2960b|\u001b[1;32mOK\u001b[0m  |        n/a|participant-a/MER_FRS_1PPEPA20060801_203112_000001012050_00014_23114_0720.N1.txt\n",
      "b9e82a|\u001b[1;32mOK\u001b[0m  |        n/a|participant-a/MER_FRS_1PPEPA20060727_093526_000005122049_00437_23036_0444.N1.txt\n",
      "b94bbf|\u001b[1;32mOK\u001b[0m  |        n/a|participant-a/MER_FRS_1PPEPA20060730_094111_000005122049_00480_23079_0599.N1.txt\n",
      "4337fb|\u001b[1;32mOK\u001b[0m  |        n/a|participant-a/MER_FRS_1PPEPA20060805_095240_000005122050_00065_23165_0894.N1.txt\n",
      "f2486b|\u001b[1;32mOK\u001b[0m  |        n/a|participant-a/MER_FRS_1PPEPA20060818_094514_000005122050_00251_23351_1472.N1.txt\n",
      "5a0584|\u001b[1;32mOK\u001b[0m  |        n/a|participant-a/MER_FRS_1PPEPA20060831_093522_000005122050_00437_23537_2074.N1.txt\n",
      "fdf944|\u001b[1;32mOK\u001b[0m  |        n/a|participant-a/MER_FRS_1PPEPA20060905_203015_000001992051_00014_23615_2327.N1.txt\n",
      "3b1c85|\u001b[1;32mOK\u001b[0m  |        n/a|participant-a/MER_FRS_1PPEPA20060913_092641_000005122051_00122_23723_2520.N1.txt\n",
      "e4e733|\u001b[1;32mOK\u001b[0m  |        n/a|participant-a/MER_FRS_1PPEPA20060821_094946_000005122050_00294_23394_1608.N1.txt\n",
      "4cc575|\u001b[1;32mOK\u001b[0m  |        n/a|participant-a/MER_FRS_1PPEPA20060906_094801_000005122051_00022_23623_2354.N1.txt\n",
      "a81209|\u001b[1;32mOK\u001b[0m  |        n/a|participant-a/MER_FRS_1PPEPA20060922_094152_000005122051_00251_23852_2937.N1.txt\n",
      "5ed667|\u001b[1;32mOK\u001b[0m  |        n/a|participant-a/MER_FRS_1PPEPA20060924_203404_000000922051_00286_23887_3037.N1.txt\n",
      "6d6851|\u001b[1;32mOK\u001b[0m  |   767KiB/s|participant-a/MER_FRS_1PPEPA20061010_101834_000005062052_00008_24110_3417.N1.txt\n",
      "26f05f|\u001b[1;32mOK\u001b[0m  |        n/a|participant-a/MER_FRS_1PPEPA20061008_093905_000005122051_00480_24081_3357.N1.txt\n",
      "646bda|\u001b[1;32mOK\u001b[0m  |        n/a|participant-a/MER_FRS_1PPEPA20061010_203102_000001072052_00014_24116_3427.N1.txt\n",
      "78d569|\u001b[1;32mOK\u001b[0m  |        n/a|participant-a/MER_FRS_1PPEPA20061013_102417_000004892052_00051_24153_3505.N1.txt\n",
      "dbc318|\u001b[1;32mOK\u001b[0m  |        n/a|participant-a/MER_FRS_1PPEPA20061017_095606_000005122052_00108_24210_3613.N1.txt\n",
      "e600c5|\u001b[1;32mOK\u001b[0m  |        n/a|participant-a/MER_FRS_1PPEPA20061011_094804_000005122052_00022_24124_3437.N1.txt\n",
      "597086|\u001b[1;32mOK\u001b[0m  |        n/a|participant-a/MER_FRS_1PPEPA20061013_203643_000001072052_00057_24159_3517.N1.txt\n",
      "c6fa15|\u001b[1;32mOK\u001b[0m  |        n/a|participant-a/MER_FRS_1PPEPA20061117_203642_000001072053_00057_24660_4975.N1.txt\n",
      "70c9ff|\u001b[1;32mOK\u001b[0m  |        n/a|participant-a/MER_FRS_1PPEPA20061130_202641_000002752053_00243_24846_5486.N1.txt\n",
      "1e61d4|\u001b[1;32mOK\u001b[0m  |        n/a|participant-a/MER_FRS_1PPEPA20061225_204222_000001072054_00100_25204_6466.N1.txt\n",
      "4d8b85|\u001b[1;32mOK\u001b[0m  |        n/a|participant-a/MER_FRS_1PPEPA20070218_100151_000005092055_00380_25985_2024.N1.txt\n",
      "f691e3|\u001b[1;32mOK\u001b[0m  |        n/a|participant-a/MER_FRS_1PPEPA20070227_101502_000005092056_00008_26114_2448.N1.txt\n",
      "4855b0|\u001b[1;32mOK\u001b[0m  |        n/a|participant-a/MER_FRS_1PPEPA20061219_203101_000001072054_00014_25118_6179.N1.txt\n",
      "6e6c06|\u001b[1;32mOK\u001b[0m  |        n/a|participant-a/MER_FRS_1PPEPA20070303_095314_000005092056_00065_26171_2656.N1.txt\n",
      "692391|\u001b[1;32mOK\u001b[0m  |        n/a|participant-a/MER_FRS_1PPEPA20070309_100525_000005092056_00151_26257_2947.N1.txt\n",
      "9d3e76|\u001b[1;32mOK\u001b[0m  |        n/a|participant-a/MER_FRS_1PPEPA20070312_101110_000005122056_00194_26300_3098.N1.txt\n",
      "051614|\u001b[1;32mOK\u001b[0m  |        n/a|participant-a/MER_FRS_1PPEPA20070323_092142_000005122056_00351_26457_3671.N1.txt\n",
      "6828cd|\u001b[1;32mOK\u001b[0m  |        n/a|participant-a/MER_FRS_1PPEPA20070322_095647_000005122056_00337_26443_3628.N1.txt\n",
      "f5e647|\u001b[1;32mOK\u001b[0m  |        n/a|participant-a/MER_FRS_1PPEPA20070313_093932_000005092056_00208_26314_3149.N1.txt\n",
      "ec4a4d|\u001b[1;32mOK\u001b[0m  |        n/a|participant-a/MER_FRS_1PPEPA20070404_094657_000004872057_00022_26629_5268.N1.txt\n",
      "93e764|\u001b[1;32mOK\u001b[0m  |        n/a|participant-a/MER_FRS_1PPEPA20070326_093039_000005122056_00394_26500_3805.N1.txt\n",
      "d84bee|\u001b[1;32mOK\u001b[0m  |        n/a|participant-a/MER_FRS_1PPEPA20070403_202959_000001882057_00014_26621_5241.N1.txt\n",
      "7a42e8|\u001b[1;32mOK\u001b[0m  |        n/a|participant-a/MER_FRS_1PPEPA20070406_203553_000001882057_00057_26664_5373.N1.txt\n",
      "c9ff8e|\u001b[1;32mOK\u001b[0m  |        n/a|participant-a/MER_FRS_1PPEPA20070329_093633_000005122056_00437_26543_3960.N1.txt\n",
      "cd70b9|\u001b[1;32mOK\u001b[0m  |        n/a|participant-a/MER_FRS_1PPEPA20070506_093849_000005122057_00480_27087_5347.N1.txt\n",
      "6c7e09|\u001b[1;32mOK\u001b[0m  |        n/a|participant-a/MER_FRS_1PPEPA20070414_093014_000005122057_00165_26772_4325.N1.txt\n",
      "39576d|\u001b[1;32mOK\u001b[0m  |        n/a|participant-a/MER_FRS_1PPEPA20070407_095344_000005092057_00065_26672_5403.N1.txt\n",
      "5259f1|\u001b[1;32mOK\u001b[0m  |        n/a|participant-a/MER_FRS_1PPEPA20070420_094509_000005092057_00251_26858_4597.N1.txt\n",
      "1115ac|\u001b[1;32mOK\u001b[0m  |        n/a|participant-a/MER_FRS_1PPEPA20070509_094523_000005092058_00022_27130_5490.N1.txt\n",
      "3ecebd|\u001b[1;32mOK\u001b[0m  |        n/a|participant-a/MER_FRS_1PPEPA20070417_093924_000005122057_00208_26815_4467.N1.txt\n",
      "6e11b6|\u001b[1;32mOK\u001b[0m  |        n/a|participant-a/MER_FRS_1PPEPA20070513_092136_000005092058_00079_27187_5694.N1.txt\n",
      "2890e8|\u001b[1;32mOK\u001b[0m  |        n/a|participant-a/MER_FRS_1PPEPA20070516_092515_000005092058_00122_27230_5826.N1.txt\n",
      "ff8615|\u001b[1;32mOK\u001b[0m  |        n/a|participant-a/MER_FRS_1PPEPA20070612_203056_000001122059_00014_27623_7142.N1.txt\n",
      "f3b4f0|\u001b[1;32mOK\u001b[0m  |        n/a|participant-a/MER_FRS_1PPEPA20070519_093101_000005092058_00165_27273_5971.N1.txt\n",
      "b7a7a0|\u001b[1;32mOK\u001b[0m  |        n/a|participant-a/MER_FRS_1PPEPA20070613_094525_000005092059_00022_27631_7173.N1.txt\n",
      "e393f3|\u001b[1;32mOK\u001b[0m  |        n/a|participant-a/MER_FRS_1PPEPA20070623_093019_000005122059_00165_27774_7652.N1.txt\n",
      "ccd27d|\u001b[1;32mOK\u001b[0m  |        n/a|participant-a/MER_FRS_1PPEPA20070701_203347_000001122059_00286_27895_8046.N1.txt\n",
      "4fa4e8|\u001b[1;32mOK\u001b[0m  |        n/a|participant-a/MER_FRS_1PPEPA20070629_094233_000005092059_00251_27860_7936.N1.txt\n",
      "864869|\u001b[1;32mOK\u001b[0m  |        n/a|participant-a/MER_FRS_1PPEPA20070715_094121_000005092059_00480_28089_8694.N1.txt\n",
      "d2becf|\u001b[1;32mOK\u001b[0m  |        n/a|participant-a/MER_FRS_1PPEPA20070709_092811_000005122059_00394_28003_8412.N1.txt\n",
      "395a42|\u001b[1;32mOK\u001b[0m  |        n/a|participant-a/MER_FRS_1PPEPA20070728_093104_000005122060_00165_28275_9290.N1.txt\n",
      "dc640a|\u001b[1;32mOK\u001b[0m  |        n/a|participant-a/MER_FRS_1PPEPA20070718_094526_000005122060_00022_28132_8817.N1.txt\n",
      "e01910|\u001b[1;32mOK\u001b[0m  |        n/a|participant-a/MER_FRS_1PPEPA20070803_094234_000005122060_00251_28361_9572.N1.txt\n",
      "95fd9e|\u001b[1;32mOK\u001b[0m  |        n/a|participant-a/MER_FRS_1PPEPA20070813_092811_000005092060_00394_28504_0027.N1.txt\n",
      "346ab0|\u001b[1;32mOK\u001b[0m  |        n/a|participant-a/MER_FRS_1PPEPA20070806_094818_000005092060_00294_28404_9716.N1.txt\n",
      "c7676d|\u001b[1;32mOK\u001b[0m  |        n/a|participant-a/MER_FRS_1PPEPA20070904_093647_000005122061_00208_28819_1042.N1.txt\n",
      "8528bd|\u001b[1;32mOK\u001b[0m  |        n/a|participant-a/MER_FRS_1PPEPA20070816_093356_000005122060_00437_28547_0161.N1.txt\n",
      "cb2e34|\u001b[1;32mOK\u001b[0m  |        n/a|participant-a/MER_FRS_1PPEPA20070901_093018_000005122061_00165_28776_0901.N1.txt\n",
      "7d5fad|\u001b[1;32mOK\u001b[0m  |        n/a|participant-a/MER_FRS_1PPEPA20070911_091639_000005122061_00308_28919_1316.N1.txt\n",
      "8b852e|\u001b[1;32mOK\u001b[0m  |        n/a|participant-a/MER_FRS_1PPEPA20070910_094815_000005122061_00294_28905_1273.N1.txt\n",
      "2464fe|\u001b[1;32mOK\u001b[0m  |        n/a|participant-a/MER_FRS_1PPEPA20070917_092807_000005092061_00394_29005_1585.N1.txt\n",
      "af4c97|\u001b[1;32mOK\u001b[0m  |        n/a|participant-a/MER_FRS_1PPEPA20070920_093351_000005092061_00437_29048_1724.N1.txt\n",
      "f67438|\u001b[1;32mOK\u001b[0m  |        n/a|participant-a/MER_FRS_1PPEPA20071002_095650_000005122062_00108_29220_2136.N1.txt\n",
      "4ec225|\u001b[1;32mOK\u001b[0m  |        n/a|participant-a/MER_FRS_1PPEPA20071009_093828_000005092062_00208_29320_2456.N1.txt\n",
      "ceea3c|\u001b[1;32mOK\u001b[0m  |        n/a|participant-a/MER_FRS_1PPEPA20071008_100821_000005122062_00194_29306_2403.N1.txt\n",
      "01403d|\u001b[1;32mOK\u001b[0m  |        n/a|participant-a/MER_FRS_1PPEPA20071003_092513_000005122062_00122_29234_2177.N1.txt\n",
      "298243|\u001b[1;32mOK\u001b[0m  |        n/a|participant-a/MER_FRS_1PPEPA20071015_094814_000005122062_00294_29406_2728.N1.txt\n",
      "338e89|\u001b[1;32mOK\u001b[0m  |        n/a|participant-a/MER_FRS_1PPEPA20071012_094229_000005092062_00251_29363_2599.N1.txt\n",
      "8cc26c|\u001b[1;32mOK\u001b[0m  |        n/a|participant-a/MER_FRS_1PPEPA20071016_091637_000005122062_00308_29420_2781.N1.txt\n",
      "c3d625|\u001b[1;32mOK\u001b[0m  |        n/a|participant-a/MER_FRS_1PPEPA20071021_095943_000005092062_00380_29492_3000.N1.txt\n",
      "af6e79|\u001b[1;32mOK\u001b[0m  |        n/a|participant-a/MER_FRS_1PPEPA20071018_095358_000005092062_00337_29449_2865.N1.txt\n",
      "8f2bf6|\u001b[1;32mOK\u001b[0m  |        n/a|participant-a/MER_FRS_1PPEPA20071022_092701_000005122062_00394_29506_3037.N1.txt\n",
      "38c5c3|\u001b[1;32mOK\u001b[0m  |        n/a|participant-a/MER_FRS_1PPEPA20071102_102135_000005122063_00051_29664_3490.N1.txt\n",
      "bd22a0|\u001b[1;32mOK\u001b[0m  |        n/a|participant-a/MER_FRS_1PPEPA20071102_203551_000002022063_00057_29670_3503.N1.txt\n",
      "cc0216|\u001b[1;32mOK\u001b[0m  |        n/a|participant-a/MER_FRS_1PPEPA20071030_203051_000001122063_00014_29627_3379.N1.txt\n",
      "24429a|\u001b[1;32mOK\u001b[0m  |        n/a|participant-a/MER_FRS_1PPEPA20080414_092952_000005122067_00394_32011_6846.N1.txt\n",
      "14a9d9|\u001b[1;32mOK\u001b[0m  |        n/a|participant-a/MER_FRS_1PPEPA20080319_094410_000005122067_00022_31639_5843.N1.txt\n",
      "c4ffab|\u001b[1;32mOK\u001b[0m  |        n/a|participant-a/MER_FRS_1PPEPA20080417_093346_000005122067_00437_32054_6978.N1.txt\n",
      "c3d5e5|\u001b[1;32mOK\u001b[0m  |        n/a|participant-a/MER_FRS_1PPEPA20080427_091923_000005122068_00079_32197_7416.N1.txt\n",
      "270b77|\u001b[1;32mOK\u001b[0m  |        n/a|participant-a/MER_FRS_1PPEPA20080422_203047_000001122068_00014_32132_7220.N1.txt\n",
      "f3a873|\u001b[1;32mOK\u001b[0m  |        n/a|participant-a/MER_FRS_1PPEPA20080615_203341_000001122069_00286_32905_9890.N1.txt\n",
      "a1830f|\u001b[1;32mOK\u001b[0m  |        n/a|participant-a/MER_FRS_1PPEPA20080527_203049_000001122069_00014_32633_8795.N1.txt\n",
      "1d0e13|\u001b[1;32mOK\u001b[0m  |        n/a|participant-a/MER_FRS_1PPEPA20080629_094116_000005122069_00480_33099_0664.N1.txt\n",
      "e96914|\u001b[1;32mOK\u001b[0m  |        n/a|participant-a/MER_FRS_1PPEPA20080712_093243_000005122070_00165_33285_1271.N1.txt\n",
      "ab8121|\u001b[1;32mOK\u001b[0m  |        n/a|participant-a/MER_FRS_1PPEPA20080718_094227_000005122070_00251_33371_1688.N1.txt\n",
      "2b13c5|\u001b[1;32mOK\u001b[0m  |        n/a|participant-a/MER_FRS_1PPEPA20080721_095131_000005122070_00294_33414_1851.N1.txt\n",
      "30c625|\u001b[1;32mOK\u001b[0m  |        n/a|participant-a/MER_FRS_1PPEPA20080702_094519_000005122070_00022_33142_0788.N1.txt\n",
      "1a83f7|\u001b[1;32mOK\u001b[0m  |        n/a|participant-a/MER_FRS_1PPEPA20080803_094116_000005122070_00480_33600_2565.N1.txt\n",
      "e8b193|\u001b[1;32mOK\u001b[0m  |        n/a|participant-a/MER_FRS_1PPEPA20080807_091540_000005152071_00036_33657_2797.N1.txt\n",
      "4245da|\u001b[1;32mOK\u001b[0m  |        n/a|participant-a/MER_FRS_1PPEPA20080816_093242_000005122071_00165_33786_3295.N1.txt\n",
      "0372ce|\u001b[1;32mOK\u001b[0m  |        n/a|participant-a/MER_FRS_1PPEPA20080731_093535_000005122070_00437_33557_2401.N1.txt\n",
      "6e79be|\u001b[1;32mOK\u001b[0m  |        n/a|participant-a/MER_FRS_1PPEPA20080819_093825_000005122071_00208_33829_3469.N1.txt\n",
      "006950|\u001b[1;32mOK\u001b[0m  |        n/a|participant-a/MER_FRS_1PPEPA20080824_203322_000001882071_00286_33907_3752.N1.txt\n",
      "55c8af|\u001b[1;32mOK\u001b[0m  |        n/a|participant-a/MER_FRS_1PPEPA20080910_094515_000005122072_00022_34144_4600.N1.txt\n",
      "7ef288|\u001b[1;32mOK\u001b[0m  |        n/a|participant-a/MER_FRS_1PPEPA20080909_203027_000001882072_00014_34136_4572.N1.txt\n",
      "f5feca|\u001b[1;32mOK\u001b[0m  |        n/a|participant-a/MER_FRS_1PPEPA20080920_093054_000005122072_00165_34287_5089.N1.txt\n",
      "96535b|\u001b[1;32mOK\u001b[0m  |        n/a|participant-a/MER_FRS_1PPEPA20080912_203613_000001882072_00057_34179_4718.N1.txt\n",
      "6ba9e7|\u001b[1;32mOK\u001b[0m  |        n/a|participant-a/MER_FRS_1PPEPA20080922_100816_000005122072_00194_34316_5189.N1.txt\n",
      "14f39f|\u001b[1;32mOK\u001b[0m  |        n/a|participant-a/MER_FRS_1PPEPA20080923_093823_000005122072_00208_34330_5236.N1.txt\n",
      "365cd7|\u001b[1;32mOK\u001b[0m  |        n/a|participant-a/MER_FRS_1PPEPA20080928_102039_000005122072_00280_34402_5515.N1.txt\n",
      "ef42ee|\u001b[1;32mOK\u001b[0m  |        n/a|participant-a/MER_FRS_1PPEPA20080928_203322_000001882072_00286_34408_5540.N1.txt\n",
      "0f4327|\u001b[1;32mOK\u001b[0m  |        n/a|participant-a/MER_FRS_1PPEPA20080929_094949_000005122072_00294_34416_5570.N1.txt\n",
      "e32660|\u001b[1;32mOK\u001b[0m  |        n/a|participant-a/MER_FRS_1PPEPA20081005_095940_000005122072_00380_34502_5850.N1.txt\n",
      "970e4a|\u001b[1;32mOK\u001b[0m  |        n/a|participant-a/MER_FRS_1PPEPA20081006_092803_000005122072_00394_34516_5900.N1.txt\n",
      "bd1489|\u001b[1;32mOK\u001b[0m  |        n/a|participant-a/MER_FRS_1PPEPA20081009_093348_000005122072_00437_34559_6052.N1.txt\n",
      "7d6a61|\u001b[1;32mOK\u001b[0m  |        n/a|participant-a/MER_FRS_1PPEPA20081014_101748_000005182073_00008_34631_6328.N1.txt\n",
      "e61c84|\u001b[1;32mOK\u001b[0m  |        n/a|participant-a/MER_FRS_1PPEPA20081008_100525_000005122072_00423_34545_6000.N1.txt\n",
      "a3a1a1|\u001b[1;32mOK\u001b[0m  |        n/a|participant-a/MER_FRS_1PPEPA20081014_203030_000001852073_00014_34637_6349.N1.txt\n",
      "f284d8|\u001b[1;32mOK\u001b[0m  |        n/a|participant-a/MER_FRS_1PPEPA20081024_100232_000005122073_00151_34774_6791.N1.txt\n",
      "3ac8dd|\u001b[1;32mOK\u001b[0m  |        n/a|participant-a/MER_FRS_1PPEPA20081204_202714_000001882074_00243_35367_8469.N1.txt\n",
      "f3d7b4|\u001b[1;32mOK\u001b[0m  |        n/a|participant-a/MER_FRS_1PPEPA20090130_203612_000001882076_00057_36183_1119.N1.txt\n",
      "0b6620|\u001b[1;32mOK\u001b[0m  |        n/a|participant-a/MER_FRS_1PPEPA20081018_095102_000005122073_00065_34688_6517.N1.txt\n",
      "83249c|\u001b[1;32mOK\u001b[0m  |        n/a|participant-a/MER_FRS_1PPEPA20090219_095354_000005092076_00337_36463_1964.N1.txt\n",
      "a27bcf|\u001b[1;32mOK\u001b[0m  |        n/a|participant-a/MER_FRS_1PPEPA20090316_100816_000005092077_00194_36821_3151.N1.txt\n",
      "5f7621|\u001b[1;32mOK\u001b[0m  |        n/a|participant-a/MER_FRS_1PPEPA20090322_203322_000001882077_00286_36913_3469.N1.txt\n",
      "b1bea2|\u001b[1;32mOK\u001b[0m  |        n/a|participant-a/MER_FRS_1PPEPA20090311_092659_000005152077_00122_36749_2918.N1.txt\n",
      "99e9f3|\u001b[1;32mOK\u001b[0m  |        n/a|participant-a/MER_FRS_1PPEPA20090407_203027_000001882078_00014_37142_4263.N1.txt\n",
      "d279a4|\u001b[1;32mOK\u001b[0m  |        n/a|participant-a/MER_FRS_1PPEPA20090512_203030_000001882079_00014_37643_6023.N1.txt\n",
      "6dfefa|\u001b[1;32mOK\u001b[0m  |        n/a|participant-a/MER_FRS_1PPEPA20090424_094223_000005092078_00251_37379_5097.N1.txt\n",
      "1ae4f0|\u001b[1;32mOK\u001b[0m  |        n/a|participant-a/MER_FRS_1PPEPA20090507_093347_000005122078_00437_37565_5730.N1.txt\n",
      "3db6b4|\u001b[1;32mOK\u001b[0m  |        n/a|participant-a/MER_FRS_1PPEPA20090513_094517_000005122079_00022_37651_6069.N1.txt\n",
      "8381a3|\u001b[1;32mOK\u001b[0m  |        n/a|participant-a/MER_FRS_1PPEPA20090526_093842_000005122079_00208_37837_6752.N1.txt\n",
      "3ca9cc|\u001b[1;32mOK\u001b[0m  |        n/a|participant-a/MER_FRS_1PPEPA20090529_094225_000005092079_00251_37880_6909.N1.txt\n",
      "e34081|\u001b[1;32mOK\u001b[0m  |        n/a|participant-a/MER_FRS_1PPEPA20090616_203032_000001882080_00014_38144_7841.N1.txt\n",
      "4fd3e2|\u001b[1;32mOK\u001b[0m  |        n/a|participant-a/MER_FRS_1PPEPA20090721_203032_000001852081_00014_38645_9472.N1.txt\n",
      "d04ba5|\u001b[1;32mOK\u001b[0m  |        n/a|participant-a/MER_FRS_1PPEPA20090531_203324_000001882079_00286_37915_7044.N1.txt\n",
      "3e60e0|\u001b[1;32mOK\u001b[0m  |        n/a|participant-a/MER_FRS_1PPEPA20090809_203324_000001852081_00286_38917_0308.N1.txt\n",
      "a90315|\u001b[1;32mOK\u001b[0m  |        n/a|participant-a/MER_FRS_1PPEPA20090923_100446_000005092082_00423_39555_2431.N1.txt\n",
      "767f85|\u001b[1;32mOK\u001b[0m  |        n/a|participant-a/MER_FRS_1PPEPA20090908_093609_000005122082_00208_39340_1719.N1.txt\n",
      "c9c7b0|\u001b[1;32mOK\u001b[0m  |        n/a|participant-a/MER_FRS_1PPEPA20090817_092804_000005122081_00394_39025_0667.N1.txt\n",
      "968c7e|\u001b[1;32mOK\u001b[0m  |        n/a|participant-a/MER_FRS_1PPEPA20090929_203025_000001882083_00014_39647_2725.N1.txt\n",
      "a34376|\u001b[1;32mOK\u001b[0m  |        n/a|participant-a/MER_FRS_1PPEPA20090924_093315_000005092082_00437_39569_2479.N1.txt\n",
      "e463ea|\u001b[1;32mOK\u001b[0m  |        n/a|participant-a/MER_FRS_1PPEPA20091015_202611_000002222083_00243_39876_3403.N1.txt\n",
      "f3ccd1|\u001b[1;32mOK\u001b[0m  |        n/a|participant-a/MER_FRS_1PPEPA20091019_094806_000005092083_00294_39927_3565.N1.txt\n",
      "4de15f|\u001b[1;32mOK\u001b[0m  |        n/a|participant-a/MER_FRS_1PPEPA20100112_203025_000001882086_00014_41150_6448.N1.txt\n",
      "c5e06b|\u001b[1;32mOK\u001b[0m  |        n/a|participant-a/MER_FRS_1PPEPA20091016_094221_000005092083_00251_39884_3432.N1.txt\n",
      "8c197a|\u001b[1;32mOK\u001b[0m  |        n/a|participant-a/MER_FRS_1PPEPA20091028_100435_000005092083_00423_40056_3912.N1.txt\n",
      "136b29|\u001b[1;32mOK\u001b[0m  |        n/a|participant-a/MER_FRS_1PPEPA20100219_203609_000001852087_00057_41694_7825.N1.txt\n",
      "672581|\u001b[1;32mOK\u001b[0m  |        n/a|participant-a/MER_FRS_1PPEPA20100227_093003_000005092087_00165_41802_8164.N1.txt\n",
      "21c578|\u001b[1;32mOK\u001b[0m  |        n/a|participant-a/MER_FRS_1PPEPA20100131_203317_000001882086_00286_41422_7113.N1.txt\n",
      "d33928|\u001b[1;32mOK\u001b[0m  |        n/a|participant-a/MER_FRS_1PPEPA20100216_203023_000001852087_00014_41651_7692.N1.txt\n",
      "a4ab94|\u001b[1;32mOK\u001b[0m  |        n/a|participant-a/MER_FRS_1PPEPA20100203_203901_000001882086_00329_41465_7217.N1.txt\n",
      "6256e1|\u001b[1;32mOK\u001b[0m  |        n/a|participant-a/MER_FRS_1PPEPA20100328_092112_000005122088_00079_42217_9482.N1.txt\n",
      "9a5606|\u001b[1;32mOK\u001b[0m  |        n/a|participant-a/MER_FRS_1PPEPA20100524_092738_000005122089_00394_43033_2326.N1.txt\n",
      "d264a6|\u001b[1;32mOK\u001b[0m  |        n/a|participant-a/MER_FRS_1PPEPA20100818_092456_000005122092_00122_44264_6659.N1.txt\n",
      "957fb0|\u001b[1;32mOK\u001b[0m  |        n/a|participant-a/MER_FRS_1PPEPA20100429_091327_000005122089_00036_42675_1046.N1.txt\n",
      "77ede0|\u001b[1;32mOK\u001b[0m  |        n/a|participant-a/MER_FRS_1PPEPA20100518_091621_000005122089_00308_42947_2013.N1.txt\n",
      "041f77|\u001b[1;32mOK\u001b[0m  |        n/a|participant-a/MER_FRS_1PPEPA20100821_093120_000005122092_00165_44307_6802.N1.txt\n",
      "285833|\u001b[1;32mOK\u001b[0m  |        n/a|participant-a/MER_FRS_1PPEPA20100912_094327_000005122092_00480_44622_7896.N1.txt\n",
      "6ac358|\u001b[1;32mOK\u001b[0m  |        n/a|participant-a/MER_FRS_1PPEPA20100919_092125_000005122093_00079_44722_8212.N1.txt\n",
      "\n",
      "Status Legend:\n",
      "(OK):download completed.\n"
     ]
    }
   ],
   "source": [
    "!curl $run_meta | aria2c -d $participant -M -"
   ]
  },
  {
   "cell_type": "code",
   "execution_count": 18,
   "metadata": {
    "collapsed": false
   },
   "outputs": [],
   "source": [
    "path = participant # use your path\n",
    "\n",
    "allFiles = glob.glob(path + \"/*.txt\")\n",
    "frame = pd.DataFrame()\n",
    "list_ = []\n",
    "for file_ in allFiles:\n",
    "    df = pd.read_csv(file_,index_col=None, header=0)\n",
    "    list_.append(df)\n",
    "    frame = pd.concat(list_)"
   ]
  },
  {
   "cell_type": "code",
   "execution_count": 21,
   "metadata": {
    "collapsed": false
   },
   "outputs": [
    {
     "data": {
      "text/plain": [
       "449"
      ]
     },
     "execution_count": 21,
     "metadata": {},
     "output_type": "execute_result"
    }
   ],
   "source": [
    "len(frame.index)"
   ]
  },
  {
   "cell_type": "markdown",
   "metadata": {},
   "source": [
    "Number of points extracted from MERIS level 2 products"
   ]
  },
  {
   "cell_type": "markdown",
   "metadata": {},
   "source": [
    "### Calculate Pearson\n",
    "\n",
    "For all three sites, AAOT, BOUSSOLE and MOBY, calculate the Pearson factor for each band.\n",
    "\n",
    "> Note AAOT does not have measurements for band @510"
   ]
  },
  {
   "cell_type": "markdown",
   "metadata": {},
   "source": [
    "#### AAOT site"
   ]
  },
  {
   "cell_type": "code",
   "execution_count": 22,
   "metadata": {
    "collapsed": false
   },
   "outputs": [],
   "source": [
    "insitu_path = './insitu/AAOT.csv'\n",
    "insitu = pd.read_csv(insitu_path)\n",
    "frame_full = pd.DataFrame.merge(frame.query('Name == \"AAOT\"'), insitu, how='inner', on = ['Date', 'ORBIT'])"
   ]
  },
  {
   "cell_type": "code",
   "execution_count": 23,
   "metadata": {
    "collapsed": false
   },
   "outputs": [
    {
     "name": "stdout",
     "output_type": "stream",
     "text": [
      "102 observations for band @412\n"
     ]
    }
   ],
   "source": [
    "frame_xxx= frame_full[['reflec_1_mean', 'rho_wn_IS_412']].dropna()\n",
    "r_aaot_412 = pearsonr(frame_xxx.ix[:,0], frame_xxx.ix[:,1])[0] \n",
    "\n",
    "print(str(len(frame_xxx.index)) + \" observations for band @412\")"
   ]
  },
  {
   "cell_type": "code",
   "execution_count": 24,
   "metadata": {
    "collapsed": false
   },
   "outputs": [
    {
     "name": "stdout",
     "output_type": "stream",
     "text": [
      "102 observations for band @443\n"
     ]
    }
   ],
   "source": [
    "frame_xxx= frame_full[['reflec_2_mean', 'rho_wn_IS_443']].dropna()\n",
    "r_aaot_443 = pearsonr(frame_xxx.ix[:,0], frame_xxx.ix[:,1])[0] \n",
    "\n",
    "print(str(len(frame_xxx.index)) + \" observations for band @443\")"
   ]
  },
  {
   "cell_type": "code",
   "execution_count": 25,
   "metadata": {
    "collapsed": false
   },
   "outputs": [
    {
     "name": "stdout",
     "output_type": "stream",
     "text": [
      "102 observations for band @490\n"
     ]
    }
   ],
   "source": [
    "frame_xxx= frame_full[['reflec_3_mean', 'rho_wn_IS_490']].dropna()\n",
    "r_aaot_490 = pearsonr(frame_xxx.ix[:,0], frame_xxx.ix[:,1])[0] \n",
    "\n",
    "print(str(len(frame_xxx.index)) + \" observations for band @490\")"
   ]
  },
  {
   "cell_type": "code",
   "execution_count": 26,
   "metadata": {
    "collapsed": false
   },
   "outputs": [
    {
     "name": "stdout",
     "output_type": "stream",
     "text": [
      "0 observations for band @510\n"
     ]
    }
   ],
   "source": [
    "r_aaot_510 = 0\n",
    "print(\"0 observations for band @510\")"
   ]
  },
  {
   "cell_type": "code",
   "execution_count": 27,
   "metadata": {
    "collapsed": false
   },
   "outputs": [
    {
     "name": "stdout",
     "output_type": "stream",
     "text": [
      "102 observations for band @560\n"
     ]
    }
   ],
   "source": [
    "frame_xxx= frame_full[['reflec_5_mean', 'rho_wn_IS_560']].dropna()\n",
    "r_aaot_560 = pearsonr(frame_xxx.ix[:,0], frame_xxx.ix[:,1])[0] \n",
    "\n",
    "print(str(len(frame_xxx.index)) + \" observations for band @560\")"
   ]
  },
  {
   "cell_type": "code",
   "execution_count": 28,
   "metadata": {
    "collapsed": true
   },
   "outputs": [],
   "source": [
    "insitu_path = './insitu/BOUSS.csv'\n",
    "insitu = pd.read_csv(insitu_path)\n",
    "frame_full = pd.DataFrame.merge(frame.query('Name == \"BOUS\"'), insitu, how='inner', on = ['Date', 'ORBIT'])"
   ]
  },
  {
   "cell_type": "code",
   "execution_count": 29,
   "metadata": {
    "collapsed": false
   },
   "outputs": [
    {
     "name": "stdout",
     "output_type": "stream",
     "text": [
      "41 observations for band @412\n"
     ]
    }
   ],
   "source": [
    "frame_xxx= frame_full[['reflec_1_mean', 'rho_wn_IS_412']].dropna()\n",
    "r_bous_412 = pearsonr(frame_xxx.ix[:,0], frame_xxx.ix[:,1])[0] \n",
    "\n",
    "print(str(len(frame_xxx.index)) + \" observations for band @412\")"
   ]
  },
  {
   "cell_type": "code",
   "execution_count": 30,
   "metadata": {
    "collapsed": false
   },
   "outputs": [
    {
     "name": "stdout",
     "output_type": "stream",
     "text": [
      "106 observations for band @443\n"
     ]
    }
   ],
   "source": [
    "frame_xxx= frame_full[['reflec_2_mean', 'rho_wn_IS_443']].dropna()\n",
    "r_bous_443 = pearsonr(frame_xxx.ix[:,0], frame_xxx.ix[:,1])[0] \n",
    "\n",
    "print(str(len(frame_xxx.index)) + \" observations for band @443\")"
   ]
  },
  {
   "cell_type": "code",
   "execution_count": 31,
   "metadata": {
    "collapsed": false
   },
   "outputs": [
    {
     "name": "stdout",
     "output_type": "stream",
     "text": [
      "110 observations for band @490\n"
     ]
    }
   ],
   "source": [
    "frame_xxx= frame_full[['reflec_3_mean', 'rho_wn_IS_490']].dropna()\n",
    "r_bous_490 = pearsonr(frame_xxx.ix[:,0], frame_xxx.ix[:,1])[0] \n",
    "\n",
    "print(str(len(frame_xxx.index)) + \" observations for band @490\")"
   ]
  },
  {
   "cell_type": "code",
   "execution_count": 32,
   "metadata": {
    "collapsed": false
   },
   "outputs": [
    {
     "name": "stdout",
     "output_type": "stream",
     "text": [
      "104 observations for band @510\n"
     ]
    }
   ],
   "source": [
    "frame_xxx= frame_full[['reflec_4_mean', 'rho_wn_IS_510']].dropna()\n",
    "r_bous_510 = pearsonr(frame_xxx.ix[:,0], frame_xxx.ix[:,1])[0]\n",
    "\n",
    "print(str(len(frame_xxx.index)) + \" observations for band @510\")"
   ]
  },
  {
   "cell_type": "code",
   "execution_count": 33,
   "metadata": {
    "collapsed": false
   },
   "outputs": [
    {
     "name": "stdout",
     "output_type": "stream",
     "text": [
      "97 observations for band @560\n"
     ]
    }
   ],
   "source": [
    "frame_xxx= frame_full[['reflec_5_mean', 'rho_wn_IS_560']].dropna()\n",
    "r_bous_560 = pearsonr(frame_xxx.ix[:,0], frame_xxx.ix[:,1])[0]\n",
    "\n",
    "print(str(len(frame_xxx.index)) + \" observations for band @560\")"
   ]
  },
  {
   "cell_type": "code",
   "execution_count": 34,
   "metadata": {
    "collapsed": true
   },
   "outputs": [],
   "source": [
    "insitu_path = './insitu/MOBY.csv'\n",
    "insitu = pd.read_csv(insitu_path)\n",
    "frame_full = pd.DataFrame.merge(frame.query('Name == \"MOBY\"'), insitu, how='inner', on = ['Date', 'ORBIT'])"
   ]
  },
  {
   "cell_type": "code",
   "execution_count": 35,
   "metadata": {
    "collapsed": false
   },
   "outputs": [
    {
     "name": "stdout",
     "output_type": "stream",
     "text": [
      "98 observations for band @12\n"
     ]
    }
   ],
   "source": [
    "frame_xxx= frame_full[['reflec_1_mean', 'rho_wn_IS_412']].dropna()\n",
    "r_moby_412 = pearsonr(frame_xxx.ix[:,0], frame_xxx.ix[:,1])[0] \n",
    "\n",
    "print(str(len(frame_xxx.index)) + \" observations for band @12\")"
   ]
  },
  {
   "cell_type": "code",
   "execution_count": 36,
   "metadata": {
    "collapsed": false
   },
   "outputs": [
    {
     "name": "stdout",
     "output_type": "stream",
     "text": [
      "98 observations for band @443\n"
     ]
    }
   ],
   "source": [
    "frame_xxx= frame_full[['reflec_2_mean', 'rho_wn_IS_443']].dropna()\n",
    "r_moby_443 = pearsonr(frame_xxx.ix[:,0], frame_xxx.ix[:,1])[0] \n",
    "\n",
    "print(str(len(frame_xxx.index)) + \" observations for band @443\")"
   ]
  },
  {
   "cell_type": "code",
   "execution_count": 37,
   "metadata": {
    "collapsed": false
   },
   "outputs": [
    {
     "name": "stdout",
     "output_type": "stream",
     "text": [
      "98 observations for band @490\n"
     ]
    }
   ],
   "source": [
    "frame_xxx= frame_full[['reflec_3_mean', 'rho_wn_IS_490']].dropna()\n",
    "r_moby_490 = pearsonr(frame_xxx.ix[:,0], frame_xxx.ix[:,1])[0]\n",
    "\n",
    "print(str(len(frame_xxx.index)) + \" observations for band @490\")"
   ]
  },
  {
   "cell_type": "code",
   "execution_count": 38,
   "metadata": {
    "collapsed": false
   },
   "outputs": [
    {
     "name": "stdout",
     "output_type": "stream",
     "text": [
      "98 observations for band @510\n"
     ]
    }
   ],
   "source": [
    "frame_xxx= frame_full[['reflec_4_mean', 'rho_wn_IS_510']].dropna()\n",
    "r_moby_510 = pearsonr(frame_xxx.ix[:,0], frame_xxx.ix[:,1])[0] \n",
    "\n",
    "print(str(len(frame_xxx.index)) + \" observations for band @510\")"
   ]
  },
  {
   "cell_type": "code",
   "execution_count": 39,
   "metadata": {
    "collapsed": false
   },
   "outputs": [
    {
     "name": "stdout",
     "output_type": "stream",
     "text": [
      "98 observations for band @560\n"
     ]
    }
   ],
   "source": [
    "frame_xxx= frame_full[['reflec_5_mean', 'rho_wn_IS_560']].dropna()\n",
    "r_moby_560 = pearsonr(frame_xxx.ix[:,0], frame_xxx.ix[:,1])[0] \n",
    "\n",
    "print(str(len(frame_xxx.index)) + \" observations for band @560\")"
   ]
  },
  {
   "cell_type": "code",
   "execution_count": 40,
   "metadata": {
    "collapsed": false
   },
   "outputs": [
    {
     "data": {
      "text/plain": [
       "[0.16366108572185942,\n",
       " 0.26167124832315386,\n",
       " 0.39148735552720865,\n",
       " 0,\n",
       " 0.49337186551964107]"
      ]
     },
     "execution_count": 40,
     "metadata": {},
     "output_type": "execute_result"
    }
   ],
   "source": [
    "[r_aaot_412, r_aaot_443, r_aaot_490, r_aaot_510, r_aaot_560]"
   ]
  },
  {
   "cell_type": "code",
   "execution_count": 41,
   "metadata": {
    "collapsed": false
   },
   "outputs": [
    {
     "data": {
      "text/plain": [
       "[0.24472758898022123,\n",
       " -0.023332861199124075,\n",
       " -0.015235485257105009,\n",
       " 0.048437032013558215,\n",
       " 0.032593285908755237]"
      ]
     },
     "execution_count": 41,
     "metadata": {},
     "output_type": "execute_result"
    }
   ],
   "source": [
    "[r_bous_412, r_bous_443, r_bous_490, r_bous_510, r_bous_560]\n"
   ]
  },
  {
   "cell_type": "code",
   "execution_count": 42,
   "metadata": {
    "collapsed": false
   },
   "outputs": [
    {
     "data": {
      "text/plain": [
       "[0.14747632955835629,\n",
       " 0.11532502299026942,\n",
       " 0.095280597924832955,\n",
       " 0.08046228246258158,\n",
       " 0.076766049341615517]"
      ]
     },
     "execution_count": 42,
     "metadata": {},
     "output_type": "execute_result"
    }
   ],
   "source": [
    "[r_moby_412, r_moby_443, r_moby_490, r_moby_510, r_moby_560]"
   ]
  },
  {
   "cell_type": "code",
   "execution_count": 43,
   "metadata": {
    "collapsed": false
   },
   "outputs": [
    {
     "data": {
      "text/plain": [
       "0.13455384098548506"
      ]
     },
     "execution_count": 43,
     "metadata": {},
     "output_type": "execute_result"
    }
   ],
   "source": [
    "r_final = (numpy.mean([r_bous_412, r_moby_412, r_aaot_412]) * w_412 \\\n",
    "    + numpy.mean([r_bous_443, r_moby_443, r_aaot_443]) * w_443 \\\n",
    "    + numpy.mean([r_bous_490, r_moby_490, r_aaot_490]) * w_490 \\\n",
    "    + numpy.mean([r_bous_510, r_moby_510, r_aaot_510]) * w_510 \\\n",
    "    + numpy.mean([r_bous_560, r_moby_560, r_aaot_560]) * w_560) \\\n",
    "    / (w_412 + w_443 + w_490 + w_510 + w_560)\n",
    "\n",
    "r_final"
   ]
  },
  {
   "cell_type": "code",
   "execution_count": null,
   "metadata": {
    "collapsed": true
   },
   "outputs": [],
   "source": []
  },
  {
   "cell_type": "code",
   "execution_count": null,
   "metadata": {
    "collapsed": true
   },
   "outputs": [],
   "source": []
  }
 ],
 "metadata": {
  "kernelspec": {
   "display_name": "Python 2",
   "language": "python",
   "name": "python2"
  },
  "language_info": {
   "codemirror_mode": {
    "name": "ipython",
    "version": 2
   },
   "file_extension": ".py",
   "mimetype": "text/x-python",
   "name": "python",
   "nbconvert_exporter": "python",
   "pygments_lexer": "ipython2",
   "version": "2.7.10"
  }
 },
 "nbformat": 4,
 "nbformat_minor": 0
}
